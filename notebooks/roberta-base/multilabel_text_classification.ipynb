{
  "cells": [
    {
      "cell_type": "markdown",
      "metadata": {
        "id": "tr_Pwjbd8kI8"
      },
      "source": [
        "# Multilabel Classification"
      ]
    },
    {
      "cell_type": "markdown",
      "metadata": {
        "id": "mnNEuA7d8pXL"
      },
      "source": [
        "In multi-label classification, each sample can have multiple labels associated with it, as opposed to the traditional single-label classification where each sample can have only one label associated with it. <br/>\n",
        "\n",
        "This means that the output of a multi-label classifier is an array of probabilities, one for each label, indicating the probability of the input sample belonging to each label."
      ]
    },
    {
      "cell_type": "markdown",
      "metadata": {
        "id": "BMEIDP938McA"
      },
      "source": [
        "## Setting Up"
      ]
    },
    {
      "cell_type": "code",
      "source": [
        "!nvidia-smi"
      ],
      "metadata": {
        "id": "yiylHnyjg_Cg",
        "colab": {
          "base_uri": "https://localhost:8080/"
        },
        "outputId": "a458b1e6-205c-4ada-9173-182a4081ae08"
      },
      "execution_count": 1,
      "outputs": [
        {
          "output_type": "stream",
          "name": "stdout",
          "text": [
            "Sat Jun 29 17:32:00 2024       \n",
            "+---------------------------------------------------------------------------------------+\n",
            "| NVIDIA-SMI 535.104.05             Driver Version: 535.104.05   CUDA Version: 12.2     |\n",
            "|-----------------------------------------+----------------------+----------------------+\n",
            "| GPU  Name                 Persistence-M | Bus-Id        Disp.A | Volatile Uncorr. ECC |\n",
            "| Fan  Temp   Perf          Pwr:Usage/Cap |         Memory-Usage | GPU-Util  Compute M. |\n",
            "|                                         |                      |               MIG M. |\n",
            "|=========================================+======================+======================|\n",
            "|   0  Tesla T4                       Off | 00000000:00:04.0 Off |                    0 |\n",
            "| N/A   61C    P8              10W /  70W |      0MiB / 15360MiB |      0%      Default |\n",
            "|                                         |                      |                  N/A |\n",
            "+-----------------------------------------+----------------------+----------------------+\n",
            "                                                                                         \n",
            "+---------------------------------------------------------------------------------------+\n",
            "| Processes:                                                                            |\n",
            "|  GPU   GI   CI        PID   Type   Process name                            GPU Memory |\n",
            "|        ID   ID                                                             Usage      |\n",
            "|=======================================================================================|\n",
            "|  No running processes found                                                           |\n",
            "+---------------------------------------------------------------------------------------+\n"
          ]
        }
      ]
    },
    {
      "cell_type": "code",
      "source": [
        "%reload_ext autoreload\n",
        "%autoreload 2\n",
        "%matplotlib inline"
      ],
      "metadata": {
        "id": "zBdMBBuvhAqw"
      },
      "execution_count": 2,
      "outputs": []
    },
    {
      "cell_type": "code",
      "source": [
        "! pip install -q transformers[sentencepiece] fastbook fastai ohmeow-blurr nbdev"
      ],
      "metadata": {
        "id": "gyTZSEjXhDOx",
        "colab": {
          "base_uri": "https://localhost:8080/"
        },
        "outputId": "5154bf35-3dc4-455b-8e7e-c1189c73206d"
      },
      "execution_count": 3,
      "outputs": [
        {
          "output_type": "stream",
          "name": "stdout",
          "text": [
            "\u001b[2K     \u001b[90m━━━━━━━━━━━━━━━━━━━━━━━━━━━━━━━━━━━━━━━━\u001b[0m \u001b[32m719.8/719.8 kB\u001b[0m \u001b[31m3.9 MB/s\u001b[0m eta \u001b[36m0:00:00\u001b[0m\n",
            "\u001b[2K     \u001b[90m━━━━━━━━━━━━━━━━━━━━━━━━━━━━━━━━━━━━━━━━\u001b[0m \u001b[32m81.1/81.1 kB\u001b[0m \u001b[31m8.5 MB/s\u001b[0m eta \u001b[36m0:00:00\u001b[0m\n",
            "\u001b[2K     \u001b[90m━━━━━━━━━━━━━━━━━━━━━━━━━━━━━━━━━━━━━━━━\u001b[0m \u001b[32m67.1/67.1 kB\u001b[0m \u001b[31m3.4 MB/s\u001b[0m eta \u001b[36m0:00:00\u001b[0m\n",
            "\u001b[2K     \u001b[90m━━━━━━━━━━━━━━━━━━━━━━━━━━━━━━━━━━━━━━━━\u001b[0m \u001b[32m547.8/547.8 kB\u001b[0m \u001b[31m12.8 MB/s\u001b[0m eta \u001b[36m0:00:00\u001b[0m\n",
            "\u001b[2K     \u001b[90m━━━━━━━━━━━━━━━━━━━━━━━━━━━━━━━━━━━━━━━━\u001b[0m \u001b[32m887.5/887.5 MB\u001b[0m \u001b[31m871.3 kB/s\u001b[0m eta \u001b[36m0:00:00\u001b[0m\n",
            "\u001b[2K     \u001b[90m━━━━━━━━━━━━━━━━━━━━━━━━━━━━━━━━━━━━━━━━\u001b[0m \u001b[32m43.6/43.6 kB\u001b[0m \u001b[31m5.2 MB/s\u001b[0m eta \u001b[36m0:00:00\u001b[0m\n",
            "\u001b[?25h  Preparing metadata (setup.py) ... \u001b[?25l\u001b[?25hdone\n",
            "  Preparing metadata (setup.py) ... \u001b[?25l\u001b[?25hdone\n",
            "\u001b[2K     \u001b[90m━━━━━━━━━━━━━━━━━━━━━━━━━━━━━━━━━━━━━━━━\u001b[0m \u001b[32m60.8/60.8 kB\u001b[0m \u001b[31m9.0 MB/s\u001b[0m eta \u001b[36m0:00:00\u001b[0m\n",
            "\u001b[2K     \u001b[90m━━━━━━━━━━━━━━━━━━━━━━━━━━━━━━━━━━━━━━━━\u001b[0m \u001b[32m83.0/83.0 kB\u001b[0m \u001b[31m8.8 MB/s\u001b[0m eta \u001b[36m0:00:00\u001b[0m\n",
            "\u001b[2K     \u001b[90m━━━━━━━━━━━━━━━━━━━━━━━━━━━━━━━━━━━━━━━━\u001b[0m \u001b[32m849.3/849.3 kB\u001b[0m \u001b[31m54.5 MB/s\u001b[0m eta \u001b[36m0:00:00\u001b[0m\n",
            "\u001b[2K     \u001b[90m━━━━━━━━━━━━━━━━━━━━━━━━━━━━━━━━━━━━━━━━\u001b[0m \u001b[32m557.1/557.1 MB\u001b[0m \u001b[31m2.4 MB/s\u001b[0m eta \u001b[36m0:00:00\u001b[0m\n",
            "\u001b[2K     \u001b[90m━━━━━━━━━━━━━━━━━━━━━━━━━━━━━━━━━━━━━━━━\u001b[0m \u001b[32m317.1/317.1 MB\u001b[0m \u001b[31m2.1 MB/s\u001b[0m eta \u001b[36m0:00:00\u001b[0m\n",
            "\u001b[2K     \u001b[90m━━━━━━━━━━━━━━━━━━━━━━━━━━━━━━━━━━━━━━━━\u001b[0m \u001b[32m21.0/21.0 MB\u001b[0m \u001b[31m67.3 MB/s\u001b[0m eta \u001b[36m0:00:00\u001b[0m\n",
            "\u001b[2K     \u001b[90m━━━━━━━━━━━━━━━━━━━━━━━━━━━━━━━━━━━━━━━━\u001b[0m \u001b[32m7.0/7.0 MB\u001b[0m \u001b[31m77.7 MB/s\u001b[0m eta \u001b[36m0:00:00\u001b[0m\n",
            "\u001b[2K     \u001b[90m━━━━━━━━━━━━━━━━━━━━━━━━━━━━━━━━━━━━━━━━\u001b[0m \u001b[32m7.0/7.0 MB\u001b[0m \u001b[31m70.4 MB/s\u001b[0m eta \u001b[36m0:00:00\u001b[0m\n",
            "\u001b[2K     \u001b[90m━━━━━━━━━━━━━━━━━━━━━━━━━━━━━━━━━━━━━━━━\u001b[0m \u001b[32m6.9/6.9 MB\u001b[0m \u001b[31m71.3 MB/s\u001b[0m eta \u001b[36m0:00:00\u001b[0m\n",
            "\u001b[2K     \u001b[90m━━━━━━━━━━━━━━━━━━━━━━━━━━━━━━━━━━━━━━━━\u001b[0m \u001b[32m6.9/6.9 MB\u001b[0m \u001b[31m114.5 MB/s\u001b[0m eta \u001b[36m0:00:00\u001b[0m\n",
            "\u001b[2K     \u001b[90m━━━━━━━━━━━━━━━━━━━━━━━━━━━━━━━━━━━━━━━━\u001b[0m \u001b[32m6.9/6.9 MB\u001b[0m \u001b[31m101.3 MB/s\u001b[0m eta \u001b[36m0:00:00\u001b[0m\n",
            "\u001b[2K     \u001b[90m━━━━━━━━━━━━━━━━━━━━━━━━━━━━━━━━━━━━━━━━\u001b[0m \u001b[32m6.8/6.8 MB\u001b[0m \u001b[31m89.5 MB/s\u001b[0m eta \u001b[36m0:00:00\u001b[0m\n",
            "\u001b[2K     \u001b[90m━━━━━━━━━━━━━━━━━━━━━━━━━━━━━━━━━━━━━━━━\u001b[0m \u001b[32m6.8/6.8 MB\u001b[0m \u001b[31m112.5 MB/s\u001b[0m eta \u001b[36m0:00:00\u001b[0m\n",
            "\u001b[2K     \u001b[90m━━━━━━━━━━━━━━━━━━━━━━━━━━━━━━━━━━━━━━━━\u001b[0m \u001b[32m6.9/6.9 MB\u001b[0m \u001b[31m104.2 MB/s\u001b[0m eta \u001b[36m0:00:00\u001b[0m\n",
            "\u001b[2K     \u001b[90m━━━━━━━━━━━━━━━━━━━━━━━━━━━━━━━━━━━━━━━━\u001b[0m \u001b[32m6.0/6.0 MB\u001b[0m \u001b[31m111.0 MB/s\u001b[0m eta \u001b[36m0:00:00\u001b[0m\n",
            "\u001b[2K     \u001b[90m━━━━━━━━━━━━━━━━━━━━━━━━━━━━━━━━━━━━━━━━\u001b[0m \u001b[32m6.0/6.0 MB\u001b[0m \u001b[31m97.5 MB/s\u001b[0m eta \u001b[36m0:00:00\u001b[0m\n",
            "\u001b[2K     \u001b[90m━━━━━━━━━━━━━━━━━━━━━━━━━━━━━━━━━━━━━━━━\u001b[0m \u001b[32m24.2/24.2 MB\u001b[0m \u001b[31m13.3 MB/s\u001b[0m eta \u001b[36m0:00:00\u001b[0m\n",
            "\u001b[2K     \u001b[90m━━━━━━━━━━━━━━━━━━━━━━━━━━━━━━━━━━━━━━━━\u001b[0m \u001b[32m40.8/40.8 MB\u001b[0m \u001b[31m15.8 MB/s\u001b[0m eta \u001b[36m0:00:00\u001b[0m\n",
            "\u001b[2K     \u001b[90m━━━━━━━━━━━━━━━━━━━━━━━━━━━━━━━━━━━━━━━━\u001b[0m \u001b[32m116.3/116.3 kB\u001b[0m \u001b[31m13.2 MB/s\u001b[0m eta \u001b[36m0:00:00\u001b[0m\n",
            "\u001b[2K     \u001b[90m━━━━━━━━━━━━━━━━━━━━━━━━━━━━━━━━━━━━━━━━\u001b[0m \u001b[32m64.9/64.9 kB\u001b[0m \u001b[31m7.1 MB/s\u001b[0m eta \u001b[36m0:00:00\u001b[0m\n",
            "\u001b[2K     \u001b[90m━━━━━━━━━━━━━━━━━━━━━━━━━━━━━━━━━━━━━━━━\u001b[0m \u001b[32m194.1/194.1 kB\u001b[0m \u001b[31m12.8 MB/s\u001b[0m eta \u001b[36m0:00:00\u001b[0m\n",
            "\u001b[2K     \u001b[90m━━━━━━━━━━━━━━━━━━━━━━━━━━━━━━━━━━━━━━━━\u001b[0m \u001b[32m134.8/134.8 kB\u001b[0m \u001b[31m12.5 MB/s\u001b[0m eta \u001b[36m0:00:00\u001b[0m\n",
            "\u001b[2K     \u001b[90m━━━━━━━━━━━━━━━━━━━━━━━━━━━━━━━━━━━━━━━━\u001b[0m \u001b[32m1.6/1.6 MB\u001b[0m \u001b[31m86.9 MB/s\u001b[0m eta \u001b[36m0:00:00\u001b[0m\n",
            "\u001b[?25h  Building wheel for rouge-score (setup.py) ... \u001b[?25l\u001b[?25hdone\n",
            "  Building wheel for seqeval (setup.py) ... \u001b[?25l\u001b[?25hdone\n",
            "\u001b[31mERROR: pip's dependency resolver does not currently take into account all the packages that are installed. This behaviour is the source of the following dependency conflicts.\n",
            "cudf-cu12 24.4.1 requires pyarrow<15.0.0a0,>=14.0.1, but you have pyarrow 16.1.0 which is incompatible.\n",
            "google-colab 1.0.0 requires requests==2.31.0, but you have requests 2.32.3 which is incompatible.\n",
            "ibis-framework 8.0.0 requires pyarrow<16,>=2, but you have pyarrow 16.1.0 which is incompatible.\n",
            "torchaudio 2.3.0+cu121 requires torch==2.3.0, but you have torch 1.13.1 which is incompatible.\n",
            "torchtext 0.18.0 requires torch>=2.3.0, but you have torch 1.13.1 which is incompatible.\u001b[0m\u001b[31m\n",
            "\u001b[0m"
          ]
        }
      ]
    },
    {
      "cell_type": "code",
      "execution_count": 4,
      "metadata": {
        "colab": {
          "base_uri": "https://localhost:8080/",
          "height": 205,
          "referenced_widgets": [
            "2ccd8683d7354534a2582ff66386469c",
            "dd6c75c7c14b4ceab4820f79f763dbfd",
            "afdfb0a2eefc41bb82d307e80e944fdd",
            "d2ab901e477c4418831a324a5d90efc8",
            "e1561f52a1d74a6d890593ef9d51173b",
            "c299780fddcb482fbb1f46a163bb47e8",
            "002cd0332b224468a7c767cc23c474d9",
            "1b16a2ae6c604dddbd2811f5d65dcf74",
            "ca31bc28a55441da96ede86f06a02c1b",
            "47b8beec718c45e38832f2dfdab1a28e",
            "c855e6db96354e1b9b53d8de090556b1",
            "e9a25aae9c054060b8e3fe22412e0783",
            "185ecb849fb743e8b1b4c1cb9c13769a",
            "d65bf2e16817421282e89adee84580d1",
            "6d0e3d935e3e4592b37233667a2d5011",
            "2d101a056880412bbedee94d31e39419",
            "7e011ef8c8764bdbba36bb0af3de00dd",
            "0ac7960856e345c2a4621c5a3768e73e",
            "1bfe8f7f99ac434fba62078714b42a30",
            "9cd4f321c7374d0fb64033175f5378c5",
            "a7124f3a30974460aed9bf5095956b92",
            "ad86e39edcd74483b59aacd082861ef4"
          ]
        },
        "id": "IE1vSUJf9Fxb",
        "outputId": "b596987b-a8a0-4273-ec7c-53d9225ca61e"
      },
      "outputs": [
        {
          "output_type": "stream",
          "name": "stderr",
          "text": [
            "/usr/local/lib/python3.10/dist-packages/blurr/text/modeling/question_answering.py:31: FutureWarning: load_metric is deprecated and will be removed in the next major version of datasets. Use 'evaluate.load' instead, from the new library 🤗 Evaluate: https://huggingface.co/docs/evaluate\n",
            "  squad_metric = load_metric(\"squad\")\n"
          ]
        },
        {
          "output_type": "display_data",
          "data": {
            "text/plain": [
              "Downloading builder script:   0%|          | 0.00/1.72k [00:00<?, ?B/s]"
            ],
            "application/vnd.jupyter.widget-view+json": {
              "version_major": 2,
              "version_minor": 0,
              "model_id": "2ccd8683d7354534a2582ff66386469c"
            }
          },
          "metadata": {}
        },
        {
          "output_type": "display_data",
          "data": {
            "text/plain": [
              "Downloading extra modules:   0%|          | 0.00/1.11k [00:00<?, ?B/s]"
            ],
            "application/vnd.jupyter.widget-view+json": {
              "version_major": 2,
              "version_minor": 0,
              "model_id": "e9a25aae9c054060b8e3fe22412e0783"
            }
          },
          "metadata": {}
        },
        {
          "name": "stdout",
          "output_type": "stream",
          "text": [
            "The repository for squad contains custom code which must be executed to correctly load the dataset. You can inspect the repository content at https://hf.co/datasets/squad.\n",
            "You can avoid this prompt in future by passing the argument `trust_remote_code=True`.\n",
            "\n",
            "Do you wish to run the custom code? [y/N] y\n"
          ]
        }
      ],
      "source": [
        "import torch\n",
        "import pandas as pd\n",
        "from transformers import AutoModelForSequenceClassification, AutoConfig\n",
        "from fastai.text.all import *\n",
        "from blurr.text.data.all import *\n",
        "from blurr.text.modeling.all import *"
      ]
    },
    {
      "cell_type": "code",
      "source": [
        "from google.colab import drive\n",
        "drive.mount('/content/drive')"
      ],
      "metadata": {
        "id": "m43i2OwwhL7W",
        "colab": {
          "base_uri": "https://localhost:8080/"
        },
        "outputId": "65cb0b43-f986-4b05-ac44-2abcca8bbcc6"
      },
      "execution_count": 5,
      "outputs": [
        {
          "output_type": "stream",
          "name": "stdout",
          "text": [
            "Mounted at /content/drive\n"
          ]
        }
      ]
    },
    {
      "cell_type": "code",
      "source": [
        "%cd /content/drive/MyDrive/StackExchange-Scifi-Tags-Classifier/notebooks/roberta-base/"
      ],
      "metadata": {
        "id": "9nQBuk0bhMgu",
        "colab": {
          "base_uri": "https://localhost:8080/"
        },
        "outputId": "c1c56cc9-33f4-45e8-c00b-efb2bc27ba27"
      },
      "execution_count": 6,
      "outputs": [
        {
          "output_type": "stream",
          "name": "stdout",
          "text": [
            "/content/drive/MyDrive/StackExchange-Scifi-Tags-Classifier/notebooks/roberta-base\n"
          ]
        }
      ]
    },
    {
      "cell_type": "markdown",
      "metadata": {
        "id": "2BdMKFKo_NBc"
      },
      "source": [
        "## Data"
      ]
    },
    {
      "cell_type": "code",
      "execution_count": 7,
      "metadata": {
        "colab": {
          "base_uri": "https://localhost:8080/",
          "height": 622
        },
        "id": "EYyD3GF5_Na8",
        "outputId": "920157e9-b501-4f48-e7a9-778c74442f73"
      },
      "outputs": [
        {
          "output_type": "execute_result",
          "data": {
            "text/plain": [
              "                                                                            title  \\\n",
              "0                             Would the One Ring even work for anyone but Sauron?   \n",
              "1                                  Could I fake death to stop being Force-choked?   \n",
              "2                                                   Who or what was Tom Bombadil?   \n",
              "3  Why don&#39;t Muggle-born wizards use Muggle technology to fight Death Eaters?   \n",
              "4                                        Story where the number 3 is the monster?   \n",
              "\n",
              "                                                                                                                       url  \\\n",
              "0                       https://scifi.stackexchange.com/questions/48180/would-the-one-ring-even-work-for-anyone-but-sauron   \n",
              "1                           https://scifi.stackexchange.com/questions/102822/could-i-fake-death-to-stop-being-force-choked   \n",
              "2                                              https://scifi.stackexchange.com/questions/1586/who-or-what-was-tom-bombadil   \n",
              "3  https://scifi.stackexchange.com/questions/2611/why-dont-muggle-born-wizards-use-muggle-technology-to-fight-death-eaters   \n",
              "4                                   https://scifi.stackexchange.com/questions/2937/story-where-the-number-3-is-the-monster   \n",
              "\n",
              "                                                                                                                                                                                                                                                                                                                                                                                                                                                                                                                                                                                                               description  \\\n",
              "0  The temptation of the One Ring, we quickly learn, is always tied up with power: each character's fantasies of possessing it seem to be about what they would do with great power. Even Sam, as I recall, imagines the power to create great huge sweeping gardens. Boromir wants the power to save Gondor, etc.\\nBut does the One Ring actually convey power to anyone but Sauron? It actually seems to diminish its bearers: Bilbo feels \"thin\" and \"stretched\", Sméagol becomes the wretched Gollum, Frodo is never quite the same even after it is destroyed. None of them seem more \"powerful,\" even in the abst...   \n",
              "1  I work for a large government organization. My boss is a total jerk who abuses those working under him. I've tried contacting HR before but they won't do anything about him.\\nAnyways, I screwed up again. My jerk boss is going to be super pissed.\\nI came out of hyperspace too close to some stupid planet and the rebels were able to detect us. It's not a big deal really but he'll make a big thing about it like he always does when something isn't his fault. If it were his f- up, he would say something like 'I meant to do that' or 'It went exactly as I had foreseen it' — yeah right.\\nI'm going ...   \n",
              "2                                                                                                                                                                                                                                                                                                                                                                                                                                              The most iconic of Middle-earth questions:\\nWho or what was Tom Bombadil?\\nWas he an elf? Was he akin to Gandalf, and one of the wizardly stock?  Was he something… else?\\n   \n",
              "3  We know that wizards in the Harry Potter universe are subject to regular physical harm (e.g. witness injuries from being hit by Bludgers or just colliding with things when playing Quidditch).\\nTherefore, it's almost a certainty that an average wizard would be vulnerable to, say, a bunch of bullets. \\nThere may likely be spell(s) to protect from projectiles - witness Dumbledore's shield deployed when Voldemort sent a bunch of glass at him during the Duel in the Ministry Atrium at the end of Harry Potter and the Order of the Phoenix (according to Wikia, possibly an unusually powerful Protego...   \n",
              "4     I remember as a child (in the nineties) reading a story where the narrator was a little boy and how he was scared only twice a day – when the clock read 3:33. The 3's would be powerful enough (there were three of them at 3:33) to leave the clock in the boy's room for one minute and do what they want. They terrified the boy for that one minute they were free.  \\nI don't think it was R.L. Stine, but I cannot remember the author.\\nUpdate: It definitely wasn't R.L Stine, but the story was in a similar style.\\nI know it was only a 15-20 page story, so maybe it was in a short story collection?\\n   \n",
              "\n",
              "                                                                tags  \n",
              "0  ['the-lord-of-the-rings', 'tolkiens-legendarium', 'the-one-ring']  \n",
              "1              ['star-wars', 'the-force', 'the-empire-strikes-back']  \n",
              "2  ['the-lord-of-the-rings', 'tolkiens-legendarium', 'tom-bombadil']  \n",
              "3                                     ['harry-potter', 'technology']  \n",
              "4                          ['story-identification', 'short-stories']  "
            ],
            "text/html": [
              "\n",
              "  <div id=\"df-5d0c068d-68b4-4ae9-bf71-a4e6aa56cf40\" class=\"colab-df-container\">\n",
              "    <div>\n",
              "<style scoped>\n",
              "    .dataframe tbody tr th:only-of-type {\n",
              "        vertical-align: middle;\n",
              "    }\n",
              "\n",
              "    .dataframe tbody tr th {\n",
              "        vertical-align: top;\n",
              "    }\n",
              "\n",
              "    .dataframe thead th {\n",
              "        text-align: right;\n",
              "    }\n",
              "</style>\n",
              "<table border=\"1\" class=\"dataframe\">\n",
              "  <thead>\n",
              "    <tr style=\"text-align: right;\">\n",
              "      <th></th>\n",
              "      <th>title</th>\n",
              "      <th>url</th>\n",
              "      <th>description</th>\n",
              "      <th>tags</th>\n",
              "    </tr>\n",
              "  </thead>\n",
              "  <tbody>\n",
              "    <tr>\n",
              "      <th>0</th>\n",
              "      <td>Would the One Ring even work for anyone but Sauron?</td>\n",
              "      <td>https://scifi.stackexchange.com/questions/48180/would-the-one-ring-even-work-for-anyone-but-sauron</td>\n",
              "      <td>The temptation of the One Ring, we quickly learn, is always tied up with power: each character's fantasies of possessing it seem to be about what they would do with great power. Even Sam, as I recall, imagines the power to create great huge sweeping gardens. Boromir wants the power to save Gondor, etc.\\nBut does the One Ring actually convey power to anyone but Sauron? It actually seems to diminish its bearers: Bilbo feels \"thin\" and \"stretched\", Sméagol becomes the wretched Gollum, Frodo is never quite the same even after it is destroyed. None of them seem more \"powerful,\" even in the abst...</td>\n",
              "      <td>['the-lord-of-the-rings', 'tolkiens-legendarium', 'the-one-ring']</td>\n",
              "    </tr>\n",
              "    <tr>\n",
              "      <th>1</th>\n",
              "      <td>Could I fake death to stop being Force-choked?</td>\n",
              "      <td>https://scifi.stackexchange.com/questions/102822/could-i-fake-death-to-stop-being-force-choked</td>\n",
              "      <td>I work for a large government organization. My boss is a total jerk who abuses those working under him. I've tried contacting HR before but they won't do anything about him.\\nAnyways, I screwed up again. My jerk boss is going to be super pissed.\\nI came out of hyperspace too close to some stupid planet and the rebels were able to detect us. It's not a big deal really but he'll make a big thing about it like he always does when something isn't his fault. If it were his f- up, he would say something like 'I meant to do that' or 'It went exactly as I had foreseen it' — yeah right.\\nI'm going ...</td>\n",
              "      <td>['star-wars', 'the-force', 'the-empire-strikes-back']</td>\n",
              "    </tr>\n",
              "    <tr>\n",
              "      <th>2</th>\n",
              "      <td>Who or what was Tom Bombadil?</td>\n",
              "      <td>https://scifi.stackexchange.com/questions/1586/who-or-what-was-tom-bombadil</td>\n",
              "      <td>The most iconic of Middle-earth questions:\\nWho or what was Tom Bombadil?\\nWas he an elf? Was he akin to Gandalf, and one of the wizardly stock?  Was he something… else?\\n</td>\n",
              "      <td>['the-lord-of-the-rings', 'tolkiens-legendarium', 'tom-bombadil']</td>\n",
              "    </tr>\n",
              "    <tr>\n",
              "      <th>3</th>\n",
              "      <td>Why don&amp;#39;t Muggle-born wizards use Muggle technology to fight Death Eaters?</td>\n",
              "      <td>https://scifi.stackexchange.com/questions/2611/why-dont-muggle-born-wizards-use-muggle-technology-to-fight-death-eaters</td>\n",
              "      <td>We know that wizards in the Harry Potter universe are subject to regular physical harm (e.g. witness injuries from being hit by Bludgers or just colliding with things when playing Quidditch).\\nTherefore, it's almost a certainty that an average wizard would be vulnerable to, say, a bunch of bullets. \\nThere may likely be spell(s) to protect from projectiles - witness Dumbledore's shield deployed when Voldemort sent a bunch of glass at him during the Duel in the Ministry Atrium at the end of Harry Potter and the Order of the Phoenix (according to Wikia, possibly an unusually powerful Protego...</td>\n",
              "      <td>['harry-potter', 'technology']</td>\n",
              "    </tr>\n",
              "    <tr>\n",
              "      <th>4</th>\n",
              "      <td>Story where the number 3 is the monster?</td>\n",
              "      <td>https://scifi.stackexchange.com/questions/2937/story-where-the-number-3-is-the-monster</td>\n",
              "      <td>I remember as a child (in the nineties) reading a story where the narrator was a little boy and how he was scared only twice a day – when the clock read 3:33. The 3's would be powerful enough (there were three of them at 3:33) to leave the clock in the boy's room for one minute and do what they want. They terrified the boy for that one minute they were free.  \\nI don't think it was R.L. Stine, but I cannot remember the author.\\nUpdate: It definitely wasn't R.L Stine, but the story was in a similar style.\\nI know it was only a 15-20 page story, so maybe it was in a short story collection?\\n</td>\n",
              "      <td>['story-identification', 'short-stories']</td>\n",
              "    </tr>\n",
              "  </tbody>\n",
              "</table>\n",
              "</div>\n",
              "    <div class=\"colab-df-buttons\">\n",
              "\n",
              "  <div class=\"colab-df-container\">\n",
              "    <button class=\"colab-df-convert\" onclick=\"convertToInteractive('df-5d0c068d-68b4-4ae9-bf71-a4e6aa56cf40')\"\n",
              "            title=\"Convert this dataframe to an interactive table.\"\n",
              "            style=\"display:none;\">\n",
              "\n",
              "  <svg xmlns=\"http://www.w3.org/2000/svg\" height=\"24px\" viewBox=\"0 -960 960 960\">\n",
              "    <path d=\"M120-120v-720h720v720H120Zm60-500h600v-160H180v160Zm220 220h160v-160H400v160Zm0 220h160v-160H400v160ZM180-400h160v-160H180v160Zm440 0h160v-160H620v160ZM180-180h160v-160H180v160Zm440 0h160v-160H620v160Z\"/>\n",
              "  </svg>\n",
              "    </button>\n",
              "\n",
              "  <style>\n",
              "    .colab-df-container {\n",
              "      display:flex;\n",
              "      gap: 12px;\n",
              "    }\n",
              "\n",
              "    .colab-df-convert {\n",
              "      background-color: #E8F0FE;\n",
              "      border: none;\n",
              "      border-radius: 50%;\n",
              "      cursor: pointer;\n",
              "      display: none;\n",
              "      fill: #1967D2;\n",
              "      height: 32px;\n",
              "      padding: 0 0 0 0;\n",
              "      width: 32px;\n",
              "    }\n",
              "\n",
              "    .colab-df-convert:hover {\n",
              "      background-color: #E2EBFA;\n",
              "      box-shadow: 0px 1px 2px rgba(60, 64, 67, 0.3), 0px 1px 3px 1px rgba(60, 64, 67, 0.15);\n",
              "      fill: #174EA6;\n",
              "    }\n",
              "\n",
              "    .colab-df-buttons div {\n",
              "      margin-bottom: 4px;\n",
              "    }\n",
              "\n",
              "    [theme=dark] .colab-df-convert {\n",
              "      background-color: #3B4455;\n",
              "      fill: #D2E3FC;\n",
              "    }\n",
              "\n",
              "    [theme=dark] .colab-df-convert:hover {\n",
              "      background-color: #434B5C;\n",
              "      box-shadow: 0px 1px 3px 1px rgba(0, 0, 0, 0.15);\n",
              "      filter: drop-shadow(0px 1px 2px rgba(0, 0, 0, 0.3));\n",
              "      fill: #FFFFFF;\n",
              "    }\n",
              "  </style>\n",
              "\n",
              "    <script>\n",
              "      const buttonEl =\n",
              "        document.querySelector('#df-5d0c068d-68b4-4ae9-bf71-a4e6aa56cf40 button.colab-df-convert');\n",
              "      buttonEl.style.display =\n",
              "        google.colab.kernel.accessAllowed ? 'block' : 'none';\n",
              "\n",
              "      async function convertToInteractive(key) {\n",
              "        const element = document.querySelector('#df-5d0c068d-68b4-4ae9-bf71-a4e6aa56cf40');\n",
              "        const dataTable =\n",
              "          await google.colab.kernel.invokeFunction('convertToInteractive',\n",
              "                                                    [key], {});\n",
              "        if (!dataTable) return;\n",
              "\n",
              "        const docLinkHtml = 'Like what you see? Visit the ' +\n",
              "          '<a target=\"_blank\" href=https://colab.research.google.com/notebooks/data_table.ipynb>data table notebook</a>'\n",
              "          + ' to learn more about interactive tables.';\n",
              "        element.innerHTML = '';\n",
              "        dataTable['output_type'] = 'display_data';\n",
              "        await google.colab.output.renderOutput(dataTable, element);\n",
              "        const docLink = document.createElement('div');\n",
              "        docLink.innerHTML = docLinkHtml;\n",
              "        element.appendChild(docLink);\n",
              "      }\n",
              "    </script>\n",
              "  </div>\n",
              "\n",
              "\n",
              "<div id=\"df-f8316642-cced-4329-bcd7-e46554869799\">\n",
              "  <button class=\"colab-df-quickchart\" onclick=\"quickchart('df-f8316642-cced-4329-bcd7-e46554869799')\"\n",
              "            title=\"Suggest charts\"\n",
              "            style=\"display:none;\">\n",
              "\n",
              "<svg xmlns=\"http://www.w3.org/2000/svg\" height=\"24px\"viewBox=\"0 0 24 24\"\n",
              "     width=\"24px\">\n",
              "    <g>\n",
              "        <path d=\"M19 3H5c-1.1 0-2 .9-2 2v14c0 1.1.9 2 2 2h14c1.1 0 2-.9 2-2V5c0-1.1-.9-2-2-2zM9 17H7v-7h2v7zm4 0h-2V7h2v10zm4 0h-2v-4h2v4z\"/>\n",
              "    </g>\n",
              "</svg>\n",
              "  </button>\n",
              "\n",
              "<style>\n",
              "  .colab-df-quickchart {\n",
              "      --bg-color: #E8F0FE;\n",
              "      --fill-color: #1967D2;\n",
              "      --hover-bg-color: #E2EBFA;\n",
              "      --hover-fill-color: #174EA6;\n",
              "      --disabled-fill-color: #AAA;\n",
              "      --disabled-bg-color: #DDD;\n",
              "  }\n",
              "\n",
              "  [theme=dark] .colab-df-quickchart {\n",
              "      --bg-color: #3B4455;\n",
              "      --fill-color: #D2E3FC;\n",
              "      --hover-bg-color: #434B5C;\n",
              "      --hover-fill-color: #FFFFFF;\n",
              "      --disabled-bg-color: #3B4455;\n",
              "      --disabled-fill-color: #666;\n",
              "  }\n",
              "\n",
              "  .colab-df-quickchart {\n",
              "    background-color: var(--bg-color);\n",
              "    border: none;\n",
              "    border-radius: 50%;\n",
              "    cursor: pointer;\n",
              "    display: none;\n",
              "    fill: var(--fill-color);\n",
              "    height: 32px;\n",
              "    padding: 0;\n",
              "    width: 32px;\n",
              "  }\n",
              "\n",
              "  .colab-df-quickchart:hover {\n",
              "    background-color: var(--hover-bg-color);\n",
              "    box-shadow: 0 1px 2px rgba(60, 64, 67, 0.3), 0 1px 3px 1px rgba(60, 64, 67, 0.15);\n",
              "    fill: var(--button-hover-fill-color);\n",
              "  }\n",
              "\n",
              "  .colab-df-quickchart-complete:disabled,\n",
              "  .colab-df-quickchart-complete:disabled:hover {\n",
              "    background-color: var(--disabled-bg-color);\n",
              "    fill: var(--disabled-fill-color);\n",
              "    box-shadow: none;\n",
              "  }\n",
              "\n",
              "  .colab-df-spinner {\n",
              "    border: 2px solid var(--fill-color);\n",
              "    border-color: transparent;\n",
              "    border-bottom-color: var(--fill-color);\n",
              "    animation:\n",
              "      spin 1s steps(1) infinite;\n",
              "  }\n",
              "\n",
              "  @keyframes spin {\n",
              "    0% {\n",
              "      border-color: transparent;\n",
              "      border-bottom-color: var(--fill-color);\n",
              "      border-left-color: var(--fill-color);\n",
              "    }\n",
              "    20% {\n",
              "      border-color: transparent;\n",
              "      border-left-color: var(--fill-color);\n",
              "      border-top-color: var(--fill-color);\n",
              "    }\n",
              "    30% {\n",
              "      border-color: transparent;\n",
              "      border-left-color: var(--fill-color);\n",
              "      border-top-color: var(--fill-color);\n",
              "      border-right-color: var(--fill-color);\n",
              "    }\n",
              "    40% {\n",
              "      border-color: transparent;\n",
              "      border-right-color: var(--fill-color);\n",
              "      border-top-color: var(--fill-color);\n",
              "    }\n",
              "    60% {\n",
              "      border-color: transparent;\n",
              "      border-right-color: var(--fill-color);\n",
              "    }\n",
              "    80% {\n",
              "      border-color: transparent;\n",
              "      border-right-color: var(--fill-color);\n",
              "      border-bottom-color: var(--fill-color);\n",
              "    }\n",
              "    90% {\n",
              "      border-color: transparent;\n",
              "      border-bottom-color: var(--fill-color);\n",
              "    }\n",
              "  }\n",
              "</style>\n",
              "\n",
              "  <script>\n",
              "    async function quickchart(key) {\n",
              "      const quickchartButtonEl =\n",
              "        document.querySelector('#' + key + ' button');\n",
              "      quickchartButtonEl.disabled = true;  // To prevent multiple clicks.\n",
              "      quickchartButtonEl.classList.add('colab-df-spinner');\n",
              "      try {\n",
              "        const charts = await google.colab.kernel.invokeFunction(\n",
              "            'suggestCharts', [key], {});\n",
              "      } catch (error) {\n",
              "        console.error('Error during call to suggestCharts:', error);\n",
              "      }\n",
              "      quickchartButtonEl.classList.remove('colab-df-spinner');\n",
              "      quickchartButtonEl.classList.add('colab-df-quickchart-complete');\n",
              "    }\n",
              "    (() => {\n",
              "      let quickchartButtonEl =\n",
              "        document.querySelector('#df-f8316642-cced-4329-bcd7-e46554869799 button');\n",
              "      quickchartButtonEl.style.display =\n",
              "        google.colab.kernel.accessAllowed ? 'block' : 'none';\n",
              "    })();\n",
              "  </script>\n",
              "</div>\n",
              "\n",
              "    </div>\n",
              "  </div>\n"
            ],
            "application/vnd.google.colaboratory.intrinsic+json": {
              "type": "dataframe",
              "variable_name": "df",
              "summary": "{\n  \"name\": \"df\",\n  \"rows\": 30000,\n  \"fields\": [\n    {\n      \"column\": \"title\",\n      \"properties\": {\n        \"dtype\": \"string\",\n        \"num_unique_values\": 30000,\n        \"samples\": [\n          \"Did Darth Sidious cause Anakin&#39;s virgin birth?\",\n          \"Story about a group of space travelers who landed on a planetoid, only to discover it was a spacecraft\",\n          \"Identify an SF novel with references to trillium, telekinesis\"\n        ],\n        \"semantic_type\": \"\",\n        \"description\": \"\"\n      }\n    },\n    {\n      \"column\": \"url\",\n      \"properties\": {\n        \"dtype\": \"string\",\n        \"num_unique_values\": 30000,\n        \"samples\": [\n          \"https://scifi.stackexchange.com/questions/9713/did-darth-sidious-cause-anakins-virgin-birth\",\n          \"https://scifi.stackexchange.com/questions/259695/story-about-a-group-of-space-travelers-who-landed-on-a-planetoid-only-to-discov\",\n          \"https://scifi.stackexchange.com/questions/2255/identify-an-sf-novel-with-references-to-trillium-telekinesis\"\n        ],\n        \"semantic_type\": \"\",\n        \"description\": \"\"\n      }\n    },\n    {\n      \"column\": \"description\",\n      \"properties\": {\n        \"dtype\": \"string\",\n        \"num_unique_values\": 30000,\n        \"samples\": [\n          \"Qui-Gon theorized that Anakin was conceived by midi-chlorians after Shmi told him there was no father.\\nSenator Palpatine tells Anakin that his former master, Darth Plagueis, learned how to influence midi-chlorians to create life.\\nThe thought just occurred to me: did Palpatine learn this skill from his master, and create Anakin himself by manipulating the midi-chlorians? He was always very interested in Anakin, and seemed to set up his plans very far in advance. So it makes sense if those assumptions are true.\\nAfter I realized this might be a possibility, in my research I found this small article discussing a very similar thing. It goes into further suppositions about this theory, but doesn't definitively answer the question.\\nIs this theory ever confirmed or denied in any expanded universe canon?\\n\",\n          \"A story I read once years ago and would like to reread but do not know the name featured a group of space travelers who landed on a planetoid, only to discover it was a spacecraft. Gaining entry, they explored the interior and discovered a myriad of creatures, but none seemed self aware or possessed of intelligence.\\nThey made a plan to hijack the craft, but in doing so awakened an algorithm that created a short-term intelligence to counter their attempt. The travelers met this intelligence, who explained this was an intergalactic vessel collecting life forms and the reason for not noting intelligent beings on the vessel was that intelligence is not a survival characteristic.\\nDoes anyone know the name/author of such a plot?\\n\",\n          \"I read a book, probably in the late 80s or early 90s, that had several elements. I remember enjoying the book then (it wasn't great art, but it was entertaining), but can't identify it now. The elements I remember was that there was a project called Trillium; there were two or three missiles with horrendous weapons that I believe were telekinetic and I think had American Indian names; the protagonist may have been a rock musician and also had some kind of psychic power. Any idea of the book name and author?\\n\"\n        ],\n        \"semantic_type\": \"\",\n        \"description\": \"\"\n      }\n    },\n    {\n      \"column\": \"tags\",\n      \"properties\": {\n        \"dtype\": \"category\",\n        \"num_unique_values\": 9783,\n        \"samples\": [\n          \"['comics', 'the-phantom']\",\n          \"['star-wars', 'a-new-hope', 'accent']\",\n          \"['history-of', 'technology', 'science-fiction-genre']\"\n        ],\n        \"semantic_type\": \"\",\n        \"description\": \"\"\n      }\n    }\n  ]\n}"
            }
          },
          "metadata": {},
          "execution_count": 7
        }
      ],
      "source": [
        "df = pd.read_csv(\"../../data/question_details.csv\")\n",
        "df.head()"
      ]
    },
    {
      "cell_type": "code",
      "execution_count": 8,
      "metadata": {
        "colab": {
          "base_uri": "https://localhost:8080/"
        },
        "id": "f6o1buscBnm9",
        "outputId": "1246465d-022a-4bb2-b20d-dab8a2d6d951"
      },
      "outputs": [
        {
          "output_type": "execute_result",
          "data": {
            "text/plain": [
              "(30000, 4)"
            ]
          },
          "metadata": {},
          "execution_count": 8
        }
      ],
      "source": [
        "df.shape"
      ]
    },
    {
      "cell_type": "code",
      "execution_count": 9,
      "metadata": {
        "colab": {
          "base_uri": "https://localhost:8080/"
        },
        "id": "pjYVobSMARF7",
        "outputId": "fa5cdea6-52c4-49bd-de2d-6ce36553524c"
      },
      "outputs": [
        {
          "output_type": "execute_result",
          "data": {
            "text/plain": [
              "(30000, 4)"
            ]
          },
          "metadata": {},
          "execution_count": 9
        }
      ],
      "source": [
        "df = df.dropna().reset_index(drop=True)\n",
        "df.shape"
      ]
    },
    {
      "cell_type": "code",
      "execution_count": 10,
      "metadata": {
        "colab": {
          "base_uri": "https://localhost:8080/"
        },
        "id": "iPvxwr4__VYt",
        "outputId": "9cbbaf35-3b27-4057-dc5d-4a18be26b581"
      },
      "outputs": [
        {
          "output_type": "stream",
          "name": "stdout",
          "text": [
            "Number of Tags: 2095\n",
            "{'the-lord-of-the-rings': 1390, 'tolkiens-legendarium': 1904, 'the-one-ring': 113, 'star-wars': 3189, 'the-force': 158, 'the-empire-strikes-back': 117, 'tom-bombadil': 18, 'harry-potter': 3454, 'technology': 170, 'story-identification': 8613, 'short-stories': 2763, 'time-travel': 566, 'groundhog-day': 5, 'suggested-order': 137, 'millennium-falcon': 45, 'back-to-the-future': 104, 'back-to-the-future-ii': 22, 'prediction': 11, 'stormtroopers': 28, 'behind-the-scenes': 210, 'the-chronicles-of-narnia': 54, 'cs-lewis': 27, 'xkcd': 9, 'j-r-r-tolkien': 78, 'dc': 900, 'character-identification': 251, 'justice-league': 21, 'merchandise': 5, 'hogwarts': 224, 'et-the-extra-terrestrial': 6, 'shared-universe': 5, 'yoda': 48, 'a-new-hope': 240, 'douglas-adams': 21, 'the-hitchhikers-guide-to-the-galaxy': 67, 'physics': 48, 'batman': 297, 'the-matrix': 264, 'gandalf': 118, 'isaac-asimov': 127, 'foundation': 36, 'horcrux': 130, 'magical-theory': 100, 'star-trek': 2698, 'star-trek-tng': 868, 'riker': 9, 'dagobah': 2, 'ducktales': 11, 'the-force-awakens': 334, 'uss-enterprise': 61, 'star-wars-legends': 343, 'spaceship': 288, 'crime': 16, 'marvel': 1884, 'marvel-cinematic-universe': 1117, 'sauron': 111, 'religion': 85, 'bb-8': 10, 'comics': 498, 'calvin-and-hobbes': 3, 'sith': 136, 'darth-vader': 169, 'return-of-the-jedi': 128, 'warp': 49, 'magical-items': 51, 'saruman': 39, 'captain-america-civil-war': 48, 'revenge-of-the-sith': 124, 'albus-dumbledore': 148, 'severus-snape': 109, 'luke-skywalker': 94, 'obi-wan-kenobi': 77, 'star-trek-tos': 269, 'hermione-granger': 45, 'voldemort': 324, '1984': 22, 'the-return-of-the-king': 63, 'discworld': 84, 'game-of-thrones': 841, 'a-song-of-ice-and-fire': 701, 'music': 57, 'sorting-hat': 54, 'star-trek-transporter': 42, 'jk-rowling': 68, 'rogue-one': 131, 'death-star': 98, 'the-hobbit': 287, 'slytherin': 24, 'powers': 91, 'good-against-evil': 13, 'money': 35, 'economics': 45, 'looney-tunes': 5, '2001-a-space-odyssey': 33, 'darth-sidious': 140, 'lex-luthor': 11, 'super-mario-brothers': 20, 'borg': 158, 'star-trek-eu': 42, 'adaptation-comparison': 117, 'production': 47, 'george-lucas': 38, 'the-fellowship-of-the-ring': 88, 'history-of': 422, 'fantasy-genre': 39, 'orcs': 32, 'iron-man': 105, 'weapon': 109, 'elves': 92, 'spock': 33, 'toys': 15, 'artificial-intelligence': 144, 'sentience': 23, 'magic': 323, 'spells': 99, 'books': 988, 'enders-game': 51, 'aliens': 714, 'science-fiction-genre': 86, 'watchmen': 36, 'rorschach': 2, 'the-hunger-games': 80, 'vulcan': 53, 'avengers': 146, 'thor-marvel': 123, 'dwarves': 53, 'the-silmarillion': 163, 'dragons': 76, 'wizards': 49, 'muggles': 66, 'accent': 7, 'the-last-jedi': 151, 'droids': 86, 'r2-d2': 20, 'star-trek-voyager': 310, 'names': 163, 'hagrid': 40, 'languages': 180, 'trope': 45, 'smurfs': 3, 'canon': 97, 'jedi': 179, 'vampire': 78, 'middle-earth': 66, 'theology': 3, 'captain-america': 139, 'the-avengers-2012': 62, 'the-two-towers': 51, 'kylo-ren': 65, 'doctor-who': 550, 'regeneration': 14, 'star-trek-data': 105, 'kobayashi-maru': 10, 'terminology': 57, 'princess-leia': 30, 'the-rise-of-skywalker': 79, 'teenage-mutant-ninja-turtles': 16, 'map': 17, 'x-men': 208, 'babylon-5': 121, 'c-3po': 16, 'the-phantom-menace': 101, 'mind-control': 26, 'hard-sci-fi': 111, 'mathematics': 23, 'battlestar-galactica': 93, 'the-flash': 35, 'dc-animated-universe': 39, 'order-of-the-phoenix': 13, 'video-games': 152, 'pac-man': 1, 'h-p-lovecraft': 42, 'cthulhu-mythos': 32, 'actors': 48, 'gringotts': 23, 'sirius-black': 21, 'movie': 1117, 'star-trek-2009': 65, 'language-explanation': 23, 'medieval': 18, 'spaceballs': 8, 'wall-e': 19, 'futurama': 68, 'avengers-age-of-ultron': 79, 'mjolnir': 38, 'real-location': 33, 'the-incredible-hulk': 71, 'character-motivation': 148, 'actor-identification': 19, 'pirates-of-the-caribbean': 25, 'the-curse-of-the-black-pearl': 7, 'blade-runner': 38, 'philip-k-dick': 25, 'blade-runner-series': 53, 'defence-against-the-dark-arts': 29, 'lightsaber': 148, 'marauders-map': 25, 'ftl-drive': 44, 'star-trek-ds9': 336, 'ferengi': 33, 'episode-identification': 173, 'battle-of-endor': 2, 'deadpool': 57, 'horror': 216, 'zombie': 55, 'food': 52, 'undead': 12, 'deathly-hallows': 48, 'magical-creatures': 81, 'triwizard-tournament': 18, 'star-trek-emh': 16, 'space-exploration': 95, 'society': 21, 'energy': 12, 'prime-directive': 13, 'computers': 76, 'origins': 25, 'thor-ragnarok': 45, 'nazgul': 53, 'superman': 211, 'krypton': 4, 'kryptonite': 3, 'gollum': 21, 'ministry-of-magic': 30, 'monsters-inc': 5, 'force-ghost': 10, 'star-wars-rebels': 34, 'star-trek-dominion': 25, 'george-orwell': 8, 'planets': 40, 'agent-smith': 15, 'thor-2011': 23, 'object-identification': 110, 'androids': 31, 'klingon': 68, 'nolan-batman-trilogy': 83, 'the-dark-knight-rises': 43, 'bane': 3, 'stargate': 267, 'the-terminator': 66, 'the-terminator-series': 150, 'terminator-2-judgment-day': 45, 'unforgivable-curse': 31, 'folklore': 11, 'publishing': 15, 'jon-snow': 24, 'smaug': 27, 'desolation-of-smaug': 14, 'an-unexpected-journey': 13, 'robots': 189, 'weird-al-yankovic': 2, 'costume': 47, 'conventions': 3, 'fandom': 10, 'federation': 35, 'phoenix': 10, 'death-eaters': 104, 'guardians-of-the-galaxy-2': 31, 'firefly': 89, 'serenity': 38, 'artificial-gravity': 27, 'character-development': 43, 'alien-franchise': 140, 'predator-series': 17, 'the-wizard-of-oz': 17, 'terry-pratchett': 50, 'starfleet-command': 14, 'love': 15, 'spider-man': 135, 'avengers-infinity-war': 96, 'jurassic-park': 47, 'guardians-of-the-galaxy-1': 53, 'guardians-of-the-galaxy': 58, 'secret-identity': 11, 'inspiration': 120, 'copyright': 13, 'biology': 38, 'blade-runner-2049': 21, 'dc-extended-universe': 100, 'batman-v-superman-dawn-of-justice': 39, 'spider-man-2002': 5, 'laws-of-robotics': 25, 'plot-device': 43, 'pixar': 18, 'tv': 399, 'props': 38, 'transformers': 53, 'gremlins': 5, 'engineering': 4, 'races': 30, 'i-robot-2004': 9, 'joss-whedon': 8, 'rpg': 13, 'quotes': 68, 'sonic-the-hedgehog': 2, 'invisibility-cloak': 13, 'the-martian': 44, 'worldbuilding': 4, 'moana': 5, 'captain-america-the-winter-soldier': 38, 'pokemon': 50, 'jean-luc-picard': 39, 'holodeck': 32, 'addams-family': 4, 'wolverine': 82, 'monty-python': 6, 'holy-grail': 4, 'art': 30, 'xenomorph': 17, 'attack-of-the-clones': 83, 'laws': 48, 'johnny-and-the-bomb': 2, 'johnny-maxwell': 2, 'the-fifth-element': 13, 'mithril': 5, 'phineas-and-ferb': 8, 'anakin-skywalker': 38, 'darth-tyranus': 19, 'magical-transportation': 23, 'istari': 20, 'blasters': 6, 'humor': 36, 'the-battle-of-the-five-armies': 8, 'shrek': 15, 'robin-hood': 1, 'tolkien-languages': 39, 'boba-fett': 17, 'star-trek-uniforms': 28, 'star-trek-the-motion-picture': 15, 'pinky-and-the-brain': 2, 'animaniacs': 2, 'balrogs': 22, 'arthurian': 10, 'clones': 62, 'pinocchio': 2, 'robin': 6, 'meme': 8, 'universal-translator': 8, 'star-trek-first-contact': 26, 'dune': 222, 'poster-design': 5, 'interstellar': 51, 'the-clone-wars': 85, 'fidelius-charm': 16, 'gene-roddenberry': 18, 'star-trek-reboot': 26, 'snoke': 13, 'the-wheel-of-time': 77, 'space-combat': 5, 'galactus': 6, 'lily-potter': 8, 'cloaking': 21, 'politics': 41, 'quidditch': 65, 'deleted-scenes': 9, 'hobbits': 31, 'flying-brooms': 8, 'soft-sci-fi': 107, 'ewoks': 15, 'ents': 18, 'han-solo': 29, 'hoth': 4, 'robot-series': 8, 'jumanji': 6, 'wandlore': 107, 'gellert-grindelwald': 16, 'stan-lee': 14, 'stasis': 8, 'science': 62, 'female-characters': 16, 'bechdel-test': 3, 'feminism': 6, 'far-side': 1, 'shadow-of-mordor': 2, 'palantiri': 13, 'warfare': 54, 'men-in-black': 33, 'clothing': 16, 'paradox': 27, 'worf': 34, 'novel': 1087, 'demons': 21, 'jedi-training': 21, 'thanos': 28, 'history': 44, 'drax-the-destroyer': 5, 'title-explanation': 11, 'apparition': 20, 'translation': 46, 'avengers-vs-x-men': 9, 'divination': 8, 'arithmancy': 2, 'street-fighter': 3, 'order-66': 13, 'captain-america-the-first-avenger': 13, 'demolition-man': 2, 'seven-of-nine': 9, 'avatar': 18, 'disney': 57, 'frozen': 9, 'maiar': 15, 'jurassic-world': 13, 'architecture': 4, 'asterix': 7, 'nanotechnology': 20, 'wonder-woman': 33, 'minority-report': 7, 'robert-a-heinlein': 74, 'starship-troopers': 25, 'star-trek-q': 40, 'potions': 29, 'prometheus': 33, 'genetic-engineering': 33, 'time-lord': 25, 'weeping-angels': 12, 'valar': 13, 'undying-lands': 8, 'sexuality': 36, 'arrival': 12, 'black-panther-2018': 15, 'alien-vs.-predator': 10, 'predator': 11, 'cgi': 4, 'battle-of-hoth': 9, 'astronauts': 25, 'alternate-history': 45, 'ant-man': 25, 'ant-man-2015': 18, 'captain-kirk': 30, 'iron-man-2008': 19, 'vibranium': 11, 'groot': 12, 'mad-max': 7, 'mad-max-fury-road': 8, 'the-new-52': 24, 'arthur-c-clarke': 30, 'lego': 11, 'etymology': 26, 'the-truman-show': 8, 'chronological-order': 12, 'fan-theory': 5, 'immortality': 47, 'alien-1979': 35, 'aliens-1986': 29, 'alien-3-1992': 7, 'alien-resurrection-1997': 4, 'wargames-1983': 1, 'mary-poppins': 6, 'the-mandalorian': 39, 'starfleet-rank': 39, 'frank-herbert': 35, 'the-dark-knight': 29, 'toy-story': 7, 'toy-story-2': 3, 'the-cursed-child': 33, 'dora-the-explorer': 2, 'retcon': 12, 'the-expanse-novels': 22, 'magneto': 17, 'house-elves': 42, 'timeline': 31, 'the-walking-dead': 70, 'teleportation': 55, 'avengers-endgame': 100, 'dr-manhattan': 10, 'replicator': 23, 'edge-of-tomorrow': 16, 'rey': 22, 'crossovers': 13, 'indiana-jones': 29, 'raiders-of-the-lost-ark': 6, 'shazam': 7, 'inception': 15, 'doctor-strange-2016': 29, 'fan-fiction': 33, 'hp-methods-of-rationality': 13, 'x-men-cinematic-universe': 113, 'dystopia': 132, 'parallel-universe': 100, 'the-princess-bride': 11, 'iron-man-2': 12, 'adamantium': 16, 'jar-jar-binks': 12, 'quark': 3, 'age': 40, 'tactics': 6, 'deadpool-2016': 22, 'deadpool-2': 8, 'animals': 50, 'hyperspace': 43, 'super-hero': 54, 'the-incredibles': 18, 'klingon-language': 23, 'the-legend-of-zelda': 21, 'he-man': 6, 'azkaban': 13, 'michael-crichton': 4, 'the-voyage-home': 20, 'star-trek-discovery': 79, 'incredibles-2': 5, 'the-joker': 21, 'spider-man-homecoming': 20, 'parseltongue': 14, 'ghost': 45, 'avatar-the-last-airbender': 71, 'post-apocalyptic': 151, 'continuity': 50, 'captain-marvel-2019': 34, 'captain-marvel': 14, 'special-effects': 17, 'the-invisible-man': 1, 'polyjuice-potion': 21, 'wormhole': 20, 'zootopia': 3, 'avada-kedavra': 9, 'literary-analysis': 15, 'fairy-tales': 16, 'beauty-and-the-beast': 5, 'apocalypse': 29, 'loki': 25, 'do-androids-dream-of-electric-sheep': 12, 'easter-egg': 8, 'watchmen-2009': 12, 'order-65': 1, 'x-men-days-of-future-past': 25, 'ghostbusters': 14, 'skynet': 27, 'teen-titans': 6, 'symbols': 22, 'cyberpunk': 21, 'the-man-in-the-high-castle': 7, 'orbital-mechanics': 7, 'the-book-of-eli': 3, 'cameo': 8, 'infinity-stones': 39, 'donald-duck': 6, 'santa-claus': 9, 'alien-invasion': 87, 'the-final-frontier': 10, 'muppets': 4, 'sesame-street': 3, 'the-muppet-show': 3, 'sword-and-sorcery': 16, 'animated-series': 9, 'iron-man-3': 25, 'star-wars-finn': 16, 'nuclear-weapons': 21, 'holidays': 3, 'the-elder-scrolls': 22, 'skyrim': 10, 'authors': 17, 'the-big-bang-theory': 2, 'doctor-strange': 34, 'stargate-universe': 26, 'choose-your-own-adventure': 8, 'l-ron-hubbard': 3, 'the-expanse-2015': 30, 'drug': 7, 'dementors': 36, 'barty-crouch-jr': 14, 'basilisk': 36, 'adaptations': 11, 'ron-weasley': 8, 'cosmere': 30, 'trailer': 2, 'adventure-time': 5, 'the-wrath-of-khan': 33, 'mars': 48, 'stargate-sg1': 145, 'stranger-in-a-strange-land': 5, 'harley-quinn': 3, 'red-dwarf': 22, 'pure-blood': 2, 'andy-weir': 5, 'the-thing-1982': 15, 'star-trek-insignias': 8, 'stargate-atlantis': 57, 'time': 31, 'the-road': 2, 'solo-a-star-wars-story': 21, 'highlander': 23, 'highlander-franchise': 22, 'star-trek-enterprise': 72, 'legilimens': 2, 'greedo': 1, 'star-trek-into-darkness': 27, 'space': 230, 'buffy-the-vampire-slayer': 57, 'angel': 15, 'the-rebel-alliance': 11, 'lego-star-wars': 6, 'morality': 26, 'prophecy': 28, 'winnie-the-pooh': 1, 'trolls': 6, 'babelfish': 1, 'galadriel': 11, 'speed-of-light': 10, 'ravenclaw': 1, 'time-war': 5, 'pottermore': 6, 'captain-planet': 4, 'the-magic-school-bus': 4, 'stanley-kubrick': 4, 'endor': 6, 'catching-fire': 3, 'the-jetsons': 1, 'mace-windu': 5, 'theme-music': 5, 'padme': 8, 'independence-day': 12, 'the-real-ghostbusters': 1, '2010-odyssey-two': 7, 'witches': 18, 'donkey-kong': 2, 'fantastic-beasts': 93, 'caprica': 4, 'communication': 30, 'space-opera': 17, 'greek-myth': 10, 'the-legend-of-korra': 52, 'the-witcher': 36, 'centaurs': 9, 'squib': 20, 'x-men-2000': 6, 'iluvatar': 2, 'marriage': 8, 'hologram': 13, 'pronunciation': 30, 'fritz-leiber': 4, 'midichlorians': 5, 'remus-lupin': 15, 'dr-seuss': 2, 'the-search-for-spock': 18, 'rogue': 10, 'dalek': 15, 'stardate': 2, 'aladdin': 7, 'arrowverse': 46, 'supergirl-2015': 7, 'the-prestige': 3, 'slavery': 12, 'larry-niven': 33, 'known-space': 21, 'b-movies': 20, 'animagi': 15, 'the-x-files': 24, 'the-simpsons': 4, 'space-cadet': 2, 'chewbacca': 17, 'dark-arts': 14, 'ray-bradbury': 15, 'design': 6, 'jabba-the-hutt': 8, 'the-last-trump': 1, 'war-of-the-worlds': 7, 'quicksilver': 7, 'coraline': 1, 'minerva-mcgonagall': 7, 'scrooge-mcduck': 2, 'sandworm': 11, 'loki-2021': 30, 'merlin': 3, 'cover-art': 26, 'dinosaurs': 23, 'thunderbirds': 2, 'tardis': 47, 'cordwainer-smith': 2, 'gravity': 17, 'planet-of-the-apes': 12, 'neil-gaiman': 20, 'the-sandman': 22, 'predator-2': 3, 'mythology': 39, 'farscape': 11, 'battlestar-galactica-2004': 20, 'draco-malfoy': 3, 'shakespeare': 2, 'american-gods': 13, 'norse-gods': 9, 'peanuts': 2, 'star-trek-picard': 28, 'his-dark-materials': 11, 'batman-1966': 4, 'wonder-woman-2017': 10, 'the-culture': 19, 'daredevil': 20, 'daredevil-2015': 12, 'werewolf': 34, 'world-as-myth': 2, 'supernatural': 13, 'cinderella': 2, 'good-omens': 10, 'dreams': 17, 'axanar': 1, 'mass-effect': 22, 'darth-maul': 16, 'setting': 12, 'dyson-sphere': 7, 'rock-music': 6, 'cartoon': 115, 'scooby-doo': 1, 'odin': 4, 'dark-horse-comics': 1, 'zork': 1, 'how-to-train-your-dragon': 5, 'lost': 7, 'young-adult': 240, 'iain-m-banks': 12, 'the-cabin-in-the-woods': 9, 'the-incredible-hulk-2008': 5, 'peter-pan': 7, 'star-trek-generations': 11, 'neuromancer': 12, 'kill-count': 9, 'my-little-pony-fim': 24, 'my-little-pony': 24, 'world-war-z': 7, 'anime': 101, 'dobby': 11, 'batman-begins': 7, 'space-colonization': 63, 'mary-poppins-returns': 1, 'mickey-mouse': 2, 'obscurus': 6, 'first-order': 7, 'rocky-horror-picture-show': 3, 'rocky-horror-show': 3, 'wolverine-and-the-x-men': 4, 'bram-stoker': 3, 'death': 1, 'green-lantern': 49, 'the-dark-tower': 21, 'stephen-king': 25, 'advertisements': 8, 'animation': 39, 'robocop': 17, 'robocop-1987': 17, 'i-robot': 5, 'alice-in-wonderland': 7, 'lewis-carroll': 7, 'metaphysics': 3, 'aladdin-1992': 4, 'fallout': 9, 'the-crimes-of-grindelwald': 31, 'kyber-crystal': 6, 'fringe': 32, 'online-resources': 19, 'novella': 51, 'flowers-for-algernon': 2, 'radio-play': 18, 'composition': 8, 'the-twilight-zone': 18, 'dune-2021': 10, 'warhammer-40k': 82, 'space-marines': 6, 'space-station': 10, 'blakes-7': 5, 'john-carpenter': 7, 'they-live': 3, 'gravity-movie': 3, 'house-of-m': 1, 'the-thing-2011': 8, 'knight-rider': 5, 'small-gods': 3, 'half-life': 14, 'forgotten-realms': 4, 'legend-of-drizzt': 3, 'thor-the-dark-world': 20, 'squirrel-girl': 9, 'first-contact': 41, 'v-for-vendetta': 5, 'alien-covenant': 9, 'logan': 11, 'the-wolverine': 9, 'pon-farr': 2, 'patronus-charm': 19, 'monsters-university': 5, 'star-trek-beyond': 20, 'astronomy': 11, 'prequels': 3, 'knights-of-ren': 8, 'terminator-3-rise-of-the-machines': 6, 'the-flash-2014': 21, 'arrow': 13, 'dracula': 10, 'andromeda': 5, 'x-men-origins-wolverine': 11, 'green-lantern-2011': 7, 'the-shunned-house': 1, 'christopher-tolkien': 10, 'cryogenics': 7, 'black-panther': 12, 'generation-ship': 29, 'starcraft': 6, 'teenage-mutant-ninja-turtles-1987': 2, 'pixels': 1, 'samurai-jack': 4, 'star-wars-battlefront': 1, 'back-to-the-future-iii': 14, 'the-last-crusade': 10, 'portal': 9, 'portal-2': 5, 'marvel-what-if-2021': 11, 'river-song': 10, 'manga': 20, 'in-time': 6, 'thor-love-and-thunder': 6, 'supergirl': 11, 'superman-1978': 4, 'darkwing-duck': 2, 'christian': 9, 'dune-1984': 10, 'the-animatrix': 12, 'telepathy': 71, 'pacific-rim': 18, 'wraiths': 3, 'kung-fu-panda': 3, 'image-identification': 6, 'moon': 30, 'alien-abduction': 7, 'liar-liar': 1, 'mote-series': 3, 'rendezvous-with-rama': 6, 'aquaman': 5, 'spirited-away': 5, 'transportation': 4, 'vehicles': 15, 'virtual-worlds': 24, 'eugenics': 8, 'brave-new-world': 2, 'steampunk': 11, 'joker-2019': 4, 'government': 17, 'i-am-legend': 6, 'fantastic-beasts-where-to-find-them': 10, 'logans-run': 3, 'star-wars-bloodline': 2, 'armor': 10, 'zero-point-module': 3, 'xena': 3, 'neal-stephenson': 26, 'snow-crash': 12, 'diamond-age': 3, 'married-with-children': 1, 'ghostbusters-2016': 2, 'transformers-live-action-series': 13, 'transformers-2007': 5, 'transformers-dark-of-the-moon': 4, 'men-in-black-2': 4, 'romantic-interest': 11, 'mars-attacks': 2, 'metamaterials': 4, 'dr-strange-multiverse-of-madness': 11, 'tatooine': 9, 'agents-of-shield': 34, 'agent-carter': 2, 'lyrics': 1, 'george-r-r-martin': 6, 'coruscant': 2, 'orson-scott-card': 7, 'speaker-for-the-dead': 4, 'gotham': 10, 'geography': 9, 'spider-man-far-from-home': 22, 'nick-fury': 9, 'warhammer-fantasy': 5, 'transwarp': 3, 'hawkeye': 7, 'green-arrow': 4, 'empire': 9, 'romulan': 20, 'doomsday': 2, 'the-nine-billion-names-of-god': 2, 'evolution': 27, 'westworld-2016': 10, 'doom': 2, 'doom-3': 2, 'torchwood': 11, 'unbreakable-vow': 3, 'childrens-novel': 109, 'thundercats': 3, 'iron-druid': 1, 'batman-the-animated-series': 1, 'morgoth': 6, 'guardians-of-the-galaxy-3': 1, 'arkenstone': 2, 'led-zeppelin': 2, 'quantum-leap': 8, 'godzilla': 5, 'sound-effects': 8, 'twin-peaks': 2, 'force-field': 3, 'jack-vance': 4, 'poetry': 9, 'pans-labyrinth': 3, 'nightfall': 3, 'anthology-book': 90, 'wandavision': 10, 'short-film': 25, 'robert-jordan': 12, 'the-last-starfighter': 1, 'fantastic-four': 14, 'x-men-the-last-stand': 2, 'aladdin-2019': 2, 'venom': 7, 'venom-2018': 1, 'lost-in-space': 9, 'lost-in-space-1965': 6, 'vorlons': 4, 'rick-and-morty': 14, 'theodore-sturgeon': 1, 'edition-comparison': 6, 'terry-brooks': 1, 'landover-series': 1, 'kikis-delivery-service': 1, 'studio-ghibli': 5, 'bounty-hunters': 2, 'mandalorian': 6, 'western': 4, 'justice-league-unlimited': 6, 'contact': 6, 'terraforming': 15, 'reference': 15, 'underground-civilization': 15, 'david-brin': 3, 'psychic': 26, 'genetics': 9, 'mary-sue': 1, 'ready-player-one-2018': 6, 'sequel': 3, 'stormbreaker': 2, 'john-wyndham': 3, 'h.g.wells': 5, 'cyborg': 27, 'phaser': 11, 'the-amazing-spider-man': 7, 'khan-singh': 12, 'jemhadar': 3, 'kitty-pryde': 2, 'jerry-pournelle': 3, 'ant-man-and-the-wasp': 5, 'wallace-and-gromit': 1, 'ringworld': 16, 'uplift-universe': 3, 'signs': 1, 'urban-fantasy': 17, 'virus': 9, 'stanislaw-lem': 14, 'asgard': 3, 'blindsight': 1, 'firefall': 1, 'alastor-moody': 2, 'the-carpet-people': 2, 'bromeliad-trilogy': 1, 'shield': 10, 'chirrut-imwe': 4, 'popeye': 1, 'shazam-2019': 4, 'halo': 10, 'despicable-me': 9, 'cyclops': 8, 'frankensteins-monster': 9, 'mary-shelley': 3, 'donnie-darko': 1, 'all-you-need-is-kill': 2, 'mobile-suit-gundam': 1, 'cold-war': 9, 'bene-gesserit': 12, 'jack-harkness': 4, 'star-wars-the-old-republic': 5, 'young-justice': 1, 'extrasensory-perception': 3, 'lego-cinematic-universe': 5, 'the-lego-movie': 5, 'the-lego-movie-2-the-second-part': 1, 'city-of-ember': 1, 'pigs-in-space': 1, 'suspended-animation': 14, 'ex-machina': 7, 'arda': 6, 'general-grievous': 9, 'x-men-apocalypse': 10, 'colossus': 6, 'catwoman': 4, 'star-wars-thrawn': 1, 'the-good-place': 4, 'the-book-of-boba-fett': 6, 'praxis': 3, 'cybermen': 5, 'she-hulk': 4, 'anathem': 9, 'mirror-universe': 17, 'mutant': 20, 'clone-wars-2003': 3, 'carmen-sandiego': 1, 'terminator-genisys': 7, 'the-sarah-connor-chronicles': 6, 'the-incredible-hulk-1978': 1, 'anne-mccaffrey': 6, 'pern': 10, 'fantasy-island': 1, 'propulsion': 7, 'impulse': 4, 'passengers': 5, 'cylon': 12, 'lcars': 2, 'the-day-of-the-doctor': 16, 'pokemon-detective-pikachu': 3, 'bootstrap-paradox': 2, 'the-falcon-and-the-winter-soldier': 3, 'stargate-movie': 9, 'plants-vs-zombies': 1, 'detective': 11, 'kim-stanley-robinson': 8, 'mars-trilogy': 8, 'pink-floyd': 1, 'inheritance-cycle': 15, 'falcon': 2, 'audio-book': 14, 'podcast': 1, 'grimmauld-place': 10, 'battlestar-galactica-1978': 5, 'fear-the-walking-dead': 5, 'zones-of-thought': 18, 'a-fire-upon-the-deep': 10, 'vernor-vinge': 12, 'fantastic-voyage': 1, 'web': 2, 'psychology': 11, 'the-orville': 6, 'david-gerrold': 2, 'x-men-the-animated-series': 4, 'x-men-first-class': 9, 'dr-doom': 1, 'souls': 9, 'brandon-sanderson': 4, 'asgardians': 11, 'vorkosigan-saga': 9, 'shape-shifter': 25, 'alan-moore': 2, 'thursday-next': 1, 'jasper-fforde': 1, 'doctor-dolittle': 2, 'influences': 10, 'zombie-apocalypse': 3, 'philosophers-stone': 9, 'fahrenheit-451': 5, 'lev-grossman': 3, 'the-magicians': 4, 'justice-league-2017': 12, 'riddick-franchise': 7, 'pitch-black': 2, 'once-upon-a-time': 10, 'the-little-mermaid': 3, 'black-hole': 6, 'the-infinity-gauntlet': 4, 'bandes-dessinees': 2, 'remembrance-of-earths-past': 8, 'the-three-body-problem': 5, 'ghost-in-the-shell': 4, 'games-workshop': 2, 'the-chronicles-of-riddick': 4, 'gattaca': 3, 'star-trek-movies': 7, 'vertigo-comics': 19, 'william-gibson': 7, 'sprawl-trilogy': 6, 'statistics': 8, 'the-nightmare-before-christmas': 1, 'rudolph-the-red-nosed-reindeer': 2, 'andorian': 1, 'dan-simmons': 9, 'hyperion-cantos': 10, 'music-video': 3, 'buck-rogers': 1, 'black-widow': 9, 'hellboy': 7, 'spider-man-2': 4, 'obi-wan-kenobi-2022': 7, 'foundation-2021': 3, 'ghost-1990': 1, 'chronicles-of-amber': 7, 'a-meeting-with-medusa': 1, 'fans': 6, 'games': 9, 'naruto': 2, 'event-horizon': 3, 'randall-garrett': 1, 'lord-darcy': 2, 'a-memory-of-light': 12, 'my-neighbor-totoro': 2, 'knight-bus': 5, 'editors': 3, 'ursula-k-le-guin': 10, 'hainish-cycle': 2, 'typewriter': 1, 'symbiotes': 4, 'barsoom': 3, 'john-carter': 3, 'fairy': 7, 'genealogy': 9, 'the-undiscovered-country': 10, 'shadows-babylon-5': 7, 'total-recall-2070': 1, 'earth-final-conflict': 2, 'military-sf': 40, 'dark-knight-returns': 4, 'alastair-reynolds': 11, 'revelation-space': 7, 'hawkeye-2021': 3, 'the-mask': 2, 'pandorum': 1, 'laundry-files': 9, 'moon-movie': 7, 'rama-revealed': 2, 'e-e-doc-smith': 4, 'lensman-series': 4, 'another-earth': 1, 'constantine-2014': 1, 'twilight': 6, 'minions': 6, 'the-resistance': 2, 'the-end-of-eternity': 3, 'the-belgariad': 11, 'six-million-dollar-man': 1, 'suzanne-collins': 2, 'chronology': 6, 'jessica-jones-2015': 13, 'dollhouse': 5, 'blade': 6, 'hybrid': 4, 'transformers-revenge-of-the-fallen': 4, 'plants': 2, 'monty-python-holy-grail': 3, 'planet-of-the-apes-2011': 1, 'rise-of-the-planet-of-the-apes': 1, 'galaxy-quest': 3, 'robert-silverberg': 5, 'willy-wonka': 4, 'waterworld': 2, 'constantine-2005': 6, 'constantine': 5, 'frasier': 1, 'cowboy-bebop': 3, 'reavers': 3, 'black-mirror': 6, 'space-invaders': 1, 'ai-2001': 2, '3001-the-final-odyssey': 1, 'holocron': 2, 'gallifrey': 7, 'chew': 2, 'bender-rodriguez': 5, 'kingdom-of-the-crystal-skull': 3, 'scarlet-witch': 3, 'terra-nova': 5, 'izombie': 1, 'telekinesis': 12, 'minions-movie': 3, 'ratatouille': 1, 'team-rocket': 1, 'lois-mcmaster-bujold': 7, 'man-of-steel': 18, 'poul-anderson': 6, 'ahsoka-tano': 11, '12-monkeys-1995': 3, 'chameleon-circuit': 3, 'the-call-of-cthulhu': 4, 'green-lantern-tas': 1, 'flash-forward': 1, 'future': 7, 'the-algebraist': 1, 'redwall': 6, 'the-book-of-the-new-sun': 6, 'solar-cycle': 3, 'captain-power': 3, 'a-canticle-for-leibowitz': 6, 'animorphs': 11, 'morphing': 5, 'real-steel': 3, 'the-windup-girl': 1, 'dragonlance': 9, 'conan': 9, 'londo-mollari': 2, 'dirk-gently': 5, 'the-andromeda-strain': 1, 'alphas': 4, 'joseph-conrad': 1, 'on-stranger-tides': 3, 'legends-of-tomorrow': 4, 'aquaman-2018': 3, 'it': 7, 'total-recall': 10, 'matilda': 2, 'foreshadowing': 6, 'total-recall-2012': 1, 'the-malloreon': 1, 'star-trek-tas': 5, 'the-wheel-of-time-2021': 1, 'coco': 3, 'old-man-logan': 2, 'bending': 4, 'seaquest': 4, 'conan-the-barbarian-1982': 2, 'inhumans': 4, 'looper': 8, 'honorverse': 6, 'david-weber': 4, 'the-exorcist': 1, 'the-day-of-the-triffids': 3, 'the-time-machine': 3, 'stranger-things': 12, 'tron': 11, 'solar-system': 2, 'somnium': 1, 'webcomics': 20, 'at-worlds-end': 7, 'john-williams': 2, 'the-kingkiller-chronicle': 15, 'miniseries': 5, 'star-trek-lower-decks': 3, 'julian-bashir': 1, '9-2009': 1, 'time-dilation': 12, 'trade-federation': 1, 'goauld': 10, 'malazan': 5, 'gullivers-travels': 3, 'jonathan-swift': 2, 'the-demolished-man': 1, 'arkham-series': 3, 'kurt-vonnegut': 3, 'kingdom-hospital': 1, 'superman-2': 3, 'predestination': 2, 'district-9': 4, 'assassins-creed': 5, 'the-republic': 1, 'pyramids': 3, 'the-graveyard-book': 3, 'the-jungle-book': 1, 'the-iron-giant': 4, 'metropolis-1927': 2, 'misfits': 3, 'star-trek-nemesis': 10, 'slaughterhouse-five': 3, 'the-abyss': 1, 'batman-1989': 4, 'fermi-paradox': 1, 'uplift': 2, 'gene-wolfe': 3, 'citizen-of-the-galaxy': 1, 'tinker-bell': 1, 'music-identification': 7, 'person-of-interest': 3, 'sybill-trelawney': 5, 'zack-snyders-justice-league': 2, 'men-in-black-3': 7, 'economy': 1, 'wile-e-coyote-and-the-road-runner': 1, 'changeling': 14, 'the-bad-batch': 2, 'transformers-age-of-extinction': 5, 'mistborn': 17, 'the-final-empire': 5, 'the-moon-is-a-harsh-mistress': 6, 'tron-legacy': 15, 'relativity': 4, 'ancient-races': 3, 'flux-capacitor': 1, '1001-nights': 3, 'immortal-2004': 1, 'scott-pilgrim': 1, 'yuuzhan-vong': 5, 'journey-to-the-west': 1, 'genre': 5, 'the-lathe-of-heaven': 2, 'consider-phlebas': 1, 'spider-man-into-the-spider-verse': 5, 'dredd': 5, 'roger-zelazny': 9, 'dragon-ball': 8, 'jurassic-world-fallen-kingdom': 2, 'empire-series': 2, 'pebble-in-the-sky': 1, 'the-old-guard': 1, 'pirates': 5, 'prehistoric': 7, 'inside-out': 1, 'clans-of-the-alphane-moon': 1, 'fantastic-beasts-companion-book': 4, 'the-silence': 6, 'batman-returns': 3, 'spider-man-no-way-home': 13, 'through-the-looking-glass': 1, 'neverwhere': 6, 'david-eddings': 5, 'imperial-radch': 1, 'ann-leckie': 1, 'ancillary-justice': 1, 'who-framed-roger-rabbit': 1, 'horus-heresy': 10, 'jessica-jones': 12, 'fighting-fantasy': 2, 'martial-arts': 2, 'dexters-lab': 1, 'a-scanner-darkly': 2, 'close-encounters-of-the-third-kind': 2, 'olaf-stapledon': 2, 'ready-player-one': 14, 'the-phantom-tollbooth': 3, 'where-the-wild-things-are': 2, 'flight-of-the-navigator': 2, 'andor': 6, 'quantum-physics': 10, 'the-door-into-summer': 2, 'optimus-prime': 4, 'have-space-suit-will-travel': 2, 'reincarnation': 8, 'children-of-dune': 1, 'stormlight-archive': 6, 'warbreaker': 2, 'wax-wayne-novels': 4, 'eternal-champion': 3, 'the-temple-of-doom': 2, 'a-clockwork-orange': 3, 'marvel-civil-war': 3, 'source-code': 2, 'dreamcatcher': 2, 'dead-mans-chest': 4, 'lester-del-rey': 3, 'brian-herbert': 4, 'take-on-me': 2, 'lucy': 3, 'the-box': 1, 'the-neverending-story': 3, 'harry-harrison': 1, 'the-stainless-steel-rat': 1, 'oglaf': 2, 'dead-men-tell-no-tales': 4, 'china-mieville': 5, 'the-city-and-the-city': 2, 'suicide-squad-2016': 6, 'the-maze-runner': 2, 'lady-in-the-water': 1, 'the-sixth-sense': 1, 'patrick-rothfuss': 7, 'rise-of-the-silver-surfer': 2, 'q-bert': 1, 'sy-fy': 4, 'warehouse-13': 5, 'eureka': 5, 'bartimaeus': 1, 'childhoods-end': 2, 'underworld': 5, 'blackest-night': 1, 'x-men-2': 3, 'powerpuff-girls': 1, 'never-let-me-go': 2, 'mockingjay': 4, 'shannara': 5, 'dc-animated-movie-universe': 1, 'justice-league-vs-teen-titans': 1, 'amy-pond': 2, 'shrek-forever-after': 2, 'the-dresden-files': 24, 'grimms-fairy-tales': 2, 'jim-butcher': 6, 'titans-2018': 1, 'vampire-the-masquerade': 1, 'world-of-darkness': 1, 'beowulf': 1, 'myst': 3, 'merlin-bbc': 5, 'big-hero-6': 4, 'spider-man-across-the-spider-verse': 2, 'ted-chiang': 2, 'jules-feiffer': 1, 'final-fantasy': 6, 'terminator-salvation': 2, 'animal-farm': 1, 'jeepers-creepers': 1, 'pulp': 9, 'james-branch-cabell': 1, 'ash-ketchum': 1, 'luke-cage-2016': 3, 'luke-cage': 3, 'after-earth': 1, 'julian-may': 1, 'saga-of-the-exiles': 1, 'steven-spielberg': 3, 'friday': 2, 'mind-uploading': 8, 'gregory-benford': 1, 'shannara-chronicles': 5, 'x-files-tv-miniseries': 3, 'magic-the-gathering': 3, 'jaffa': 2, 'tank-girl': 1, 'superman-3': 1, 'victory-unintentional': 1, 'j-m-barrie': 2, 'pensieve': 6, 'family-guy': 1, 'the-cold-equations': 1, 'the-umbrella-academy': 3, 'grimm': 2, 'awards': 7, 'mask-of-the-phantasm': 2, 'the-tales-of-beedle-the-bard': 2, 'quidditch-through-the-ages': 2, 'the-rings-of-power': 6, 'damon-knight': 1, 'unicorns': 6, 'cloverfield': 4, 'cloverfield-2008': 4, 'old-mans-war': 2, 'john-scalzi': 2, 'the-gods-themselves': 2, 'unbreakable-trilogy': 1, 'unbreakable': 1, 'orphan-black': 2, 'heroes': 7, 'ms-marvel-2022': 3, 'the-marvels': 2, 'batman-beyond': 5, 'the-book-of-dust': 1, 'la-belle-sauvage': 1, 'poe-dameron': 4, 'elizabeth-moon': 3, 'asteroid-belt': 1, 'theater-play': 3, 'ponyo': 1, 'the-lost-world-jurassic-park': 3, 'the-once-and-future-king': 2, 'artemis': 1, 'commonwealth-saga': 2, 'the-handmaids-tale': 7, 'cloud-atlas': 2, 'big-trouble-in-little-china': 2, 'ilium-olympos': 1, 'piracy': 1, 'dungeons-and-dragons': 13, 'cryptonomicon': 6, 'earthsea': 6, 'a-deepness-in-the-sky': 5, 'dark-angel': 1, 'facehugger': 2, 'timeline-1999': 1, 'k-pax': 1, 'jules-verne': 1, 'john-steakley': 1, 'armor-book': 1, 'highlander-2': 2, 'mercy-thomson': 1, 'lucifer': 3, 'the-purge': 1, 'atlantis': 2, 'the-colour-out-of-space': 1, 'the-lost-boys': 1, 'watership-down': 2, 'revolution': 4, 'spider-man-tas': 3, 'spider-verse': 1, 'mona-lisa-overdrive': 2, 'warcraft': 6, 'forbidden-planet': 3, 'the-wise-mans-fear': 4, 'tom-riddle': 1, 'the-case-of-charles-dexter-ward': 2, 'soylent-green': 1, 'westworld': 4, 'independence-day-resurgence': 2, 'dark-knight-returns-2012': 2, 'gambit': 3, 'melancholia': 1, 'skrulls': 1, 'richard-matheson': 1, 'chuggington': 1, 'michael-burnham': 4, 'john-ringo': 1, 'troy-rising': 1, 'raymond-e-feist': 1, 'riftwar-cycle': 1, 'sliders': 6, 'disney-princess': 4, 'resident-evil': 6, 'john-varley': 1, 'the-years-best-science-fiction': 4, 'oblivion': 6, '1899': 1, 'numenor': 2, 'lord-of-light': 2, 'batgirl': 6, 'barbara-gordon': 1, 'mark-danielewski': 2, 'house-of-leaves': 2, 'freefall-webcomic': 1, 'enemy-mine': 1, 'the-prisoner': 2, 'bright-2017': 1, 'the-puppet-masters': 5, 'i-dream-of-jeannie': 3, 'sanctuary': 1, 'hollow-man': 1, 'sarlacc': 2, 'marvel-death': 1, 'character-similarity': 6, 'the-punisher': 5, 'lafferty': 5, 'kubo-and-the-two-strings': 1, 'metro-2033': 2, 'the-last-unicorn': 2, 'the-time-tunnel': 1, 'charles-stross': 11, 'diablo': 3, 'tanith-lee': 1, 'mr-freeze': 2, 'being-human': 1, 'being-human-us': 1, 'the-4400': 1, 'wonder-woman-1975': 1, 'echo-2024': 1, 'iron-fist-2017': 4, 'the-last-question': 1, 'brain-implant': 5, 'mummy': 1, 'robert-e-howard': 2, 'snowpiercer': 5, 'joe-abercrombie': 2, 'james-bond': 1, 'the-man-from-uncle': 1, 'snow-white': 1, 'xenocide': 1, 'section-31': 3, 'spy': 1, 'time-variance-authority': 6, 'the-taskmaster': 1, 'gormenghast': 1, 'jean-le-flambeur': 1, 'quantum-thief': 1, 'the-uplift-war': 1, 'watcher': 2, 'black-widow-2021': 4, 'black-lightning': 1, 'beast-boy': 3, 'nightcrawler': 5, 'titan-a-e': 1, 'vampire-chronicles': 3, 'interview-with-the-vampire': 2, 'dune-2024': 1, 'djinni': 2, 'night-at-the-museum': 2, 'dragon-ball-z': 1, 'super-mario-bros-1993': 3, 'third-rock-from-the-sun': 1, 'book-of-lost-tales': 1, 'stardust': 2, 'the-heat-death-of-the-universe': 1, 'superwoman': 1, 'powerless-tv': 2, 'evangelion': 3, 'orthogonal-trilogy': 1, 'greg-egan': 2, 'eternals-2021': 3, 'transhuman': 3, 'revision': 3, 'general-hux': 1, 'silent-running': 1, 'dan-brown': 1, 'secret-wars': 3, 'molecule-man': 1, 'ant-man-and-the-wasp-quantumania': 1, 'hinduism': 1, 'labyrinth': 2, 'night-watch-cycle': 5, 'last-watch': 2, 'frankenstein-1931': 1, 'the-lego-batman-movie': 5, 'seveneves': 5, 'bill-and-ted': 7, 'timeless': 1, 'betazoid': 3, 'tangled': 2, 'the-ringworld-engineers': 1, 'scholastic': 2, 'mysterio': 1, 'black-lightning-2018': 1, 'sergei-lukyanenko': 4, 'twilight-watch': 1, 'dark-city': 4, 'space-above-and-beyond': 1, 'darth-bane': 2, 'willow': 3, 'land-of-the-lost': 1, 'piers-anthony': 4, 'xanth': 2, 'illustrated-story': 13, 'silver-surfer': 2, 'continuum': 1, 'storm': 1, 'realm-of-the-elderlings': 3, 'c-j-cherryh': 2, 'bas-lag': 3, 'pioneer-one': 2, 'captain-lorca': 3, 'a-maze-of-death': 1, 'girl-genius': 3, 'stop-motion-animation': 2, 'saga-of-the-light-isles': 1, 'michael-ende': 2, 'remote-control': 1, 'flying-saucer': 1, 'the-outer-limits': 5, 'toy-story-4': 1, 'order-of-the-stick': 3, 'xindi': 2, 'oz-the-great-and-powerful': 1, 'mst3k': 1, 'ralph-breaks-the-internet': 2, 'the-long-earth': 3, 'charlie-and-the-chocolate-factory': 4, 'fullmetal-alchemist': 1, 'the-defenders-2017': 5, 'vlad-taltos': 2, 'steven-brust': 2, 'singularity': 4, 'doctor-fate': 1, 'space-1999': 2, 'spore-drive': 1, 'andalites': 2, 'superman-returns': 2, 'the-sword-of-truth': 3, 'voodoo': 2, 'edain': 1, 'horatio-hornblower': 2, 'gerry-anderson': 6, 'ufo': 3, 'ragman': 1, 'dwarf-for-hire': 1, 'x-men-97': 3, 'jawa': 1, 'conlang': 1, 'red-mars': 3, 'the-killing-joke-2016': 2, 'heavy-metal': 1, 'makeup': 1, 'robin-hobb': 2, 'iceman': 1, 'godzilla-2014': 2, 'monsterverse': 2, 'z-space': 1, 'smallville': 2, 'raised-by-wolves': 1, 'hal-clement': 1, 'wreck-it-ralph': 5, 'batman-forever-1995': 1, 'herbert-west-reanimator': 1, 'masters-of-the-universe': 1, 'nights-dawn-trilogy': 1, 'the-thousand-worlds': 2, 'space-travel': 3, 'the-crow': 1, 'celestials': 4, 'lock-in': 1, 'princess-mononoke': 2, 'the-ice-dragon': 1, 'scp-foundation': 1, 'spider-man-3': 2, 'mecha': 6, 'shang-chi-legend-of-the-ten-rings': 2, 'orphans-of-the-sky': 1, 'ufos': 3, 'red-sonja': 2, 'hercules': 1, 'a-wrinkle-in-time': 8, 'madeleine-lengle': 2, 'disenchantment': 1, 'black-panther-wakanda-forever': 2, 'roald-dahl': 3, 'divergent': 1, 'the-stepford-wives': 1, 'the-tomorrow-war': 1, 'the-100': 2, 'northern-lights': 1, 'christopher-paolini': 6, 'dhalgren': 2, 'samuel-delany': 6, 'altered-carbon': 6, 'allegory': 4, 'the-number-of-the-beast': 1, 'harlan-ellison': 3, 'underdog': 1, 'espionage': 3, 'team-thor': 3, 'trudi-canavan': 1, 'black-magician': 1, 'john-christopher': 1, 'goosebumps': 2, 'white-bear': 1, 'hunchback-of-notre-dame': 1, 'time-loop': 2, 'dark': 1, 'educational': 1, 'olympics': 1, 'parallels': 1, 'accessibility': 1, 'chalion': 2, 'marvel-illuminati': 2, 'star-trek-strange-new-worlds': 1, 'ebooks': 1, 'stranger-than-fiction': 1, 'stephen-baxter': 3, 'time-odyssey': 2, 'super-8': 2, 'anne-rice': 1, 'elantris': 1, 'ballad-of-songbirds-and-snakes': 1, 'clangers': 1, 'superman-the-animated-series': 2, 'under-the-dome': 1, 'mortal-engines': 3, 'old-kingdom': 2, 'jaeger': 1, 'timecop': 1, 'the-killing-joke': 3, 'the-shining': 3, 'vanilla-sky': 1, 'mummy-2017': 1, 'the-dark-is-rising': 1, 'power-rangers': 4, 'the-blair-witch-project': 1, 'vacuum-flowers': 1, 'elric-saga': 2, 'she-hulk-attorney-at-law': 2, 'the-predator': 2, 'thomas-covenant': 2, 'stephen-r-donaldson': 1, 'the-stand': 1, 'spider-robinson': 1, 'percy-jackson': 7, 'rick-riordan': 2, 'the-heroes-of-olympus': 2, 'the-kane-chronicles': 1, 'eric-frank-russell': 2, 'megamind': 1, 'a-christmas-carol': 1, 'white-christmas': 1, 'mulan': 1, 'james-blish': 3, 'the-green-mile': 3, 'mia-and-me': 1, 'falling-skies': 3, 'bioshock': 1, '28-days-later': 1, 'league-of-extraordinary-gentlemen': 4, 'lord-dunsany': 2, 'rainbows-end': 1, 'john-ciardi': 1, 'encanto': 2, 'the-dark-forest': 4, 'sunshine': 4, 'howls-moving-castle': 1, 'the-cloverfield-paradox': 1, '10-cloverfield-lane': 1, 'alastor': 1, 'polar-express': 1, 'jorge-luis-borges': 1, 'thor-mythology': 1, 'apotheosis': 2, 'rivers-of-london': 4, 'phoenix-force': 2, 'toads-spit': 1, 'steven-universe': 3, 'the-land-of-painted-caves': 1, 'babel-17': 2, 'predators-2010': 1, 'yeerks': 2, 'the-horse-and-his-boy': 1, 'starman-jones': 1, 'weird-science': 1, 'andre-norton': 1, 'witch-world': 1, 'baen': 2, 'majoras-mask': 2, 'batman-inc': 1, 'jonathan-strange-and-mr-norrell': 1, 'beetlejuice': 1, 'player-of-games': 1, 'deflector': 1, 'wool': 2, 'hugh-howey': 1, 'harvey-dent': 1, 'the-batman': 2, 'alien-isolation': 1, 'project-hail-mary': 3, 'a-quiet-place': 2, 'deep-rising': 1, 'mister-mxyzptlk': 1, 'heretics-of-dune': 2, 'wordgirl': 1, 'the-black-hole': 2, 'poem': 1, 'avengers-assemble-tv': 2, 'tau-zero': 1, 'mortal-kombat': 1, 'ghost-rider': 2, 'dont-look-up': 1, 'count-zero': 1, 'dragon-age': 1, 'secret-wars-1985': 1, 'power-rangers-megaforce': 1, 'mobile-armored-strike-kommand': 2, 'skylark-series': 1, 'the-final-countdown': 1, 'gi-joe': 1, 'blue-ant-trilogy': 1, 'spook-country': 1, 'nancy-kress': 1, 'beggars-in-spain': 1, 'hooverphonic': 1, 'the-creator-2023': 1, 'the-christmas-chronicles': 1, 'the-midwich-cuckoos': 1, 'artemis-fowl': 4, 'artemis-fowl-the-time-paradox': 1, 'thor': 1, 'deaths-end': 1, 'uprooted': 1, '2000ad': 3, 'flash-gordon': 3, 'jumper': 1, 'the-watch': 1, 'krull': 1, 'image-comics': 2, 'ninja-gaiden': 1, 'ghostwriting': 1, 'transmetropolitan': 1, 'michael-moorcock': 1, 'star-wars-holiday-special': 2, 'teenage-mutant-ninja-turtles-2003': 1, 'poison-ivy': 1, 'thaddeus-howze': 1, 'short-circuit': 1, 'robocop-2014': 1, 'paw-patrol': 2, 'metroid-prime': 1, 'metroid': 1, 'invincible': 2, 'lost-in-space-2018': 1, 'weaver': 1, 'nausicaa-of-the-valley-of-the-wind': 2, 'krypton-2018': 1, 'the-living-tribunal': 1, 'dead-space': 1, 'castlevania': 1, 'the-mysterious-island': 1, 'tasha-yar': 1, 'mona-the-vampire': 1, 'urania': 1, 'heechee-saga': 2, 'gravity-falls': 1, 'star-trek-phase-ii': 1, 'foreigner-series': 2, 'hellblazer': 2, 'sixth-watch': 1, 'avengers-initiative': 1, 'robert-sheckley': 1, 'fables-comics': 1, 'sharknado': 1, 'wardstone-chronicles': 1, 'space-jam': 1, 'valis': 2, 'frank-miller': 1, 'immortals': 2, 'mork-and-mindy': 1, 'fraggle-rock': 1, 'another-life': 1, 'iron-fist': 1, 'honor-among-thieves': 1, 'wanted': 1, 'fantastic-four-2015': 1, 'salvation': 1, 'questionable-content': 1, 'xenos': 1, 'necrons': 1, 'time-quintet': 1, 'memoirs-of-an-invisible-man': 1, 'the-witches': 1, 'the-caves-of-steel': 1, 'strata': 1, 'holiday-special': 1, 'gugure-kokkuri-san': 1, 'jurassic-park-iii': 1, 'harrison-bergeron': 1, 'hentai': 1, 'mandrake-the-magician': 1, 'the-sarah-jane-adventures': 2, 'mark-twain': 1, 'the-peace-war': 1, 'erfworld': 1, 'lone-wolf': 1, 'magnamund': 1, '2312': 1, 'font': 1, 'primer': 3, 'the-cat-who-walks-through-walls': 1, 'litrpg': 1, 'spike': 1, 'dragonball-gt': 1, 'transformers-the-last-knight': 2, 'one-piece': 1, 'werewolf-by-night': 1, 'the-disposessed': 1, 'love-death-and-robots': 1, 'algis-budrys': 2, 'runaways': 1, 'the-first-law': 1, 'koloss': 1, 't-h-white': 1, 'idiocracy': 2, 'mermaids': 1, 'robert-kirkman': 4, 'cities-in-flight': 1, 'chamber-of-secrets': 1, 'solaris': 2, 'inkheart-trilogy': 2, 'kaiju': 1, 'reboot-1994': 1, 'perry-rhodan': 1, 'the-vampire-diaries': 2, 'polity-universe': 1, 'primeval': 1, 'the-complete-robot': 1, 'the-peripheral': 2, 'the-electric-church': 1, 'the-castle-of-otranto': 1, 'the-enchanted': 1, 'ocarina-of-time': 1, 'wilhelm-scream': 1, 'chuck': 1, 'the-children-of-the-sky': 1, 'harry-turtledove': 2, 'empire-star': 1, 'teixcalaan': 1, 'earth-2': 1, 'the-ocean-at-the-end-of-the-lane': 1, 'snow-white-and-the-huntsman': 1, 'greg-bear': 1, 'rats-of-nimh': 1, 'gargoyles-1994': 1, 'the-centurions': 1, 'norby': 1, 'steven-erikson': 1, 'medicine': 1, 'the-king-of-elflands-daugher': 1, 'flashpoint-paradox': 2, 'flashpoint': 1, 'gunnerkrigg-court': 1, 'kings-quest-ii': 1, 'nazis': 2, 'vandal-savage': 1, 'x-files-season-10-comic': 1, 'zombieland': 1, 'the-phantom': 1, 'project-almanac': 1, 'venture-bros': 1, 'wonka-2023': 1, 'tales-of-the-jedi': 1, 'the-shadow-out-of-time': 1, 'the-tripods': 1, 'destiny': 1, 'maleficent': 1, 'mercedes-lackey': 3, 'martian-manhunter': 1, 'stormbringer': 1, 'life-adventures-santa-claus': 1, 'power-rangers-2017': 1, 'the-national-anthem': 1, 'delphini': 1, 'nicolas-flamel': 1, 'xcom': 1, 'silo': 1, 'battletech': 1, 'space-wolves': 1, 'the-thing': 1, 'activity-book': 1, 'sigil-comics': 1, 'ascension': 1, 'the-call-of-cthulhu-2005': 1, 'a-plague-of-demons': 1, 'hancock': 1, 'ace-ventura': 1, 'the-rolling-stones': 1, 'dogma': 1, 'thx-1138': 1, 'books-of-magic': 1, 'the-immortal': 1, 'the-slow-regard-of-silent-things': 2, 'scott-lynch': 1, 'gentlemen-bastards': 1, 'john-taine': 1, 'triangle': 1, 'time-bandits': 1, 'moon-knight-2022': 3, 'death-stranding': 1, 'carl-sagan': 1, 'megatron': 1, 'connie-willis': 1, 'equilibrium': 2, 'the-dragon-prince': 1, 'avatar-the-way-of-water': 1, 'underworld-awakening': 1, 'the-lone-gunmen': 1, 'millennium': 1, 'duke-nukem': 1, 'the-circle': 1, 'song-of-the-sea': 1, 'downsizing-2017': 1, 'sky-captain-world-of-tomorrow': 1, 'snowpiercer-2020': 1, 'the-last-colony': 1, 'the-roads-must-roll': 1, 'terminator-dark-fate': 1, 'it-2017': 1, 'justice-league-crisis-on-two-earths': 1, 'dark-nights-metal': 1, 'annihilation': 1, 'suicide-squad': 1, 'margaret-atwood': 1, 'miracle-on-34th-street': 1, 'moon-knight': 1, 'alien-vs.-predator-requiem': 1, 'borderlands': 1, 'hanna-barbera': 1, 'the-oa': 1, 'superman-vs-the-elite': 1, 'idw-comics': 1, 'zoo': 1, 'hieros-journey': 1, 'penguins-of-madagascar': 1, 'octodad': 1, 'dinobots': 1, 'isekai': 3, 'cultivation': 1, 'grinch': 1, 'lemony-snicket': 1, 'unfortunate-events-2017': 1, 'riddick-2013': 1, 'cryostasis': 1, 'eternals': 2, 'osmosis-jones': 1, '20000-leagues-under-the-sea': 2, 'alien-nation': 1, 'static-shock': 1, 'humans': 1, 'jupiter-ascending': 1, 'ayreon': 1, 'nightwing': 1, 'star-trek-insurrection': 1, 'house-of-the-dragon': 1, 'lankhmar': 1, 'mighty-morphin-power-rangers': 1, 'chekhovs-gun': 1, 'archetypes': 1, 'a-heros-journey': 1, 'kyle-xy': 1, 'liaden': 1, 'jeremiah': 1, 'the-pursuit-of-pankera': 1, 'nnedi-okorafor': 1, 'little-prince': 1, 'the-lost-room': 1, 'laputa-castle-in-the-sky': 1, 'history-lesson': 1, 'codominium-universe': 1, 'the-forever-war': 1, 'joe-haldeman': 1, 'worldwar-series': 1, 'vixen': 1, 'god-emperor-of-dune': 1, 'lexx': 1, 'blackbolt': 1, 'new-avengers': 1, 'the-adjustment-bureau': 2, 'fafhrd': 1, 'gray-mouser': 1, 'aldous-huxley': 1, 'archer': 1, 'chernobog': 1, 's-m-stirling': 1, 'mi-go': 1, 'non-stop-novel': 1, 'penny-dreadful': 1}\n"
          ]
        }
      ],
      "source": [
        "tags_list = df.tags.to_list()\n",
        "tag_count = {}\n",
        "for tags in tags_list:\n",
        "  tag_list = eval(tags)\n",
        "  for tag in tag_list:\n",
        "    if tag in tag_count.keys():\n",
        "      tag_count[tag] += 1\n",
        "    else:\n",
        "      tag_count[tag] = 1\n",
        "print(f\"Number of Tags: {len(tag_count)}\")\n",
        "print(tag_count)"
      ]
    },
    {
      "cell_type": "code",
      "execution_count": 11,
      "metadata": {
        "colab": {
          "base_uri": "https://localhost:8080/"
        },
        "id": "W3FCjoJg_YAn",
        "outputId": "960b1530-7224-4d2f-c488-ac5831b3ad71"
      },
      "outputs": [
        {
          "output_type": "execute_result",
          "data": {
            "text/plain": [
              "(1935,\n",
              " ['tom-bombadil',\n",
              "  'groundhog-day',\n",
              "  'millennium-falcon',\n",
              "  'back-to-the-future-ii',\n",
              "  'prediction'])"
            ]
          },
          "metadata": {},
          "execution_count": 11
        }
      ],
      "source": [
        "threshold = int(len(df) * 0.002)\n",
        "rare_tags = [key for key, value in tag_count.items() if value < threshold]\n",
        "len(rare_tags), rare_tags[:5]"
      ]
    },
    {
      "cell_type": "code",
      "execution_count": 12,
      "metadata": {
        "colab": {
          "base_uri": "https://localhost:8080/"
        },
        "id": "KuqB3iep_x-6",
        "outputId": "0c1ac270-6b82-4477-f333-dc37247e7ea5"
      },
      "outputs": [
        {
          "output_type": "execute_result",
          "data": {
            "text/plain": [
              "(27493, 4)"
            ]
          },
          "metadata": {},
          "execution_count": 12
        }
      ],
      "source": [
        "tags_list = df.tags.to_list()\n",
        "revised_tag_list = []\n",
        "indices_to_drop = []\n",
        "\n",
        "for idx, tags in enumerate(tags_list):\n",
        "  tag_list = eval(tags)\n",
        "  revised_tags = []\n",
        "\n",
        "  for tag in tag_list:\n",
        "    if tag not in rare_tags:\n",
        "      revised_tags.append(tag)\n",
        "\n",
        "  if len(revised_tags) == 0:\n",
        "    indices_to_drop.append(idx)\n",
        "  else:\n",
        "    revised_tag_list.append(revised_tags)\n",
        "\n",
        "df = df.drop(indices_to_drop).reset_index(drop=True)\n",
        "df.shape"
      ]
    },
    {
      "cell_type": "code",
      "execution_count": 13,
      "metadata": {
        "id": "w2wkEqFdA4l0"
      },
      "outputs": [],
      "source": [
        "df['revised_tags'] = revised_tag_list"
      ]
    },
    {
      "cell_type": "code",
      "execution_count": 14,
      "metadata": {
        "colab": {
          "base_uri": "https://localhost:8080/",
          "height": 813
        },
        "id": "YGIQixGyH8NJ",
        "outputId": "9d9bcfd9-38a2-4fa9-b284-19e05e26b2f2"
      },
      "outputs": [
        {
          "output_type": "execute_result",
          "data": {
            "text/plain": [
              "                                                                                   title  \\\n",
              "27488                                    Did the Third Doctor ever salute the Brigadier?   \n",
              "27489              Three children get trapped in a painting, inside a maze in a building   \n",
              "27490  Movie with humans in a floating cryopod where one believes an alien is his mother   \n",
              "27491                                    Looking for 80s/90s YA Horror Story Compilation   \n",
              "27492         Why didn&#39;t the Joker follow through with his plan at the dinner party?   \n",
              "\n",
              "                                                                                                                                    url  \\\n",
              "27488                                    https://scifi.stackexchange.com/questions/79188/did-the-third-doctor-ever-salute-the-brigadier   \n",
              "27489              https://scifi.stackexchange.com/questions/73430/three-children-get-trapped-in-a-painting-inside-a-maze-in-a-building   \n",
              "27490  https://scifi.stackexchange.com/questions/71910/movie-with-humans-in-a-floating-cryopod-where-one-believes-an-alien-is-his-mothe   \n",
              "27491                                   https://scifi.stackexchange.com/questions/71469/looking-for-80s-90s-ya-horror-story-compilation   \n",
              "27492              https://scifi.stackexchange.com/questions/71047/why-didnt-the-joker-follow-through-with-his-plan-at-the-dinner-party   \n",
              "\n",
              "                                                                                                                                                                                                                                                                                                                                                                                                                                                                                                                                                                                                                   description  \\\n",
              "27488  In the finale of Series 8, Brigadier Alistair Lethbridge-Stewart's daughter Kate mentions that it had always been her father's wish that the Doctor would return his salute. Towards the end of the episode,\\n\\na Cyberman, presumably reanimated from the Brigadier's corpse, receives said salute from the twelfth Doctor.\\n\\nThe modern Doctor's disdain for salutes is well known. What surprises me, however, is that the third doctor, who had the most extensive relationship with the Brigadier, never returned a salute. While the Doctor was always disdainful of military customs, he was always polite a...   \n",
              "27489                        There are three children. They are in some sort of building where there is a painting. There is some sort of maze in the building and one of the children walks through the maze, chanting a particular word. The other two children soon realise that he is missing and imitate what he did before he went missing. The two children find themselves in the painting and they have to find their friend who entered the painting earlier than them. All the people they meet in the painting are unable to move or talk, with a few exceptions. They soon manage to escape from the painting. \\n   \n",
              "27490  I remember seeing this sci-fi movie in video stores on VHS but don't know the name. I'm guessing its close to late 70s but more likely an 80s movie. It's in color and I remember the graphics as decent. It's been some time so I'll give what I remember. \\nThis is a movie that takes place in space.\\nThere is a human (or at least appears human) male who seems to float around in a pod with a glass top. It looks like the cryo units in Alien but floats around.\\nHe seems to believe an alien or creature is his mother, who tells him the humans who arrive will kill him.\\nThe movie ends with him and a...   \n",
              "27491  I have been trying to find this collection for a while now; this is the first forum i've asked in. \\nIt was probably a short book, with stories in the style of Christopher Pike and R.L. Stine. I only remember two of the stories. \\n1.) A girl goes out with her parents--camping or shopping or something--and meets a strange girl around her age who has a t-shirt with two lips on it. She becomes friends with the girl and stuff happens (sorry, i don't remember!), and in the end, the girl has somehow taken her place in her home, and she looks down at herself and sees she is wearing the t-shirt wi...   \n",
              "27492  I just finished reading the Batman arc Death of the Family, and I loved every part of it, but I didn't understand one thing.  In the climactic scene toward the end of the story, we find out that...\\n\\n...the Joker has kidnapped the rest of the Bat-Family, restrained them, and cut off their faces so he could reveal them on silver platters at his \"dinner party.\"\\n\\nIt's a suitably terrifying moment, especially given Joker's own condition at the time.  However, by the end of the scene we discover instead that...\\n\\n...it was all a lie, the faces were fake, and the Bat-Family was unharmed.\\n\\n...   \n",
              "\n",
              "                                                    tags  \\\n",
              "27488                                     ['doctor-who']   \n",
              "27489                           ['story-identification']   \n",
              "27490                  ['story-identification', 'movie']   \n",
              "27491  ['story-identification', 'young-adult', 'horror']   \n",
              "27492                                   ['dc', 'batman']   \n",
              "\n",
              "                                      revised_tags  \n",
              "27488                                 [doctor-who]  \n",
              "27489                       [story-identification]  \n",
              "27490                [story-identification, movie]  \n",
              "27491  [story-identification, young-adult, horror]  \n",
              "27492                                 [dc, batman]  "
            ],
            "text/html": [
              "\n",
              "  <div id=\"df-67832af1-4719-41f1-824f-3b5a9be2430f\" class=\"colab-df-container\">\n",
              "    <div>\n",
              "<style scoped>\n",
              "    .dataframe tbody tr th:only-of-type {\n",
              "        vertical-align: middle;\n",
              "    }\n",
              "\n",
              "    .dataframe tbody tr th {\n",
              "        vertical-align: top;\n",
              "    }\n",
              "\n",
              "    .dataframe thead th {\n",
              "        text-align: right;\n",
              "    }\n",
              "</style>\n",
              "<table border=\"1\" class=\"dataframe\">\n",
              "  <thead>\n",
              "    <tr style=\"text-align: right;\">\n",
              "      <th></th>\n",
              "      <th>title</th>\n",
              "      <th>url</th>\n",
              "      <th>description</th>\n",
              "      <th>tags</th>\n",
              "      <th>revised_tags</th>\n",
              "    </tr>\n",
              "  </thead>\n",
              "  <tbody>\n",
              "    <tr>\n",
              "      <th>27488</th>\n",
              "      <td>Did the Third Doctor ever salute the Brigadier?</td>\n",
              "      <td>https://scifi.stackexchange.com/questions/79188/did-the-third-doctor-ever-salute-the-brigadier</td>\n",
              "      <td>In the finale of Series 8, Brigadier Alistair Lethbridge-Stewart's daughter Kate mentions that it had always been her father's wish that the Doctor would return his salute. Towards the end of the episode,\\n\\na Cyberman, presumably reanimated from the Brigadier's corpse, receives said salute from the twelfth Doctor.\\n\\nThe modern Doctor's disdain for salutes is well known. What surprises me, however, is that the third doctor, who had the most extensive relationship with the Brigadier, never returned a salute. While the Doctor was always disdainful of military customs, he was always polite a...</td>\n",
              "      <td>['doctor-who']</td>\n",
              "      <td>[doctor-who]</td>\n",
              "    </tr>\n",
              "    <tr>\n",
              "      <th>27489</th>\n",
              "      <td>Three children get trapped in a painting, inside a maze in a building</td>\n",
              "      <td>https://scifi.stackexchange.com/questions/73430/three-children-get-trapped-in-a-painting-inside-a-maze-in-a-building</td>\n",
              "      <td>There are three children. They are in some sort of building where there is a painting. There is some sort of maze in the building and one of the children walks through the maze, chanting a particular word. The other two children soon realise that he is missing and imitate what he did before he went missing. The two children find themselves in the painting and they have to find their friend who entered the painting earlier than them. All the people they meet in the painting are unable to move or talk, with a few exceptions. They soon manage to escape from the painting. \\n</td>\n",
              "      <td>['story-identification']</td>\n",
              "      <td>[story-identification]</td>\n",
              "    </tr>\n",
              "    <tr>\n",
              "      <th>27490</th>\n",
              "      <td>Movie with humans in a floating cryopod where one believes an alien is his mother</td>\n",
              "      <td>https://scifi.stackexchange.com/questions/71910/movie-with-humans-in-a-floating-cryopod-where-one-believes-an-alien-is-his-mothe</td>\n",
              "      <td>I remember seeing this sci-fi movie in video stores on VHS but don't know the name. I'm guessing its close to late 70s but more likely an 80s movie. It's in color and I remember the graphics as decent. It's been some time so I'll give what I remember. \\nThis is a movie that takes place in space.\\nThere is a human (or at least appears human) male who seems to float around in a pod with a glass top. It looks like the cryo units in Alien but floats around.\\nHe seems to believe an alien or creature is his mother, who tells him the humans who arrive will kill him.\\nThe movie ends with him and a...</td>\n",
              "      <td>['story-identification', 'movie']</td>\n",
              "      <td>[story-identification, movie]</td>\n",
              "    </tr>\n",
              "    <tr>\n",
              "      <th>27491</th>\n",
              "      <td>Looking for 80s/90s YA Horror Story Compilation</td>\n",
              "      <td>https://scifi.stackexchange.com/questions/71469/looking-for-80s-90s-ya-horror-story-compilation</td>\n",
              "      <td>I have been trying to find this collection for a while now; this is the first forum i've asked in. \\nIt was probably a short book, with stories in the style of Christopher Pike and R.L. Stine. I only remember two of the stories. \\n1.) A girl goes out with her parents--camping or shopping or something--and meets a strange girl around her age who has a t-shirt with two lips on it. She becomes friends with the girl and stuff happens (sorry, i don't remember!), and in the end, the girl has somehow taken her place in her home, and she looks down at herself and sees she is wearing the t-shirt wi...</td>\n",
              "      <td>['story-identification', 'young-adult', 'horror']</td>\n",
              "      <td>[story-identification, young-adult, horror]</td>\n",
              "    </tr>\n",
              "    <tr>\n",
              "      <th>27492</th>\n",
              "      <td>Why didn&amp;#39;t the Joker follow through with his plan at the dinner party?</td>\n",
              "      <td>https://scifi.stackexchange.com/questions/71047/why-didnt-the-joker-follow-through-with-his-plan-at-the-dinner-party</td>\n",
              "      <td>I just finished reading the Batman arc Death of the Family, and I loved every part of it, but I didn't understand one thing.  In the climactic scene toward the end of the story, we find out that...\\n\\n...the Joker has kidnapped the rest of the Bat-Family, restrained them, and cut off their faces so he could reveal them on silver platters at his \"dinner party.\"\\n\\nIt's a suitably terrifying moment, especially given Joker's own condition at the time.  However, by the end of the scene we discover instead that...\\n\\n...it was all a lie, the faces were fake, and the Bat-Family was unharmed.\\n\\n...</td>\n",
              "      <td>['dc', 'batman']</td>\n",
              "      <td>[dc, batman]</td>\n",
              "    </tr>\n",
              "  </tbody>\n",
              "</table>\n",
              "</div>\n",
              "    <div class=\"colab-df-buttons\">\n",
              "\n",
              "  <div class=\"colab-df-container\">\n",
              "    <button class=\"colab-df-convert\" onclick=\"convertToInteractive('df-67832af1-4719-41f1-824f-3b5a9be2430f')\"\n",
              "            title=\"Convert this dataframe to an interactive table.\"\n",
              "            style=\"display:none;\">\n",
              "\n",
              "  <svg xmlns=\"http://www.w3.org/2000/svg\" height=\"24px\" viewBox=\"0 -960 960 960\">\n",
              "    <path d=\"M120-120v-720h720v720H120Zm60-500h600v-160H180v160Zm220 220h160v-160H400v160Zm0 220h160v-160H400v160ZM180-400h160v-160H180v160Zm440 0h160v-160H620v160ZM180-180h160v-160H180v160Zm440 0h160v-160H620v160Z\"/>\n",
              "  </svg>\n",
              "    </button>\n",
              "\n",
              "  <style>\n",
              "    .colab-df-container {\n",
              "      display:flex;\n",
              "      gap: 12px;\n",
              "    }\n",
              "\n",
              "    .colab-df-convert {\n",
              "      background-color: #E8F0FE;\n",
              "      border: none;\n",
              "      border-radius: 50%;\n",
              "      cursor: pointer;\n",
              "      display: none;\n",
              "      fill: #1967D2;\n",
              "      height: 32px;\n",
              "      padding: 0 0 0 0;\n",
              "      width: 32px;\n",
              "    }\n",
              "\n",
              "    .colab-df-convert:hover {\n",
              "      background-color: #E2EBFA;\n",
              "      box-shadow: 0px 1px 2px rgba(60, 64, 67, 0.3), 0px 1px 3px 1px rgba(60, 64, 67, 0.15);\n",
              "      fill: #174EA6;\n",
              "    }\n",
              "\n",
              "    .colab-df-buttons div {\n",
              "      margin-bottom: 4px;\n",
              "    }\n",
              "\n",
              "    [theme=dark] .colab-df-convert {\n",
              "      background-color: #3B4455;\n",
              "      fill: #D2E3FC;\n",
              "    }\n",
              "\n",
              "    [theme=dark] .colab-df-convert:hover {\n",
              "      background-color: #434B5C;\n",
              "      box-shadow: 0px 1px 3px 1px rgba(0, 0, 0, 0.15);\n",
              "      filter: drop-shadow(0px 1px 2px rgba(0, 0, 0, 0.3));\n",
              "      fill: #FFFFFF;\n",
              "    }\n",
              "  </style>\n",
              "\n",
              "    <script>\n",
              "      const buttonEl =\n",
              "        document.querySelector('#df-67832af1-4719-41f1-824f-3b5a9be2430f button.colab-df-convert');\n",
              "      buttonEl.style.display =\n",
              "        google.colab.kernel.accessAllowed ? 'block' : 'none';\n",
              "\n",
              "      async function convertToInteractive(key) {\n",
              "        const element = document.querySelector('#df-67832af1-4719-41f1-824f-3b5a9be2430f');\n",
              "        const dataTable =\n",
              "          await google.colab.kernel.invokeFunction('convertToInteractive',\n",
              "                                                    [key], {});\n",
              "        if (!dataTable) return;\n",
              "\n",
              "        const docLinkHtml = 'Like what you see? Visit the ' +\n",
              "          '<a target=\"_blank\" href=https://colab.research.google.com/notebooks/data_table.ipynb>data table notebook</a>'\n",
              "          + ' to learn more about interactive tables.';\n",
              "        element.innerHTML = '';\n",
              "        dataTable['output_type'] = 'display_data';\n",
              "        await google.colab.output.renderOutput(dataTable, element);\n",
              "        const docLink = document.createElement('div');\n",
              "        docLink.innerHTML = docLinkHtml;\n",
              "        element.appendChild(docLink);\n",
              "      }\n",
              "    </script>\n",
              "  </div>\n",
              "\n",
              "\n",
              "<div id=\"df-dc302350-0c56-436f-84c8-248cb905bf45\">\n",
              "  <button class=\"colab-df-quickchart\" onclick=\"quickchart('df-dc302350-0c56-436f-84c8-248cb905bf45')\"\n",
              "            title=\"Suggest charts\"\n",
              "            style=\"display:none;\">\n",
              "\n",
              "<svg xmlns=\"http://www.w3.org/2000/svg\" height=\"24px\"viewBox=\"0 0 24 24\"\n",
              "     width=\"24px\">\n",
              "    <g>\n",
              "        <path d=\"M19 3H5c-1.1 0-2 .9-2 2v14c0 1.1.9 2 2 2h14c1.1 0 2-.9 2-2V5c0-1.1-.9-2-2-2zM9 17H7v-7h2v7zm4 0h-2V7h2v10zm4 0h-2v-4h2v4z\"/>\n",
              "    </g>\n",
              "</svg>\n",
              "  </button>\n",
              "\n",
              "<style>\n",
              "  .colab-df-quickchart {\n",
              "      --bg-color: #E8F0FE;\n",
              "      --fill-color: #1967D2;\n",
              "      --hover-bg-color: #E2EBFA;\n",
              "      --hover-fill-color: #174EA6;\n",
              "      --disabled-fill-color: #AAA;\n",
              "      --disabled-bg-color: #DDD;\n",
              "  }\n",
              "\n",
              "  [theme=dark] .colab-df-quickchart {\n",
              "      --bg-color: #3B4455;\n",
              "      --fill-color: #D2E3FC;\n",
              "      --hover-bg-color: #434B5C;\n",
              "      --hover-fill-color: #FFFFFF;\n",
              "      --disabled-bg-color: #3B4455;\n",
              "      --disabled-fill-color: #666;\n",
              "  }\n",
              "\n",
              "  .colab-df-quickchart {\n",
              "    background-color: var(--bg-color);\n",
              "    border: none;\n",
              "    border-radius: 50%;\n",
              "    cursor: pointer;\n",
              "    display: none;\n",
              "    fill: var(--fill-color);\n",
              "    height: 32px;\n",
              "    padding: 0;\n",
              "    width: 32px;\n",
              "  }\n",
              "\n",
              "  .colab-df-quickchart:hover {\n",
              "    background-color: var(--hover-bg-color);\n",
              "    box-shadow: 0 1px 2px rgba(60, 64, 67, 0.3), 0 1px 3px 1px rgba(60, 64, 67, 0.15);\n",
              "    fill: var(--button-hover-fill-color);\n",
              "  }\n",
              "\n",
              "  .colab-df-quickchart-complete:disabled,\n",
              "  .colab-df-quickchart-complete:disabled:hover {\n",
              "    background-color: var(--disabled-bg-color);\n",
              "    fill: var(--disabled-fill-color);\n",
              "    box-shadow: none;\n",
              "  }\n",
              "\n",
              "  .colab-df-spinner {\n",
              "    border: 2px solid var(--fill-color);\n",
              "    border-color: transparent;\n",
              "    border-bottom-color: var(--fill-color);\n",
              "    animation:\n",
              "      spin 1s steps(1) infinite;\n",
              "  }\n",
              "\n",
              "  @keyframes spin {\n",
              "    0% {\n",
              "      border-color: transparent;\n",
              "      border-bottom-color: var(--fill-color);\n",
              "      border-left-color: var(--fill-color);\n",
              "    }\n",
              "    20% {\n",
              "      border-color: transparent;\n",
              "      border-left-color: var(--fill-color);\n",
              "      border-top-color: var(--fill-color);\n",
              "    }\n",
              "    30% {\n",
              "      border-color: transparent;\n",
              "      border-left-color: var(--fill-color);\n",
              "      border-top-color: var(--fill-color);\n",
              "      border-right-color: var(--fill-color);\n",
              "    }\n",
              "    40% {\n",
              "      border-color: transparent;\n",
              "      border-right-color: var(--fill-color);\n",
              "      border-top-color: var(--fill-color);\n",
              "    }\n",
              "    60% {\n",
              "      border-color: transparent;\n",
              "      border-right-color: var(--fill-color);\n",
              "    }\n",
              "    80% {\n",
              "      border-color: transparent;\n",
              "      border-right-color: var(--fill-color);\n",
              "      border-bottom-color: var(--fill-color);\n",
              "    }\n",
              "    90% {\n",
              "      border-color: transparent;\n",
              "      border-bottom-color: var(--fill-color);\n",
              "    }\n",
              "  }\n",
              "</style>\n",
              "\n",
              "  <script>\n",
              "    async function quickchart(key) {\n",
              "      const quickchartButtonEl =\n",
              "        document.querySelector('#' + key + ' button');\n",
              "      quickchartButtonEl.disabled = true;  // To prevent multiple clicks.\n",
              "      quickchartButtonEl.classList.add('colab-df-spinner');\n",
              "      try {\n",
              "        const charts = await google.colab.kernel.invokeFunction(\n",
              "            'suggestCharts', [key], {});\n",
              "      } catch (error) {\n",
              "        console.error('Error during call to suggestCharts:', error);\n",
              "      }\n",
              "      quickchartButtonEl.classList.remove('colab-df-spinner');\n",
              "      quickchartButtonEl.classList.add('colab-df-quickchart-complete');\n",
              "    }\n",
              "    (() => {\n",
              "      let quickchartButtonEl =\n",
              "        document.querySelector('#df-dc302350-0c56-436f-84c8-248cb905bf45 button');\n",
              "      quickchartButtonEl.style.display =\n",
              "        google.colab.kernel.accessAllowed ? 'block' : 'none';\n",
              "    })();\n",
              "  </script>\n",
              "</div>\n",
              "\n",
              "    </div>\n",
              "  </div>\n"
            ],
            "application/vnd.google.colaboratory.intrinsic+json": {
              "type": "dataframe",
              "summary": "{\n  \"name\": \"df\",\n  \"rows\": 5,\n  \"fields\": [\n    {\n      \"column\": \"title\",\n      \"properties\": {\n        \"dtype\": \"string\",\n        \"num_unique_values\": 5,\n        \"samples\": [\n          \"Three children get trapped in a painting, inside a maze in a building\",\n          \"Why didn&#39;t the Joker follow through with his plan at the dinner party?\",\n          \"Movie with humans in a floating cryopod where one believes an alien is his mother\"\n        ],\n        \"semantic_type\": \"\",\n        \"description\": \"\"\n      }\n    },\n    {\n      \"column\": \"url\",\n      \"properties\": {\n        \"dtype\": \"string\",\n        \"num_unique_values\": 5,\n        \"samples\": [\n          \"https://scifi.stackexchange.com/questions/73430/three-children-get-trapped-in-a-painting-inside-a-maze-in-a-building\",\n          \"https://scifi.stackexchange.com/questions/71047/why-didnt-the-joker-follow-through-with-his-plan-at-the-dinner-party\",\n          \"https://scifi.stackexchange.com/questions/71910/movie-with-humans-in-a-floating-cryopod-where-one-believes-an-alien-is-his-mothe\"\n        ],\n        \"semantic_type\": \"\",\n        \"description\": \"\"\n      }\n    },\n    {\n      \"column\": \"description\",\n      \"properties\": {\n        \"dtype\": \"string\",\n        \"num_unique_values\": 5,\n        \"samples\": [\n          \"There are three children. They are in some sort of building where there is a painting. There is some sort of maze in the building and one of the children walks through the maze, chanting a particular word. The other two children soon realise that he is missing and imitate what he did before he went missing. The two children find themselves in the painting and they have to find their friend who entered the painting earlier than them. All the people they meet in the painting are unable to move or talk, with a few exceptions. They soon manage to escape from the painting. \\n\",\n          \"I just finished reading the Batman arc Death of the Family, and I loved every part of it, but I didn't understand one thing.  In the climactic scene toward the end of the story, we find out that...\\n\\n...the Joker has kidnapped the rest of the Bat-Family, restrained them, and cut off their faces so he could reveal them on silver platters at his \\\"dinner party.\\\"\\n\\nIt's a suitably terrifying moment, especially given Joker's own condition at the time.  However, by the end of the scene we discover instead that...\\n\\n...it was all a lie, the faces were fake, and the Bat-Family was unharmed.\\n\\nAside from \\\"because he's Mr. Super-Crazy-Pants,\\\" why would the Joker do this?  Over the course of that one story we'd seen him do some pretty horrific things, and he seemed to be genuinely trying to get back to the \\\"good old days\\\" when it was just him and Batman, without all the others who were \\\"just getting in the way.\\\"  So if he didn't just take them out because he didn't want to ruin his surprise, why didn't he at least follow through on his apparently-already-executed plan?\\nWas this just a convenient way for the writers to have a horrific moment without ending five other franchises along the way, or was there an in-universe reason for this reversal that I missed?\\n\",\n          \"I remember seeing this sci-fi movie in video stores on VHS but don't know the name. I'm guessing its close to late 70s but more likely an 80s movie. It's in color and I remember the graphics as decent. It's been some time so I'll give what I remember. \\nThis is a movie that takes place in space.\\nThere is a human (or at least appears human) male who seems to float around in a pod with a glass top. It looks like the cryo units in Alien but floats around.\\nHe seems to believe an alien or creature is his mother, who tells him the humans who arrive will kill him.\\nThe movie ends with him and a female seen flying through space (he allows her inside with him) as the only survivors of some sort of disaster.\\n\"\n        ],\n        \"semantic_type\": \"\",\n        \"description\": \"\"\n      }\n    },\n    {\n      \"column\": \"tags\",\n      \"properties\": {\n        \"dtype\": \"string\",\n        \"num_unique_values\": 5,\n        \"samples\": [\n          \"['story-identification']\",\n          \"['dc', 'batman']\",\n          \"['story-identification', 'movie']\"\n        ],\n        \"semantic_type\": \"\",\n        \"description\": \"\"\n      }\n    },\n    {\n      \"column\": \"revised_tags\",\n      \"properties\": {\n        \"dtype\": \"object\",\n        \"semantic_type\": \"\",\n        \"description\": \"\"\n      }\n    }\n  ]\n}"
            }
          },
          "metadata": {},
          "execution_count": 14
        }
      ],
      "source": [
        "df.tail()"
      ]
    },
    {
      "cell_type": "code",
      "execution_count": 15,
      "metadata": {
        "colab": {
          "base_uri": "https://localhost:8080/"
        },
        "id": "bSfkyG4zBFw9",
        "outputId": "5b3782ed-3796-46c6-cb71-f7af165af33f"
      },
      "outputs": [
        {
          "output_type": "stream",
          "name": "stdout",
          "text": [
            "Number of Tags: 160\n",
            "{'the-lord-of-the-rings': 1390, 'tolkiens-legendarium': 1904, 'the-one-ring': 113, 'star-wars': 3189, 'the-force': 158, 'the-empire-strikes-back': 117, 'harry-potter': 3454, 'technology': 170, 'story-identification': 8613, 'short-stories': 2763, 'time-travel': 566, 'suggested-order': 137, 'back-to-the-future': 104, 'behind-the-scenes': 210, 'j-r-r-tolkien': 78, 'dc': 900, 'character-identification': 251, 'hogwarts': 224, 'a-new-hope': 240, 'the-hitchhikers-guide-to-the-galaxy': 67, 'batman': 297, 'the-matrix': 264, 'gandalf': 118, 'isaac-asimov': 127, 'horcrux': 130, 'magical-theory': 100, 'star-trek': 2698, 'star-trek-tng': 868, 'the-force-awakens': 334, 'uss-enterprise': 61, 'star-wars-legends': 343, 'spaceship': 288, 'marvel': 1884, 'marvel-cinematic-universe': 1117, 'sauron': 111, 'religion': 85, 'comics': 498, 'sith': 136, 'darth-vader': 169, 'return-of-the-jedi': 128, 'revenge-of-the-sith': 124, 'albus-dumbledore': 148, 'severus-snape': 109, 'luke-skywalker': 94, 'obi-wan-kenobi': 77, 'star-trek-tos': 269, 'voldemort': 324, 'the-return-of-the-king': 63, 'discworld': 84, 'game-of-thrones': 841, 'a-song-of-ice-and-fire': 701, 'jk-rowling': 68, 'rogue-one': 131, 'death-star': 98, 'the-hobbit': 287, 'powers': 91, 'darth-sidious': 140, 'borg': 158, 'adaptation-comparison': 117, 'the-fellowship-of-the-ring': 88, 'history-of': 422, 'iron-man': 105, 'weapon': 109, 'elves': 92, 'artificial-intelligence': 144, 'magic': 323, 'spells': 99, 'books': 988, 'aliens': 714, 'science-fiction-genre': 86, 'the-hunger-games': 80, 'avengers': 146, 'thor-marvel': 123, 'the-silmarillion': 163, 'dragons': 76, 'muggles': 66, 'the-last-jedi': 151, 'droids': 86, 'star-trek-voyager': 310, 'names': 163, 'languages': 180, 'canon': 97, 'jedi': 179, 'vampire': 78, 'middle-earth': 66, 'captain-america': 139, 'the-avengers-2012': 62, 'kylo-ren': 65, 'doctor-who': 550, 'star-trek-data': 105, 'the-rise-of-skywalker': 79, 'x-men': 208, 'babylon-5': 121, 'the-phantom-menace': 101, 'hard-sci-fi': 111, 'battlestar-galactica': 93, 'video-games': 152, 'movie': 1117, 'star-trek-2009': 65, 'futurama': 68, 'avengers-age-of-ultron': 79, 'the-incredible-hulk': 71, 'character-motivation': 148, 'lightsaber': 148, 'star-trek-ds9': 336, 'episode-identification': 173, 'horror': 216, 'magical-creatures': 81, 'space-exploration': 95, 'computers': 76, 'superman': 211, 'object-identification': 110, 'klingon': 68, 'nolan-batman-trilogy': 83, 'stargate': 267, 'the-terminator': 66, 'the-terminator-series': 150, 'robots': 189, 'death-eaters': 104, 'firefly': 89, 'alien-franchise': 140, 'spider-man': 135, 'avengers-infinity-war': 96, 'inspiration': 120, 'dc-extended-universe': 100, 'tv': 399, 'quotes': 68, 'wolverine': 82, 'attack-of-the-clones': 83, 'clones': 62, 'dune': 222, 'the-clone-wars': 85, 'the-wheel-of-time': 77, 'quidditch': 65, 'soft-sci-fi': 107, 'wandlore': 107, 'science': 62, 'novel': 1087, 'robert-a-heinlein': 74, 'the-walking-dead': 70, 'avengers-endgame': 100, 'x-men-cinematic-universe': 113, 'dystopia': 132, 'parallel-universe': 100, 'star-trek-discovery': 79, 'avatar-the-last-airbender': 71, 'post-apocalyptic': 151, 'alien-invasion': 87, 'stargate-sg1': 145, 'star-trek-enterprise': 72, 'space': 230, 'fantastic-beasts': 93, 'cartoon': 115, 'young-adult': 240, 'anime': 101, 'space-colonization': 63, 'warhammer-40k': 82, 'telepathy': 71, 'childrens-novel': 109, 'anthology-book': 90}\n"
          ]
        }
      ],
      "source": [
        "revised_tags_list = df.revised_tags.to_list()\n",
        "revised_tag_count = {}\n",
        "for tags in revised_tags_list:\n",
        "  tag_list = tags\n",
        "  for tag in tag_list:\n",
        "    if tag in revised_tag_count.keys():\n",
        "      revised_tag_count[tag] += 1\n",
        "    else:\n",
        "      revised_tag_count[tag] = 1\n",
        "print(f\"Number of Tags: {len(revised_tag_count)}\")\n",
        "print(revised_tag_count)"
      ]
    },
    {
      "cell_type": "code",
      "execution_count": 16,
      "metadata": {
        "id": "77hW5uGTRz2u"
      },
      "outputs": [],
      "source": [
        "encode_tag_types = { key: idx for idx, (key, value) in enumerate(revised_tag_count.items())}\n",
        "with open(\"../../deployment/tag_types_encoded.json\", \"w\") as fp:\n",
        "  json.dump(encode_tag_types, fp)"
      ]
    },
    {
      "cell_type": "code",
      "execution_count": 17,
      "metadata": {
        "colab": {
          "base_uri": "https://localhost:8080/"
        },
        "id": "OvQ3vjQTSrKO",
        "outputId": "cfb19068-e9f6-4816-db0b-55682267a670"
      },
      "outputs": [
        {
          "output_type": "execute_result",
          "data": {
            "text/plain": [
              "[0, 0, 0, 0, 0, 0, 1, 1, 0, 0, 0, 0, 0, 0, 0, 0, 0, 0, 0, 0, 0, 0, 0]"
            ]
          },
          "metadata": {},
          "execution_count": 17
        }
      ],
      "source": [
        "# We need this because for multilabel classification all tags have possibility to be present in the predictions\n",
        "categorical_tag_list = []\n",
        "revised_tags_list = df.revised_tags.to_list()\n",
        "\n",
        "for revised_tags in revised_tags_list:\n",
        "  categorical_list = [0] * len(encode_tag_types)\n",
        "  for tag in revised_tags:\n",
        "    tag_type_index = encode_tag_types[tag]\n",
        "    categorical_list[tag_type_index] = 1\n",
        "  categorical_tag_list.append(categorical_list)\n",
        "\n",
        "categorical_tag_list[3][:23]"
      ]
    },
    {
      "cell_type": "code",
      "execution_count": 18,
      "metadata": {
        "colab": {
          "base_uri": "https://localhost:8080/",
          "height": 987
        },
        "id": "MVllFU9VT6fu",
        "outputId": "f1ea3624-c63c-49ad-f916-a9584720a66c"
      },
      "outputs": [
        {
          "output_type": "execute_result",
          "data": {
            "text/plain": [
              "                                                                            title  \\\n",
              "0                             Would the One Ring even work for anyone but Sauron?   \n",
              "1                                  Could I fake death to stop being Force-choked?   \n",
              "2                                                   Who or what was Tom Bombadil?   \n",
              "3  Why don&#39;t Muggle-born wizards use Muggle technology to fight Death Eaters?   \n",
              "4                                        Story where the number 3 is the monster?   \n",
              "\n",
              "                                                                                                                       url  \\\n",
              "0                       https://scifi.stackexchange.com/questions/48180/would-the-one-ring-even-work-for-anyone-but-sauron   \n",
              "1                           https://scifi.stackexchange.com/questions/102822/could-i-fake-death-to-stop-being-force-choked   \n",
              "2                                              https://scifi.stackexchange.com/questions/1586/who-or-what-was-tom-bombadil   \n",
              "3  https://scifi.stackexchange.com/questions/2611/why-dont-muggle-born-wizards-use-muggle-technology-to-fight-death-eaters   \n",
              "4                                   https://scifi.stackexchange.com/questions/2937/story-where-the-number-3-is-the-monster   \n",
              "\n",
              "                                                                                                                                                                                                                                                                                                                                                                                                                                                                                                                                                                                                               description  \\\n",
              "0  The temptation of the One Ring, we quickly learn, is always tied up with power: each character's fantasies of possessing it seem to be about what they would do with great power. Even Sam, as I recall, imagines the power to create great huge sweeping gardens. Boromir wants the power to save Gondor, etc.\\nBut does the One Ring actually convey power to anyone but Sauron? It actually seems to diminish its bearers: Bilbo feels \"thin\" and \"stretched\", Sméagol becomes the wretched Gollum, Frodo is never quite the same even after it is destroyed. None of them seem more \"powerful,\" even in the abst...   \n",
              "1  I work for a large government organization. My boss is a total jerk who abuses those working under him. I've tried contacting HR before but they won't do anything about him.\\nAnyways, I screwed up again. My jerk boss is going to be super pissed.\\nI came out of hyperspace too close to some stupid planet and the rebels were able to detect us. It's not a big deal really but he'll make a big thing about it like he always does when something isn't his fault. If it were his f- up, he would say something like 'I meant to do that' or 'It went exactly as I had foreseen it' — yeah right.\\nI'm going ...   \n",
              "2                                                                                                                                                                                                                                                                                                                                                                                                                                              The most iconic of Middle-earth questions:\\nWho or what was Tom Bombadil?\\nWas he an elf? Was he akin to Gandalf, and one of the wizardly stock?  Was he something… else?\\n   \n",
              "3  We know that wizards in the Harry Potter universe are subject to regular physical harm (e.g. witness injuries from being hit by Bludgers or just colliding with things when playing Quidditch).\\nTherefore, it's almost a certainty that an average wizard would be vulnerable to, say, a bunch of bullets. \\nThere may likely be spell(s) to protect from projectiles - witness Dumbledore's shield deployed when Voldemort sent a bunch of glass at him during the Duel in the Ministry Atrium at the end of Harry Potter and the Order of the Phoenix (according to Wikia, possibly an unusually powerful Protego...   \n",
              "4     I remember as a child (in the nineties) reading a story where the narrator was a little boy and how he was scared only twice a day – when the clock read 3:33. The 3's would be powerful enough (there were three of them at 3:33) to leave the clock in the boy's room for one minute and do what they want. They terrified the boy for that one minute they were free.  \\nI don't think it was R.L. Stine, but I cannot remember the author.\\nUpdate: It definitely wasn't R.L Stine, but the story was in a similar style.\\nI know it was only a 15-20 page story, so maybe it was in a short story collection?\\n   \n",
              "\n",
              "                                                                tags  \\\n",
              "0  ['the-lord-of-the-rings', 'tolkiens-legendarium', 'the-one-ring']   \n",
              "1              ['star-wars', 'the-force', 'the-empire-strikes-back']   \n",
              "2  ['the-lord-of-the-rings', 'tolkiens-legendarium', 'tom-bombadil']   \n",
              "3                                     ['harry-potter', 'technology']   \n",
              "4                          ['story-identification', 'short-stories']   \n",
              "\n",
              "                                                  revised_tags  \\\n",
              "0  [the-lord-of-the-rings, tolkiens-legendarium, the-one-ring]   \n",
              "1              [star-wars, the-force, the-empire-strikes-back]   \n",
              "2                [the-lord-of-the-rings, tolkiens-legendarium]   \n",
              "3                                   [harry-potter, technology]   \n",
              "4                        [story-identification, short-stories]   \n",
              "\n",
              "                                                                                                                                                                                                                                                                                                        tag_cat_list  \n",
              "0  [1, 1, 1, 0, 0, 0, 0, 0, 0, 0, 0, 0, 0, 0, 0, 0, 0, 0, 0, 0, 0, 0, 0, 0, 0, 0, 0, 0, 0, 0, 0, 0, 0, 0, 0, 0, 0, 0, 0, 0, 0, 0, 0, 0, 0, 0, 0, 0, 0, 0, 0, 0, 0, 0, 0, 0, 0, 0, 0, 0, 0, 0, 0, 0, 0, 0, 0, 0, 0, 0, 0, 0, 0, 0, 0, 0, 0, 0, 0, 0, 0, 0, 0, 0, 0, 0, 0, 0, 0, 0, 0, 0, 0, 0, 0, 0, 0, 0, 0, 0, ...]  \n",
              "1  [0, 0, 0, 1, 1, 1, 0, 0, 0, 0, 0, 0, 0, 0, 0, 0, 0, 0, 0, 0, 0, 0, 0, 0, 0, 0, 0, 0, 0, 0, 0, 0, 0, 0, 0, 0, 0, 0, 0, 0, 0, 0, 0, 0, 0, 0, 0, 0, 0, 0, 0, 0, 0, 0, 0, 0, 0, 0, 0, 0, 0, 0, 0, 0, 0, 0, 0, 0, 0, 0, 0, 0, 0, 0, 0, 0, 0, 0, 0, 0, 0, 0, 0, 0, 0, 0, 0, 0, 0, 0, 0, 0, 0, 0, 0, 0, 0, 0, 0, 0, ...]  \n",
              "2  [1, 1, 0, 0, 0, 0, 0, 0, 0, 0, 0, 0, 0, 0, 0, 0, 0, 0, 0, 0, 0, 0, 0, 0, 0, 0, 0, 0, 0, 0, 0, 0, 0, 0, 0, 0, 0, 0, 0, 0, 0, 0, 0, 0, 0, 0, 0, 0, 0, 0, 0, 0, 0, 0, 0, 0, 0, 0, 0, 0, 0, 0, 0, 0, 0, 0, 0, 0, 0, 0, 0, 0, 0, 0, 0, 0, 0, 0, 0, 0, 0, 0, 0, 0, 0, 0, 0, 0, 0, 0, 0, 0, 0, 0, 0, 0, 0, 0, 0, 0, ...]  \n",
              "3  [0, 0, 0, 0, 0, 0, 1, 1, 0, 0, 0, 0, 0, 0, 0, 0, 0, 0, 0, 0, 0, 0, 0, 0, 0, 0, 0, 0, 0, 0, 0, 0, 0, 0, 0, 0, 0, 0, 0, 0, 0, 0, 0, 0, 0, 0, 0, 0, 0, 0, 0, 0, 0, 0, 0, 0, 0, 0, 0, 0, 0, 0, 0, 0, 0, 0, 0, 0, 0, 0, 0, 0, 0, 0, 0, 0, 0, 0, 0, 0, 0, 0, 0, 0, 0, 0, 0, 0, 0, 0, 0, 0, 0, 0, 0, 0, 0, 0, 0, 0, ...]  \n",
              "4  [0, 0, 0, 0, 0, 0, 0, 0, 1, 1, 0, 0, 0, 0, 0, 0, 0, 0, 0, 0, 0, 0, 0, 0, 0, 0, 0, 0, 0, 0, 0, 0, 0, 0, 0, 0, 0, 0, 0, 0, 0, 0, 0, 0, 0, 0, 0, 0, 0, 0, 0, 0, 0, 0, 0, 0, 0, 0, 0, 0, 0, 0, 0, 0, 0, 0, 0, 0, 0, 0, 0, 0, 0, 0, 0, 0, 0, 0, 0, 0, 0, 0, 0, 0, 0, 0, 0, 0, 0, 0, 0, 0, 0, 0, 0, 0, 0, 0, 0, 0, ...]  "
            ],
            "text/html": [
              "\n",
              "  <div id=\"df-142aa1a2-836f-4069-8e71-e7664d296fa8\" class=\"colab-df-container\">\n",
              "    <div>\n",
              "<style scoped>\n",
              "    .dataframe tbody tr th:only-of-type {\n",
              "        vertical-align: middle;\n",
              "    }\n",
              "\n",
              "    .dataframe tbody tr th {\n",
              "        vertical-align: top;\n",
              "    }\n",
              "\n",
              "    .dataframe thead th {\n",
              "        text-align: right;\n",
              "    }\n",
              "</style>\n",
              "<table border=\"1\" class=\"dataframe\">\n",
              "  <thead>\n",
              "    <tr style=\"text-align: right;\">\n",
              "      <th></th>\n",
              "      <th>title</th>\n",
              "      <th>url</th>\n",
              "      <th>description</th>\n",
              "      <th>tags</th>\n",
              "      <th>revised_tags</th>\n",
              "      <th>tag_cat_list</th>\n",
              "    </tr>\n",
              "  </thead>\n",
              "  <tbody>\n",
              "    <tr>\n",
              "      <th>0</th>\n",
              "      <td>Would the One Ring even work for anyone but Sauron?</td>\n",
              "      <td>https://scifi.stackexchange.com/questions/48180/would-the-one-ring-even-work-for-anyone-but-sauron</td>\n",
              "      <td>The temptation of the One Ring, we quickly learn, is always tied up with power: each character's fantasies of possessing it seem to be about what they would do with great power. Even Sam, as I recall, imagines the power to create great huge sweeping gardens. Boromir wants the power to save Gondor, etc.\\nBut does the One Ring actually convey power to anyone but Sauron? It actually seems to diminish its bearers: Bilbo feels \"thin\" and \"stretched\", Sméagol becomes the wretched Gollum, Frodo is never quite the same even after it is destroyed. None of them seem more \"powerful,\" even in the abst...</td>\n",
              "      <td>['the-lord-of-the-rings', 'tolkiens-legendarium', 'the-one-ring']</td>\n",
              "      <td>[the-lord-of-the-rings, tolkiens-legendarium, the-one-ring]</td>\n",
              "      <td>[1, 1, 1, 0, 0, 0, 0, 0, 0, 0, 0, 0, 0, 0, 0, 0, 0, 0, 0, 0, 0, 0, 0, 0, 0, 0, 0, 0, 0, 0, 0, 0, 0, 0, 0, 0, 0, 0, 0, 0, 0, 0, 0, 0, 0, 0, 0, 0, 0, 0, 0, 0, 0, 0, 0, 0, 0, 0, 0, 0, 0, 0, 0, 0, 0, 0, 0, 0, 0, 0, 0, 0, 0, 0, 0, 0, 0, 0, 0, 0, 0, 0, 0, 0, 0, 0, 0, 0, 0, 0, 0, 0, 0, 0, 0, 0, 0, 0, 0, 0, ...]</td>\n",
              "    </tr>\n",
              "    <tr>\n",
              "      <th>1</th>\n",
              "      <td>Could I fake death to stop being Force-choked?</td>\n",
              "      <td>https://scifi.stackexchange.com/questions/102822/could-i-fake-death-to-stop-being-force-choked</td>\n",
              "      <td>I work for a large government organization. My boss is a total jerk who abuses those working under him. I've tried contacting HR before but they won't do anything about him.\\nAnyways, I screwed up again. My jerk boss is going to be super pissed.\\nI came out of hyperspace too close to some stupid planet and the rebels were able to detect us. It's not a big deal really but he'll make a big thing about it like he always does when something isn't his fault. If it were his f- up, he would say something like 'I meant to do that' or 'It went exactly as I had foreseen it' — yeah right.\\nI'm going ...</td>\n",
              "      <td>['star-wars', 'the-force', 'the-empire-strikes-back']</td>\n",
              "      <td>[star-wars, the-force, the-empire-strikes-back]</td>\n",
              "      <td>[0, 0, 0, 1, 1, 1, 0, 0, 0, 0, 0, 0, 0, 0, 0, 0, 0, 0, 0, 0, 0, 0, 0, 0, 0, 0, 0, 0, 0, 0, 0, 0, 0, 0, 0, 0, 0, 0, 0, 0, 0, 0, 0, 0, 0, 0, 0, 0, 0, 0, 0, 0, 0, 0, 0, 0, 0, 0, 0, 0, 0, 0, 0, 0, 0, 0, 0, 0, 0, 0, 0, 0, 0, 0, 0, 0, 0, 0, 0, 0, 0, 0, 0, 0, 0, 0, 0, 0, 0, 0, 0, 0, 0, 0, 0, 0, 0, 0, 0, 0, ...]</td>\n",
              "    </tr>\n",
              "    <tr>\n",
              "      <th>2</th>\n",
              "      <td>Who or what was Tom Bombadil?</td>\n",
              "      <td>https://scifi.stackexchange.com/questions/1586/who-or-what-was-tom-bombadil</td>\n",
              "      <td>The most iconic of Middle-earth questions:\\nWho or what was Tom Bombadil?\\nWas he an elf? Was he akin to Gandalf, and one of the wizardly stock?  Was he something… else?\\n</td>\n",
              "      <td>['the-lord-of-the-rings', 'tolkiens-legendarium', 'tom-bombadil']</td>\n",
              "      <td>[the-lord-of-the-rings, tolkiens-legendarium]</td>\n",
              "      <td>[1, 1, 0, 0, 0, 0, 0, 0, 0, 0, 0, 0, 0, 0, 0, 0, 0, 0, 0, 0, 0, 0, 0, 0, 0, 0, 0, 0, 0, 0, 0, 0, 0, 0, 0, 0, 0, 0, 0, 0, 0, 0, 0, 0, 0, 0, 0, 0, 0, 0, 0, 0, 0, 0, 0, 0, 0, 0, 0, 0, 0, 0, 0, 0, 0, 0, 0, 0, 0, 0, 0, 0, 0, 0, 0, 0, 0, 0, 0, 0, 0, 0, 0, 0, 0, 0, 0, 0, 0, 0, 0, 0, 0, 0, 0, 0, 0, 0, 0, 0, ...]</td>\n",
              "    </tr>\n",
              "    <tr>\n",
              "      <th>3</th>\n",
              "      <td>Why don&amp;#39;t Muggle-born wizards use Muggle technology to fight Death Eaters?</td>\n",
              "      <td>https://scifi.stackexchange.com/questions/2611/why-dont-muggle-born-wizards-use-muggle-technology-to-fight-death-eaters</td>\n",
              "      <td>We know that wizards in the Harry Potter universe are subject to regular physical harm (e.g. witness injuries from being hit by Bludgers or just colliding with things when playing Quidditch).\\nTherefore, it's almost a certainty that an average wizard would be vulnerable to, say, a bunch of bullets. \\nThere may likely be spell(s) to protect from projectiles - witness Dumbledore's shield deployed when Voldemort sent a bunch of glass at him during the Duel in the Ministry Atrium at the end of Harry Potter and the Order of the Phoenix (according to Wikia, possibly an unusually powerful Protego...</td>\n",
              "      <td>['harry-potter', 'technology']</td>\n",
              "      <td>[harry-potter, technology]</td>\n",
              "      <td>[0, 0, 0, 0, 0, 0, 1, 1, 0, 0, 0, 0, 0, 0, 0, 0, 0, 0, 0, 0, 0, 0, 0, 0, 0, 0, 0, 0, 0, 0, 0, 0, 0, 0, 0, 0, 0, 0, 0, 0, 0, 0, 0, 0, 0, 0, 0, 0, 0, 0, 0, 0, 0, 0, 0, 0, 0, 0, 0, 0, 0, 0, 0, 0, 0, 0, 0, 0, 0, 0, 0, 0, 0, 0, 0, 0, 0, 0, 0, 0, 0, 0, 0, 0, 0, 0, 0, 0, 0, 0, 0, 0, 0, 0, 0, 0, 0, 0, 0, 0, ...]</td>\n",
              "    </tr>\n",
              "    <tr>\n",
              "      <th>4</th>\n",
              "      <td>Story where the number 3 is the monster?</td>\n",
              "      <td>https://scifi.stackexchange.com/questions/2937/story-where-the-number-3-is-the-monster</td>\n",
              "      <td>I remember as a child (in the nineties) reading a story where the narrator was a little boy and how he was scared only twice a day – when the clock read 3:33. The 3's would be powerful enough (there were three of them at 3:33) to leave the clock in the boy's room for one minute and do what they want. They terrified the boy for that one minute they were free.  \\nI don't think it was R.L. Stine, but I cannot remember the author.\\nUpdate: It definitely wasn't R.L Stine, but the story was in a similar style.\\nI know it was only a 15-20 page story, so maybe it was in a short story collection?\\n</td>\n",
              "      <td>['story-identification', 'short-stories']</td>\n",
              "      <td>[story-identification, short-stories]</td>\n",
              "      <td>[0, 0, 0, 0, 0, 0, 0, 0, 1, 1, 0, 0, 0, 0, 0, 0, 0, 0, 0, 0, 0, 0, 0, 0, 0, 0, 0, 0, 0, 0, 0, 0, 0, 0, 0, 0, 0, 0, 0, 0, 0, 0, 0, 0, 0, 0, 0, 0, 0, 0, 0, 0, 0, 0, 0, 0, 0, 0, 0, 0, 0, 0, 0, 0, 0, 0, 0, 0, 0, 0, 0, 0, 0, 0, 0, 0, 0, 0, 0, 0, 0, 0, 0, 0, 0, 0, 0, 0, 0, 0, 0, 0, 0, 0, 0, 0, 0, 0, 0, 0, ...]</td>\n",
              "    </tr>\n",
              "  </tbody>\n",
              "</table>\n",
              "</div>\n",
              "    <div class=\"colab-df-buttons\">\n",
              "\n",
              "  <div class=\"colab-df-container\">\n",
              "    <button class=\"colab-df-convert\" onclick=\"convertToInteractive('df-142aa1a2-836f-4069-8e71-e7664d296fa8')\"\n",
              "            title=\"Convert this dataframe to an interactive table.\"\n",
              "            style=\"display:none;\">\n",
              "\n",
              "  <svg xmlns=\"http://www.w3.org/2000/svg\" height=\"24px\" viewBox=\"0 -960 960 960\">\n",
              "    <path d=\"M120-120v-720h720v720H120Zm60-500h600v-160H180v160Zm220 220h160v-160H400v160Zm0 220h160v-160H400v160ZM180-400h160v-160H180v160Zm440 0h160v-160H620v160ZM180-180h160v-160H180v160Zm440 0h160v-160H620v160Z\"/>\n",
              "  </svg>\n",
              "    </button>\n",
              "\n",
              "  <style>\n",
              "    .colab-df-container {\n",
              "      display:flex;\n",
              "      gap: 12px;\n",
              "    }\n",
              "\n",
              "    .colab-df-convert {\n",
              "      background-color: #E8F0FE;\n",
              "      border: none;\n",
              "      border-radius: 50%;\n",
              "      cursor: pointer;\n",
              "      display: none;\n",
              "      fill: #1967D2;\n",
              "      height: 32px;\n",
              "      padding: 0 0 0 0;\n",
              "      width: 32px;\n",
              "    }\n",
              "\n",
              "    .colab-df-convert:hover {\n",
              "      background-color: #E2EBFA;\n",
              "      box-shadow: 0px 1px 2px rgba(60, 64, 67, 0.3), 0px 1px 3px 1px rgba(60, 64, 67, 0.15);\n",
              "      fill: #174EA6;\n",
              "    }\n",
              "\n",
              "    .colab-df-buttons div {\n",
              "      margin-bottom: 4px;\n",
              "    }\n",
              "\n",
              "    [theme=dark] .colab-df-convert {\n",
              "      background-color: #3B4455;\n",
              "      fill: #D2E3FC;\n",
              "    }\n",
              "\n",
              "    [theme=dark] .colab-df-convert:hover {\n",
              "      background-color: #434B5C;\n",
              "      box-shadow: 0px 1px 3px 1px rgba(0, 0, 0, 0.15);\n",
              "      filter: drop-shadow(0px 1px 2px rgba(0, 0, 0, 0.3));\n",
              "      fill: #FFFFFF;\n",
              "    }\n",
              "  </style>\n",
              "\n",
              "    <script>\n",
              "      const buttonEl =\n",
              "        document.querySelector('#df-142aa1a2-836f-4069-8e71-e7664d296fa8 button.colab-df-convert');\n",
              "      buttonEl.style.display =\n",
              "        google.colab.kernel.accessAllowed ? 'block' : 'none';\n",
              "\n",
              "      async function convertToInteractive(key) {\n",
              "        const element = document.querySelector('#df-142aa1a2-836f-4069-8e71-e7664d296fa8');\n",
              "        const dataTable =\n",
              "          await google.colab.kernel.invokeFunction('convertToInteractive',\n",
              "                                                    [key], {});\n",
              "        if (!dataTable) return;\n",
              "\n",
              "        const docLinkHtml = 'Like what you see? Visit the ' +\n",
              "          '<a target=\"_blank\" href=https://colab.research.google.com/notebooks/data_table.ipynb>data table notebook</a>'\n",
              "          + ' to learn more about interactive tables.';\n",
              "        element.innerHTML = '';\n",
              "        dataTable['output_type'] = 'display_data';\n",
              "        await google.colab.output.renderOutput(dataTable, element);\n",
              "        const docLink = document.createElement('div');\n",
              "        docLink.innerHTML = docLinkHtml;\n",
              "        element.appendChild(docLink);\n",
              "      }\n",
              "    </script>\n",
              "  </div>\n",
              "\n",
              "\n",
              "<div id=\"df-e75fa396-595d-4c0a-88ff-8306e53194b1\">\n",
              "  <button class=\"colab-df-quickchart\" onclick=\"quickchart('df-e75fa396-595d-4c0a-88ff-8306e53194b1')\"\n",
              "            title=\"Suggest charts\"\n",
              "            style=\"display:none;\">\n",
              "\n",
              "<svg xmlns=\"http://www.w3.org/2000/svg\" height=\"24px\"viewBox=\"0 0 24 24\"\n",
              "     width=\"24px\">\n",
              "    <g>\n",
              "        <path d=\"M19 3H5c-1.1 0-2 .9-2 2v14c0 1.1.9 2 2 2h14c1.1 0 2-.9 2-2V5c0-1.1-.9-2-2-2zM9 17H7v-7h2v7zm4 0h-2V7h2v10zm4 0h-2v-4h2v4z\"/>\n",
              "    </g>\n",
              "</svg>\n",
              "  </button>\n",
              "\n",
              "<style>\n",
              "  .colab-df-quickchart {\n",
              "      --bg-color: #E8F0FE;\n",
              "      --fill-color: #1967D2;\n",
              "      --hover-bg-color: #E2EBFA;\n",
              "      --hover-fill-color: #174EA6;\n",
              "      --disabled-fill-color: #AAA;\n",
              "      --disabled-bg-color: #DDD;\n",
              "  }\n",
              "\n",
              "  [theme=dark] .colab-df-quickchart {\n",
              "      --bg-color: #3B4455;\n",
              "      --fill-color: #D2E3FC;\n",
              "      --hover-bg-color: #434B5C;\n",
              "      --hover-fill-color: #FFFFFF;\n",
              "      --disabled-bg-color: #3B4455;\n",
              "      --disabled-fill-color: #666;\n",
              "  }\n",
              "\n",
              "  .colab-df-quickchart {\n",
              "    background-color: var(--bg-color);\n",
              "    border: none;\n",
              "    border-radius: 50%;\n",
              "    cursor: pointer;\n",
              "    display: none;\n",
              "    fill: var(--fill-color);\n",
              "    height: 32px;\n",
              "    padding: 0;\n",
              "    width: 32px;\n",
              "  }\n",
              "\n",
              "  .colab-df-quickchart:hover {\n",
              "    background-color: var(--hover-bg-color);\n",
              "    box-shadow: 0 1px 2px rgba(60, 64, 67, 0.3), 0 1px 3px 1px rgba(60, 64, 67, 0.15);\n",
              "    fill: var(--button-hover-fill-color);\n",
              "  }\n",
              "\n",
              "  .colab-df-quickchart-complete:disabled,\n",
              "  .colab-df-quickchart-complete:disabled:hover {\n",
              "    background-color: var(--disabled-bg-color);\n",
              "    fill: var(--disabled-fill-color);\n",
              "    box-shadow: none;\n",
              "  }\n",
              "\n",
              "  .colab-df-spinner {\n",
              "    border: 2px solid var(--fill-color);\n",
              "    border-color: transparent;\n",
              "    border-bottom-color: var(--fill-color);\n",
              "    animation:\n",
              "      spin 1s steps(1) infinite;\n",
              "  }\n",
              "\n",
              "  @keyframes spin {\n",
              "    0% {\n",
              "      border-color: transparent;\n",
              "      border-bottom-color: var(--fill-color);\n",
              "      border-left-color: var(--fill-color);\n",
              "    }\n",
              "    20% {\n",
              "      border-color: transparent;\n",
              "      border-left-color: var(--fill-color);\n",
              "      border-top-color: var(--fill-color);\n",
              "    }\n",
              "    30% {\n",
              "      border-color: transparent;\n",
              "      border-left-color: var(--fill-color);\n",
              "      border-top-color: var(--fill-color);\n",
              "      border-right-color: var(--fill-color);\n",
              "    }\n",
              "    40% {\n",
              "      border-color: transparent;\n",
              "      border-right-color: var(--fill-color);\n",
              "      border-top-color: var(--fill-color);\n",
              "    }\n",
              "    60% {\n",
              "      border-color: transparent;\n",
              "      border-right-color: var(--fill-color);\n",
              "    }\n",
              "    80% {\n",
              "      border-color: transparent;\n",
              "      border-right-color: var(--fill-color);\n",
              "      border-bottom-color: var(--fill-color);\n",
              "    }\n",
              "    90% {\n",
              "      border-color: transparent;\n",
              "      border-bottom-color: var(--fill-color);\n",
              "    }\n",
              "  }\n",
              "</style>\n",
              "\n",
              "  <script>\n",
              "    async function quickchart(key) {\n",
              "      const quickchartButtonEl =\n",
              "        document.querySelector('#' + key + ' button');\n",
              "      quickchartButtonEl.disabled = true;  // To prevent multiple clicks.\n",
              "      quickchartButtonEl.classList.add('colab-df-spinner');\n",
              "      try {\n",
              "        const charts = await google.colab.kernel.invokeFunction(\n",
              "            'suggestCharts', [key], {});\n",
              "      } catch (error) {\n",
              "        console.error('Error during call to suggestCharts:', error);\n",
              "      }\n",
              "      quickchartButtonEl.classList.remove('colab-df-spinner');\n",
              "      quickchartButtonEl.classList.add('colab-df-quickchart-complete');\n",
              "    }\n",
              "    (() => {\n",
              "      let quickchartButtonEl =\n",
              "        document.querySelector('#df-e75fa396-595d-4c0a-88ff-8306e53194b1 button');\n",
              "      quickchartButtonEl.style.display =\n",
              "        google.colab.kernel.accessAllowed ? 'block' : 'none';\n",
              "    })();\n",
              "  </script>\n",
              "</div>\n",
              "\n",
              "    </div>\n",
              "  </div>\n"
            ],
            "application/vnd.google.colaboratory.intrinsic+json": {
              "type": "dataframe",
              "variable_name": "df",
              "summary": "{\n  \"name\": \"df\",\n  \"rows\": 27493,\n  \"fields\": [\n    {\n      \"column\": \"title\",\n      \"properties\": {\n        \"dtype\": \"string\",\n        \"num_unique_values\": 27493,\n        \"samples\": [\n          \"SF novel about no babies being born\",\n          \"Is David Sheridan fully human?\",\n          \"How can Kylo Ren recognize this item?\"\n        ],\n        \"semantic_type\": \"\",\n        \"description\": \"\"\n      }\n    },\n    {\n      \"column\": \"url\",\n      \"properties\": {\n        \"dtype\": \"string\",\n        \"num_unique_values\": 27493,\n        \"samples\": [\n          \"https://scifi.stackexchange.com/questions/95816/sf-novel-about-no-babies-being-born\",\n          \"https://scifi.stackexchange.com/questions/172407/is-david-sheridan-fully-human\",\n          \"https://scifi.stackexchange.com/questions/111015/how-can-kylo-ren-recognize-this-item\"\n        ],\n        \"semantic_type\": \"\",\n        \"description\": \"\"\n      }\n    },\n    {\n      \"column\": \"description\",\n      \"properties\": {\n        \"dtype\": \"string\",\n        \"num_unique_values\": 27493,\n        \"samples\": [\n          \"I am trying to remember the title of a novel I read years ago. It was set in England. The premise is that there are no babies being born anymore and no one in the world - as far as anyone knows - is pregnant. One of the main characters is pregnant, but no one believes her. She and her friends spend most of the novel avoiding the authorities, because they're afraid her baby will be taken away when people realize she really is pregnant. Sound familiar to anyone.\\n\",\n          \"In the finale of Babylon 5, we find out that John Sheridan and Delenn have a child named David, but unfortunately we never see him on screen. Given that Delenn is half-Minbari and half-Human, is David fully human? Or is he quarter-Minbari?\\n\",\n          \"During the last part of The Force Awakens, Kylo Ren faces Finn in a snowy forest on Starkiller base. Finn lights up Luke's lightsaber to fight against Kylo Ren. Kylo immediately says something like: \\n\\n That lightsaber, it belongs to me!\\n\\n\\n\\nMy question then is\\nHow can Kylo Ren possibly know that this lightsaber was Luke's and Anakin's? Did Maz Kanata show him before the events of the Force Awakens? Did he feel through the Force that it was his \\n\\n old grandfather's saber? \\n\\nDid he not know and this line was just a bit confusing?\\n\"\n        ],\n        \"semantic_type\": \"\",\n        \"description\": \"\"\n      }\n    },\n    {\n      \"column\": \"tags\",\n      \"properties\": {\n        \"dtype\": \"category\",\n        \"num_unique_values\": 8565,\n        \"samples\": [\n          \"['novel', 'a-wrinkle-in-time']\",\n          \"['tolkiens-legendarium', 'the-lord-of-the-rings', 'behind-the-scenes', 'the-return-of-the-king']\",\n          \"['vampire', 'the-dresden-files']\"\n        ],\n        \"semantic_type\": \"\",\n        \"description\": \"\"\n      }\n    },\n    {\n      \"column\": \"revised_tags\",\n      \"properties\": {\n        \"dtype\": \"object\",\n        \"semantic_type\": \"\",\n        \"description\": \"\"\n      }\n    },\n    {\n      \"column\": \"tag_cat_list\",\n      \"properties\": {\n        \"dtype\": \"object\",\n        \"semantic_type\": \"\",\n        \"description\": \"\"\n      }\n    }\n  ]\n}"
            }
          },
          "metadata": {},
          "execution_count": 18
        }
      ],
      "source": [
        "df['tag_cat_list'] = categorical_tag_list\n",
        "df.head()"
      ]
    },
    {
      "cell_type": "markdown",
      "metadata": {
        "id": "0iivDahQUQXM"
      },
      "source": [
        "## Dataloaders and Modeling"
      ]
    },
    {
      "cell_type": "code",
      "execution_count": 19,
      "metadata": {
        "id": "Xvhlz53fU5Pr"
      },
      "outputs": [],
      "source": [
        "labels = list(encode_tag_types.keys())"
      ]
    },
    {
      "cell_type": "code",
      "execution_count": 20,
      "metadata": {
        "colab": {
          "base_uri": "https://localhost:8080/",
          "height": 368,
          "referenced_widgets": [
            "d089b22276b74a769191688be212dc01",
            "5045fed9a8634bc7939336541ef26816",
            "ee65f0eb383b4908b1211116bd7bc1a3",
            "61355e7fc3b94f30b7f1c7f2c369ad91",
            "20b9674c77d1480696f21e5610b63ca8",
            "19ab683e978449f88f0eb6e82083e096",
            "941aa0b02cd84e07816761ff046a1ee8",
            "3a106b96491b4dc0a140655fc4814848",
            "a101526352454503ab395f8260e1972f",
            "38dff3c7dd864cefb42651ffead49927",
            "0ed5b2c70d844ca9801b7dc8043116e1",
            "92c1c4e3b9b94695b0bf276c0ec6e3a5",
            "017c565d8f444b7b92cdc5c2f00cbb8e",
            "0a26a468753246a5b55af8c48fd29744",
            "83bd0732d14f49c4978c5c9878033870",
            "27038480224941e6a4be6fa144d0c49d",
            "48169325d0704043989e37c8183c3aa2",
            "119e5484d375466688fb8717aa75eb95",
            "cc793c4b1c2c49dd956bb313581d818f",
            "c8dd165fabff4703a34de3cf532d02bd",
            "878184cbd4314c3ca8e3a77bea691758",
            "7ce45d93289a4be1abd2455ae00dc27c",
            "7caecf354aeb4d848aabff75a5c2e4f8",
            "78e375d6dbf44e8eb2a742f9292a3f71",
            "49bbb354f6054a34a89b8c37d4794c5b",
            "a870afb7488a4f19b6dbe94688362c4e",
            "a23509d064ee4ca9b47295b33e82cdd0",
            "310b9f3a890b44659f98083e8db1e534",
            "c82d2e26b0f24dd494979cc718157da4",
            "b70b7c5f842d47b08b30551f23a4d10c",
            "acef4e37efcb4031afc081b4951e0f12",
            "c661b790aaf44c27a57393cbd2b9a29c",
            "821324f856514fe9b15f8db528b68e67",
            "4b0b08ce0587416687db411426b77c71",
            "16c2fbcffd224a158b3449e7b4622dc8",
            "d0aedea84f2b450fb3b3d901cb87932c",
            "3fc3d367e05d429ab8691c1ba903d1a2",
            "10f8323913f94728a53c0b3a883089fa",
            "342dc2d787c547bb8de4ac46f736ee7a",
            "30edf951cba24c08b718605cd2e01c3b",
            "772cbd8ad6ef42c8ace43a8382101d6a",
            "fa11598880da49e49e73303821900274",
            "5e7828c0211a4e6eacd072f763dc78a8",
            "d74423418d0447bda15bbe7f20d2e98c",
            "09aa8a04e830499e9b3493a0ecb253e6",
            "cf1696bf49854f74bcbd55a1a0bd10ef",
            "da296ba9c26c40d6bfb2fd7e1a0d2d3f",
            "a52d8e80598b40a5a5401dd663950c32",
            "a7c4ae9cd6fc431fb87c64641ce29900",
            "3fd218dac4364eaa9fd0ba42aabf6ddf",
            "1b1fda8146ed4979aa8880a56e62f5a0",
            "8ab24c976d304d3a9a52f9528337b721",
            "5884755c23d34feb85fc0476beaf4733",
            "fbe028105b144a7793058e06d6602bfb",
            "e805e4dcde1540f085285e898396f0ab",
            "93fff4650782462f89ec0e981dc2ff98",
            "008796e33f9c4046810c670c7863baa1",
            "24199871f36849da892a946fc7b9a1b0",
            "bf3491ec13de4cffbf7b076072ea66e9",
            "581567ef435445d8a261ffd57134f1a9",
            "6a0f919126464bc89ec981863b3f9714",
            "4322af41e1bf4ae7821c62bbe72d3401",
            "21a161b5f12c44b6b59e840058bf5784",
            "b9a8cc4b7b17440e99af282f5635fc3b",
            "5cce624d7cdc4e0aa3ebf7155c843b78",
            "54706965a23c4834909bd513da7aaf8c"
          ]
        },
        "id": "_H_vlv8RUUpc",
        "outputId": "817f4533-a97e-47c7-f2cc-488c1c61f8ee"
      },
      "outputs": [
        {
          "output_type": "stream",
          "name": "stderr",
          "text": [
            "/usr/local/lib/python3.10/dist-packages/huggingface_hub/file_download.py:1132: FutureWarning: `resume_download` is deprecated and will be removed in version 1.0.0. Downloads always resume when possible. If you want to force a new download, use `force_download=True`.\n",
            "  warnings.warn(\n",
            "/usr/local/lib/python3.10/dist-packages/huggingface_hub/utils/_token.py:89: UserWarning: \n",
            "The secret `HF_TOKEN` does not exist in your Colab secrets.\n",
            "To authenticate with the Hugging Face Hub, create a token in your settings tab (https://huggingface.co/settings/tokens), set it as secret in your Google Colab and restart your session.\n",
            "You will be able to reuse this secret in all of your notebooks.\n",
            "Please note that authentication is recommended but still optional to access public models or datasets.\n",
            "  warnings.warn(\n"
          ]
        },
        {
          "output_type": "display_data",
          "data": {
            "text/plain": [
              "config.json:   0%|          | 0.00/481 [00:00<?, ?B/s]"
            ],
            "application/vnd.jupyter.widget-view+json": {
              "version_major": 2,
              "version_minor": 0,
              "model_id": "d089b22276b74a769191688be212dc01"
            }
          },
          "metadata": {}
        },
        {
          "output_type": "display_data",
          "data": {
            "text/plain": [
              "tokenizer_config.json:   0%|          | 0.00/25.0 [00:00<?, ?B/s]"
            ],
            "application/vnd.jupyter.widget-view+json": {
              "version_major": 2,
              "version_minor": 0,
              "model_id": "92c1c4e3b9b94695b0bf276c0ec6e3a5"
            }
          },
          "metadata": {}
        },
        {
          "output_type": "display_data",
          "data": {
            "text/plain": [
              "vocab.json:   0%|          | 0.00/899k [00:00<?, ?B/s]"
            ],
            "application/vnd.jupyter.widget-view+json": {
              "version_major": 2,
              "version_minor": 0,
              "model_id": "7caecf354aeb4d848aabff75a5c2e4f8"
            }
          },
          "metadata": {}
        },
        {
          "output_type": "display_data",
          "data": {
            "text/plain": [
              "merges.txt:   0%|          | 0.00/456k [00:00<?, ?B/s]"
            ],
            "application/vnd.jupyter.widget-view+json": {
              "version_major": 2,
              "version_minor": 0,
              "model_id": "4b0b08ce0587416687db411426b77c71"
            }
          },
          "metadata": {}
        },
        {
          "output_type": "display_data",
          "data": {
            "text/plain": [
              "tokenizer.json:   0%|          | 0.00/1.36M [00:00<?, ?B/s]"
            ],
            "application/vnd.jupyter.widget-view+json": {
              "version_major": 2,
              "version_minor": 0,
              "model_id": "09aa8a04e830499e9b3493a0ecb253e6"
            }
          },
          "metadata": {}
        },
        {
          "output_type": "display_data",
          "data": {
            "text/plain": [
              "model.safetensors:   0%|          | 0.00/499M [00:00<?, ?B/s]"
            ],
            "application/vnd.jupyter.widget-view+json": {
              "version_major": 2,
              "version_minor": 0,
              "model_id": "93fff4650782462f89ec0e981dc2ff98"
            }
          },
          "metadata": {}
        }
      ],
      "source": [
        "model_name = \"roberta-base\"\n",
        "model_cls = AutoModelForSequenceClassification\n",
        "config = AutoConfig.from_pretrained(model_name)\n",
        "config.num_labels = len(labels)\n",
        "\n",
        "hf_arch, hf_config, hf_tokenizer, hf_model = get_hf_objects(model_name, model_cls=model_cls, config=config)\n",
        "hf_model.config.problem_type = \"multi_label_classification\""
      ]
    },
    {
      "cell_type": "code",
      "execution_count": 21,
      "metadata": {
        "id": "GZlQWjktUo68"
      },
      "outputs": [],
      "source": [
        "blocks = (TextBlock(hf_arch, hf_config, hf_tokenizer, hf_model), MultiCategoryBlock(encoded=True,vocab=labels))\n",
        "dblock = DataBlock(blocks=blocks, get_x=ColReader('description'), get_y=ColReader('tag_cat_list'), splitter=RandomSplitter(valid_pct=0.1, seed=42))"
      ]
    },
    {
      "cell_type": "code",
      "execution_count": 22,
      "metadata": {
        "id": "MssGyiB5VBa4"
      },
      "outputs": [],
      "source": [
        "dls = dblock.dataloaders(df, bs=16)\n",
        "torch.save(dls, f\"../../dataloaders/{model_name}/dls-multilabel-question-classifier.pkl\")"
      ]
    },
    {
      "cell_type": "code",
      "execution_count": null,
      "metadata": {
        "id": "CrUFMjsDVPWk"
      },
      "outputs": [],
      "source": [
        "# dls = torch.load(f\"../../dataloaders/{model_name}/dls-multilabel-question-classifier.pkl\")"
      ]
    },
    {
      "cell_type": "code",
      "execution_count": 23,
      "metadata": {
        "colab": {
          "base_uri": "https://localhost:8080/"
        },
        "id": "2MaVIXp7VTsF",
        "outputId": "3c0e19d6-3454-4942-e3b0-67ba57d6800b"
      },
      "outputs": [
        {
          "output_type": "execute_result",
          "data": {
            "text/plain": [
              "['the-lord-of-the-rings', 'tolkiens-legendarium', 'the-one-ring', 'star-wars', 'the-force', 'the-empire-strikes-back', 'harry-potter', 'technology', 'story-identification', 'short-stories', 'time-travel', 'suggested-order', 'back-to-the-future', 'behind-the-scenes', 'j-r-r-tolkien', 'dc', 'character-identification', 'hogwarts', 'a-new-hope', 'the-hitchhikers-guide-to-the-galaxy', 'batman', 'the-matrix', 'gandalf', 'isaac-asimov', 'horcrux', 'magical-theory', 'star-trek', 'star-trek-tng', 'the-force-awakens', 'uss-enterprise', 'star-wars-legends', 'spaceship', 'marvel', 'marvel-cinematic-universe', 'sauron', 'religion', 'comics', 'sith', 'darth-vader', 'return-of-the-jedi', 'revenge-of-the-sith', 'albus-dumbledore', 'severus-snape', 'luke-skywalker', 'obi-wan-kenobi', 'star-trek-tos', 'voldemort', 'the-return-of-the-king', 'discworld', 'game-of-thrones', 'a-song-of-ice-and-fire', 'jk-rowling', 'rogue-one', 'death-star', 'the-hobbit', 'powers', 'darth-sidious', 'borg', 'adaptation-comparison', 'the-fellowship-of-the-ring', 'history-of', 'iron-man', 'weapon', 'elves', 'artificial-intelligence', 'magic', 'spells', 'books', 'aliens', 'science-fiction-genre', 'the-hunger-games', 'avengers', 'thor-marvel', 'the-silmarillion', 'dragons', 'muggles', 'the-last-jedi', 'droids', 'star-trek-voyager', 'names', 'languages', 'canon', 'jedi', 'vampire', 'middle-earth', 'captain-america', 'the-avengers-2012', 'kylo-ren', 'doctor-who', 'star-trek-data', 'the-rise-of-skywalker', 'x-men', 'babylon-5', 'the-phantom-menace', 'hard-sci-fi', 'battlestar-galactica', 'video-games', 'movie', 'star-trek-2009', 'futurama', 'avengers-age-of-ultron', 'the-incredible-hulk', 'character-motivation', 'lightsaber', 'star-trek-ds9', 'episode-identification', 'horror', 'magical-creatures', 'space-exploration', 'computers', 'superman', 'object-identification', 'klingon', 'nolan-batman-trilogy', 'stargate', 'the-terminator', 'the-terminator-series', 'robots', 'death-eaters', 'firefly', 'alien-franchise', 'spider-man', 'avengers-infinity-war', 'inspiration', 'dc-extended-universe', 'tv', 'quotes', 'wolverine', 'attack-of-the-clones', 'clones', 'dune', 'the-clone-wars', 'the-wheel-of-time', 'quidditch', 'soft-sci-fi', 'wandlore', 'science', 'novel', 'robert-a-heinlein', 'the-walking-dead', 'avengers-endgame', 'x-men-cinematic-universe', 'dystopia', 'parallel-universe', 'star-trek-discovery', 'avatar-the-last-airbender', 'post-apocalyptic', 'alien-invasion', 'stargate-sg1', 'star-trek-enterprise', 'space', 'fantastic-beasts', 'cartoon', 'young-adult', 'anime', 'space-colonization', 'warhammer-40k', 'telepathy', 'childrens-novel', 'anthology-book']"
            ]
          },
          "metadata": {},
          "execution_count": 23
        }
      ],
      "source": [
        "dls.vocab"
      ]
    },
    {
      "cell_type": "code",
      "execution_count": 24,
      "metadata": {
        "colab": {
          "base_uri": "https://localhost:8080/",
          "height": 313
        },
        "id": "Em7boTDGVhb1",
        "outputId": "e38160de-6fe0-4f32-e026-f6260e55c1e9"
      },
      "outputs": [
        {
          "output_type": "display_data",
          "data": {
            "text/plain": [
              "<IPython.core.display.HTML object>"
            ],
            "text/html": [
              "<table border=\"1\" class=\"dataframe\">\n",
              "  <thead>\n",
              "    <tr style=\"text-align: right;\">\n",
              "      <th></th>\n",
              "      <th>text</th>\n",
              "      <th>target</th>\n",
              "    </tr>\n",
              "  </thead>\n",
              "  <tbody>\n",
              "    <tr>\n",
              "      <th>0</th>\n",
              "      <td>In Legends of Tomorrow - 1x10 - Progeny just after the team arrives in the future, we get a prompt on screen of when and where we are for this episode.\\nIn normal viewing speed, it appears to be gibberish until it settles on the correct place and time.\\nWhen viewed frame-by-frame, however, it looks like this:\\n\\n (= their starting point from the previous episode),\\n,\\n,\\n,\\n,\\n,\\n,\\n, before finally settling on\\n (= their destination).\\n\\nSo the obvious question is, do these dates and places have any significance? \\nPS:</td>\n",
              "      <td>[dc]</td>\n",
              "    </tr>\n",
              "    <tr>\n",
              "      <th>1</th>\n",
              "      <td>This answer by JRE to a Writing question about the unlikeability of villains mentioned this ~30+ year old book, a.k.a ~1992 or older:\\n\\nThat one particular fantasy novel started with (at least) two chapters of a point of view character torturing, skinning, and dismembering other people.\\nThe descriptions were (extremely) vivid, and the character was quite obviously enjoying the process. What's more, it was implied that this (evil) character was of a common character type in the universe of the story and that</td>\n",
              "      <td>[story-identification]</td>\n",
              "    </tr>\n",
              "    <tr>\n",
              "      <th>2</th>\n",
              "      <td>In the book, The Lord of the Rings, Tolkien often talks about the central concept of the Rings of Power, namely that the Great Rings preserve life.\\nGollum, for one, is incredibly old, having possessed the Ruling Ring for most of the Third Age. This makes him anything up to about three thousand years old, although we do not of course know a precise date for when he acquired the Ring, only that it was found by him a long time after Isildur was slain and the Ring had been lost in the Great River.\\nGollum has n</td>\n",
              "      <td>[tolkiens-legendarium]</td>\n",
              "    </tr>\n",
              "    <tr>\n",
              "      <th>3</th>\n",
              "      <td>The creation of the clone army was orchestrated by the Sith, but the Jedi seemed to show no qualms about using this army of clones genetically modified for obedience and bred for the sole purpose of fighting and dying for the Republic (and, by extension, the Jedi). The Jedi are generally considered to be the \"good guys\" of the Star Wars universe, but this use of the clones is arguably a major moral flaw on the part of the Jedi.\\nI know of one case in which the Jedi were accused, in-universe, of exploiting t</td>\n",
              "      <td>[star-wars, star-wars-legends, jedi]</td>\n",
              "    </tr>\n",
              "  </tbody>\n",
              "</table>"
            ]
          },
          "metadata": {}
        }
      ],
      "source": [
        "dls.show_batch(dataloaders=dls, max_n=4, trunc_at=512)"
      ]
    },
    {
      "cell_type": "code",
      "execution_count": 25,
      "metadata": {
        "colab": {
          "base_uri": "https://localhost:8080/",
          "height": 154
        },
        "id": "iW0G7xLnX8rt",
        "outputId": "0af4fab7-27f1-4aa4-84c0-6c17aba30155"
      },
      "outputs": [
        {
          "output_type": "display_data",
          "data": {
            "text/plain": [
              "<IPython.core.display.HTML object>"
            ],
            "text/html": [
              "<hr/>\n",
              "<h3>accuracy_multi</h3>\n",
              "<blockquote><pre><code>accuracy_multi(inp, targ, thresh=0.5, sigmoid=True)</code></pre></blockquote><p><i>Compute accuracy when `inp` and `targ` are the same size.</i></p>\n",
              "<p><a href=\"https://docs.fast.ai/metrics.html#accuracy_multi\" target=\"_blank\" rel=\"noreferrer noopener\">Show in docs</a></p>"
            ]
          },
          "metadata": {}
        }
      ],
      "source": [
        "doc(accuracy_multi)"
      ]
    },
    {
      "cell_type": "code",
      "execution_count": 26,
      "metadata": {
        "id": "Rdftrmy8Vp6m"
      },
      "outputs": [],
      "source": [
        "model = BaseModelWrapper(hf_model)\n",
        "\n",
        "acc_02 = partial(accuracy_multi, thresh=0.2)\n",
        "\n",
        "learner = Learner(dls,\n",
        "                  model,\n",
        "                  opt_func=partial(OptimWrapper, opt=torch.optim.AdamW),\n",
        "                  loss_func=BCEWithLogitsLossFlat(),\n",
        "                  metrics=[acc_02],\n",
        "                  cbs=[BaseModelCallback],\n",
        "                  splitter=blurr_splitter\n",
        "                  ).to_fp16()"
      ]
    },
    {
      "cell_type": "markdown",
      "metadata": {
        "id": "ZPvvzNxSV0t9"
      },
      "source": [
        "# Stage - 0"
      ]
    },
    {
      "cell_type": "code",
      "execution_count": 27,
      "metadata": {
        "id": "ty81uoBYVzmE"
      },
      "outputs": [],
      "source": [
        "learner.freeze()"
      ]
    },
    {
      "cell_type": "code",
      "execution_count": 28,
      "metadata": {
        "colab": {
          "base_uri": "https://localhost:8080/",
          "height": 526
        },
        "id": "I4rArCNEV3SE",
        "outputId": "debd32f8-8551-4288-e617-0e08cb4b8cbf"
      },
      "outputs": [
        {
          "output_type": "display_data",
          "data": {
            "text/plain": [
              "<IPython.core.display.HTML object>"
            ],
            "text/html": [
              "\n",
              "<style>\n",
              "    /* Turns off some styling */\n",
              "    progress {\n",
              "        /* gets rid of default border in Firefox and Opera. */\n",
              "        border: none;\n",
              "        /* Needs to be in here for Safari polyfill so background images work as expected. */\n",
              "        background-size: auto;\n",
              "    }\n",
              "    progress:not([value]), progress:not([value])::-webkit-progress-bar {\n",
              "        background: repeating-linear-gradient(45deg, #7e7e7e, #7e7e7e 10px, #5c5c5c 10px, #5c5c5c 20px);\n",
              "    }\n",
              "    .progress-bar-interrupted, .progress-bar-interrupted::-webkit-progress-bar {\n",
              "        background: #F44336;\n",
              "    }\n",
              "</style>\n"
            ]
          },
          "metadata": {}
        },
        {
          "output_type": "display_data",
          "data": {
            "text/plain": [
              "<IPython.core.display.HTML object>"
            ],
            "text/html": []
          },
          "metadata": {}
        },
        {
          "output_type": "stream",
          "name": "stderr",
          "text": [
            "/usr/lib/python3.10/multiprocessing/popen_fork.py:66: RuntimeWarning: os.fork() was called. os.fork() is incompatible with multithreaded code, and JAX is multithreaded, so this will likely lead to a deadlock.\n",
            "  self.pid = os.fork()\n"
          ]
        },
        {
          "output_type": "execute_result",
          "data": {
            "text/plain": [
              "SuggestedLRs(slide=0.007585775572806597, valley=0.0002754228771664202)"
            ]
          },
          "metadata": {},
          "execution_count": 28
        },
        {
          "output_type": "display_data",
          "data": {
            "text/plain": [
              "<Figure size 640x480 with 1 Axes>"
            ],
            "image/png": "[encoded data removed]"
          },
          "metadata": {}
        }
      ],
      "source": [
        "learner.lr_find(suggest_funcs=[slide, valley])"
      ]
    },
    {
      "cell_type": "code",
      "execution_count": 29,
      "metadata": {
        "colab": {
          "base_uri": "https://localhost:8080/",
          "height": 167
        },
        "id": "f5EZdBxuWAo9",
        "outputId": "8cbc875e-e943-45f3-cf28-c0d461366a55"
      },
      "outputs": [
        {
          "output_type": "display_data",
          "data": {
            "text/plain": [
              "<IPython.core.display.HTML object>"
            ],
            "text/html": [
              "\n",
              "<style>\n",
              "    /* Turns off some styling */\n",
              "    progress {\n",
              "        /* gets rid of default border in Firefox and Opera. */\n",
              "        border: none;\n",
              "        /* Needs to be in here for Safari polyfill so background images work as expected. */\n",
              "        background-size: auto;\n",
              "    }\n",
              "    progress:not([value]), progress:not([value])::-webkit-progress-bar {\n",
              "        background: repeating-linear-gradient(45deg, #7e7e7e, #7e7e7e 10px, #5c5c5c 10px, #5c5c5c 20px);\n",
              "    }\n",
              "    .progress-bar-interrupted, .progress-bar-interrupted::-webkit-progress-bar {\n",
              "        background: #F44336;\n",
              "    }\n",
              "</style>\n"
            ]
          },
          "metadata": {}
        },
        {
          "output_type": "display_data",
          "data": {
            "text/plain": [
              "<IPython.core.display.HTML object>"
            ],
            "text/html": [
              "<table border=\"1\" class=\"dataframe\">\n",
              "  <thead>\n",
              "    <tr style=\"text-align: left;\">\n",
              "      <th>epoch</th>\n",
              "      <th>train_loss</th>\n",
              "      <th>valid_loss</th>\n",
              "      <th>accuracy_multi</th>\n",
              "      <th>time</th>\n",
              "    </tr>\n",
              "  </thead>\n",
              "  <tbody>\n",
              "    <tr>\n",
              "      <td>0</td>\n",
              "      <td>0.025138</td>\n",
              "      <td>0.022548</td>\n",
              "      <td>0.991351</td>\n",
              "      <td>04:47</td>\n",
              "    </tr>\n",
              "    <tr>\n",
              "      <td>1</td>\n",
              "      <td>0.017300</td>\n",
              "      <td>0.017100</td>\n",
              "      <td>0.993157</td>\n",
              "      <td>04:48</td>\n",
              "    </tr>\n",
              "  </tbody>\n",
              "</table>"
            ]
          },
          "metadata": {}
        },
        {
          "output_type": "stream",
          "name": "stderr",
          "text": [
            "/usr/lib/python3.10/multiprocessing/popen_fork.py:66: RuntimeWarning: os.fork() was called. os.fork() is incompatible with multithreaded code, and JAX is multithreaded, so this will likely lead to a deadlock.\n",
            "  self.pid = os.fork()\n"
          ]
        }
      ],
      "source": [
        "learner.fit_one_cycle(2,3.8e-3)"
      ]
    },
    {
      "cell_type": "code",
      "execution_count": 30,
      "metadata": {
        "colab": {
          "base_uri": "https://localhost:8080/"
        },
        "id": "SPWUiFE5WFcA",
        "outputId": "1ab411a2-c777-45fa-d3d4-66ec06cb84bf"
      },
      "outputs": [
        {
          "output_type": "execute_result",
          "data": {
            "text/plain": [
              "Path('models/question-classifier-stage-0.pth')"
            ]
          },
          "metadata": {},
          "execution_count": 30
        }
      ],
      "source": [
        "learner.save(\"question-classifier-stage-0\")"
      ]
    },
    {
      "cell_type": "markdown",
      "metadata": {
        "id": "grdg5-CTWMe1"
      },
      "source": [
        "# Stage - 1"
      ]
    },
    {
      "cell_type": "code",
      "execution_count": null,
      "metadata": {
        "id": "tDSMlbBiWN31"
      },
      "outputs": [],
      "source": [
        "# learner.load(\"question-classifier-stage-0\")"
      ]
    },
    {
      "cell_type": "code",
      "execution_count": 31,
      "metadata": {
        "id": "hIRcNyH8WRHP"
      },
      "outputs": [],
      "source": [
        "learner.unfreeze()"
      ]
    },
    {
      "cell_type": "code",
      "execution_count": 32,
      "metadata": {
        "colab": {
          "base_uri": "https://localhost:8080/",
          "height": 471
        },
        "id": "J9c73oaBWSbY",
        "outputId": "ef386412-064f-4c62-f0bb-2f236c4a58d0"
      },
      "outputs": [
        {
          "output_type": "display_data",
          "data": {
            "text/plain": [
              "<IPython.core.display.HTML object>"
            ],
            "text/html": [
              "\n",
              "<style>\n",
              "    /* Turns off some styling */\n",
              "    progress {\n",
              "        /* gets rid of default border in Firefox and Opera. */\n",
              "        border: none;\n",
              "        /* Needs to be in here for Safari polyfill so background images work as expected. */\n",
              "        background-size: auto;\n",
              "    }\n",
              "    progress:not([value]), progress:not([value])::-webkit-progress-bar {\n",
              "        background: repeating-linear-gradient(45deg, #7e7e7e, #7e7e7e 10px, #5c5c5c 10px, #5c5c5c 20px);\n",
              "    }\n",
              "    .progress-bar-interrupted, .progress-bar-interrupted::-webkit-progress-bar {\n",
              "        background: #F44336;\n",
              "    }\n",
              "</style>\n"
            ]
          },
          "metadata": {}
        },
        {
          "output_type": "display_data",
          "data": {
            "text/plain": [
              "<IPython.core.display.HTML object>"
            ],
            "text/html": []
          },
          "metadata": {}
        },
        {
          "output_type": "execute_result",
          "data": {
            "text/plain": [
              "SuggestedLRs(slide=0.0005754399462603033, valley=3.0199516913853586e-05)"
            ]
          },
          "metadata": {},
          "execution_count": 32
        },
        {
          "output_type": "display_data",
          "data": {
            "text/plain": [
              "<Figure size 640x480 with 1 Axes>"
            ],
            "image/png": "[encoded data removed]"
          },
          "metadata": {}
        }
      ],
      "source": [
        "learner.lr_find(suggest_funcs=[slide, valley])"
      ]
    },
    {
      "cell_type": "code",
      "execution_count": 33,
      "metadata": {
        "colab": {
          "base_uri": "https://localhost:8080/",
          "height": 233
        },
        "id": "FWTIFBbPWUNW",
        "outputId": "fcd77de3-93f9-456a-9697-bb9ee85a99b6"
      },
      "outputs": [
        {
          "output_type": "display_data",
          "data": {
            "text/plain": [
              "<IPython.core.display.HTML object>"
            ],
            "text/html": [
              "\n",
              "<style>\n",
              "    /* Turns off some styling */\n",
              "    progress {\n",
              "        /* gets rid of default border in Firefox and Opera. */\n",
              "        border: none;\n",
              "        /* Needs to be in here for Safari polyfill so background images work as expected. */\n",
              "        background-size: auto;\n",
              "    }\n",
              "    progress:not([value]), progress:not([value])::-webkit-progress-bar {\n",
              "        background: repeating-linear-gradient(45deg, #7e7e7e, #7e7e7e 10px, #5c5c5c 10px, #5c5c5c 20px);\n",
              "    }\n",
              "    .progress-bar-interrupted, .progress-bar-interrupted::-webkit-progress-bar {\n",
              "        background: #F44336;\n",
              "    }\n",
              "</style>\n"
            ]
          },
          "metadata": {}
        },
        {
          "output_type": "display_data",
          "data": {
            "text/plain": [
              "<IPython.core.display.HTML object>"
            ],
            "text/html": [
              "<table border=\"1\" class=\"dataframe\">\n",
              "  <thead>\n",
              "    <tr style=\"text-align: left;\">\n",
              "      <th>epoch</th>\n",
              "      <th>train_loss</th>\n",
              "      <th>valid_loss</th>\n",
              "      <th>accuracy_multi</th>\n",
              "      <th>time</th>\n",
              "    </tr>\n",
              "  </thead>\n",
              "  <tbody>\n",
              "    <tr>\n",
              "      <td>0</td>\n",
              "      <td>0.020146</td>\n",
              "      <td>0.019143</td>\n",
              "      <td>0.992692</td>\n",
              "      <td>06:41</td>\n",
              "    </tr>\n",
              "    <tr>\n",
              "      <td>1</td>\n",
              "      <td>0.015978</td>\n",
              "      <td>0.017081</td>\n",
              "      <td>0.992566</td>\n",
              "      <td>06:45</td>\n",
              "    </tr>\n",
              "    <tr>\n",
              "      <td>2</td>\n",
              "      <td>0.012677</td>\n",
              "      <td>0.015567</td>\n",
              "      <td>0.993531</td>\n",
              "      <td>06:43</td>\n",
              "    </tr>\n",
              "  </tbody>\n",
              "</table>"
            ]
          },
          "metadata": {}
        },
        {
          "output_type": "stream",
          "name": "stderr",
          "text": [
            "/usr/lib/python3.10/multiprocessing/popen_fork.py:66: RuntimeWarning: os.fork() was called. os.fork() is incompatible with multithreaded code, and JAX is multithreaded, so this will likely lead to a deadlock.\n",
            "  self.pid = os.fork()\n",
            "/usr/lib/python3.10/multiprocessing/popen_fork.py:66: RuntimeWarning: os.fork() was called. os.fork() is incompatible with multithreaded code, and JAX is multithreaded, so this will likely lead to a deadlock.\n",
            "  self.pid = os.fork()\n"
          ]
        }
      ],
      "source": [
        "learner.fit_one_cycle(3,slice(4.5e-4, 3.5e-5))"
      ]
    },
    {
      "cell_type": "code",
      "execution_count": 34,
      "metadata": {
        "colab": {
          "base_uri": "https://localhost:8080/"
        },
        "id": "b-J5n553WZz3",
        "outputId": "c1a703f8-9c5d-466b-d58b-7107643d0556"
      },
      "outputs": [
        {
          "output_type": "execute_result",
          "data": {
            "text/plain": [
              "Path('models/question-classifier-stage-1.pth')"
            ]
          },
          "metadata": {},
          "execution_count": 34
        }
      ],
      "source": [
        "learner.save(\"question-classifier-stage-1\")"
      ]
    },
    {
      "cell_type": "code",
      "execution_count": 35,
      "metadata": {
        "id": "rMd7GV5PWayd"
      },
      "outputs": [],
      "source": [
        "learner.export(f\"../../models/{model_name}/question-classifier-stage-1.pkl\")"
      ]
    }
  ],
  "metadata": {
    "accelerator": "GPU",
    "colab": {
      "provenance": []
    },
    "gpuClass": "standard",
    "kernelspec": {
      "display_name": "Python 3",
      "name": "python3"
    },
    "language_info": {
      "codemirror_mode": {
        "name": "ipython",
        "version": 3
      },
      "file_extension": ".py",
      "mimetype": "text/x-python",
      "name": "python",
      "nbconvert_exporter": "python",
      "pygments_lexer": "ipython3",
      "version": "3.12.2"
    },
    "widgets": {
      "application/vnd.jupyter.widget-state+json": {
        "2ccd8683d7354534a2582ff66386469c": {
          "model_module": "@jupyter-widgets/controls",
          "model_name": "HBoxModel",
          "model_module_version": "1.5.0",
          "state": {
            "_dom_classes": [],
            "_model_module": "@jupyter-widgets/controls",
            "_model_module_version": "1.5.0",
            "_model_name": "HBoxModel",
            "_view_count": null,
            "_view_module": "@jupyter-widgets/controls",
            "_view_module_version": "1.5.0",
            "_view_name": "HBoxView",
            "box_style": "",
            "children": [
              "IPY_MODEL_dd6c75c7c14b4ceab4820f79f763dbfd",
              "IPY_MODEL_afdfb0a2eefc41bb82d307e80e944fdd",
              "IPY_MODEL_d2ab901e477c4418831a324a5d90efc8"
            ],
            "layout": "IPY_MODEL_e1561f52a1d74a6d890593ef9d51173b"
          }
        },
        "dd6c75c7c14b4ceab4820f79f763dbfd": {
          "model_module": "@jupyter-widgets/controls",
          "model_name": "HTMLModel",
          "model_module_version": "1.5.0",
          "state": {
            "_dom_classes": [],
            "_model_module": "@jupyter-widgets/controls",
            "_model_module_version": "1.5.0",
            "_model_name": "HTMLModel",
            "_view_count": null,
            "_view_module": "@jupyter-widgets/controls",
            "_view_module_version": "1.5.0",
            "_view_name": "HTMLView",
            "description": "",
            "description_tooltip": null,
            "layout": "IPY_MODEL_c299780fddcb482fbb1f46a163bb47e8",
            "placeholder": "​",
            "style": "IPY_MODEL_002cd0332b224468a7c767cc23c474d9",
            "value": "Downloading builder script: "
          }
        },
        "afdfb0a2eefc41bb82d307e80e944fdd": {
          "model_module": "@jupyter-widgets/controls",
          "model_name": "FloatProgressModel",
          "model_module_version": "1.5.0",
          "state": {
            "_dom_classes": [],
            "_model_module": "@jupyter-widgets/controls",
            "_model_module_version": "1.5.0",
            "_model_name": "FloatProgressModel",
            "_view_count": null,
            "_view_module": "@jupyter-widgets/controls",
            "_view_module_version": "1.5.0",
            "_view_name": "ProgressView",
            "bar_style": "success",
            "description": "",
            "description_tooltip": null,
            "layout": "IPY_MODEL_1b16a2ae6c604dddbd2811f5d65dcf74",
            "max": 1715,
            "min": 0,
            "orientation": "horizontal",
            "style": "IPY_MODEL_ca31bc28a55441da96ede86f06a02c1b",
            "value": 1715
          }
        },
        "d2ab901e477c4418831a324a5d90efc8": {
          "model_module": "@jupyter-widgets/controls",
          "model_name": "HTMLModel",
          "model_module_version": "1.5.0",
          "state": {
            "_dom_classes": [],
            "_model_module": "@jupyter-widgets/controls",
            "_model_module_version": "1.5.0",
            "_model_name": "HTMLModel",
            "_view_count": null,
            "_view_module": "@jupyter-widgets/controls",
            "_view_module_version": "1.5.0",
            "_view_name": "HTMLView",
            "description": "",
            "description_tooltip": null,
            "layout": "IPY_MODEL_47b8beec718c45e38832f2dfdab1a28e",
            "placeholder": "​",
            "style": "IPY_MODEL_c855e6db96354e1b9b53d8de090556b1",
            "value": " 4.50k/? [00:00&lt;00:00, 138kB/s]"
          }
        },
        "e1561f52a1d74a6d890593ef9d51173b": {
          "model_module": "@jupyter-widgets/base",
          "model_name": "LayoutModel",
          "model_module_version": "1.2.0",
          "state": {
            "_model_module": "@jupyter-widgets/base",
            "_model_module_version": "1.2.0",
            "_model_name": "LayoutModel",
            "_view_count": null,
            "_view_module": "@jupyter-widgets/base",
            "_view_module_version": "1.2.0",
            "_view_name": "LayoutView",
            "align_content": null,
            "align_items": null,
            "align_self": null,
            "border": null,
            "bottom": null,
            "display": null,
            "flex": null,
            "flex_flow": null,
            "grid_area": null,
            "grid_auto_columns": null,
            "grid_auto_flow": null,
            "grid_auto_rows": null,
            "grid_column": null,
            "grid_gap": null,
            "grid_row": null,
            "grid_template_areas": null,
            "grid_template_columns": null,
            "grid_template_rows": null,
            "height": null,
            "justify_content": null,
            "justify_items": null,
            "left": null,
            "margin": null,
            "max_height": null,
            "max_width": null,
            "min_height": null,
            "min_width": null,
            "object_fit": null,
            "object_position": null,
            "order": null,
            "overflow": null,
            "overflow_x": null,
            "overflow_y": null,
            "padding": null,
            "right": null,
            "top": null,
            "visibility": null,
            "width": null
          }
        },
        "c299780fddcb482fbb1f46a163bb47e8": {
          "model_module": "@jupyter-widgets/base",
          "model_name": "LayoutModel",
          "model_module_version": "1.2.0",
          "state": {
            "_model_module": "@jupyter-widgets/base",
            "_model_module_version": "1.2.0",
            "_model_name": "LayoutModel",
            "_view_count": null,
            "_view_module": "@jupyter-widgets/base",
            "_view_module_version": "1.2.0",
            "_view_name": "LayoutView",
            "align_content": null,
            "align_items": null,
            "align_self": null,
            "border": null,
            "bottom": null,
            "display": null,
            "flex": null,
            "flex_flow": null,
            "grid_area": null,
            "grid_auto_columns": null,
            "grid_auto_flow": null,
            "grid_auto_rows": null,
            "grid_column": null,
            "grid_gap": null,
            "grid_row": null,
            "grid_template_areas": null,
            "grid_template_columns": null,
            "grid_template_rows": null,
            "height": null,
            "justify_content": null,
            "justify_items": null,
            "left": null,
            "margin": null,
            "max_height": null,
            "max_width": null,
            "min_height": null,
            "min_width": null,
            "object_fit": null,
            "object_position": null,
            "order": null,
            "overflow": null,
            "overflow_x": null,
            "overflow_y": null,
            "padding": null,
            "right": null,
            "top": null,
            "visibility": null,
            "width": null
          }
        },
        "002cd0332b224468a7c767cc23c474d9": {
          "model_module": "@jupyter-widgets/controls",
          "model_name": "DescriptionStyleModel",
          "model_module_version": "1.5.0",
          "state": {
            "_model_module": "@jupyter-widgets/controls",
            "_model_module_version": "1.5.0",
            "_model_name": "DescriptionStyleModel",
            "_view_count": null,
            "_view_module": "@jupyter-widgets/base",
            "_view_module_version": "1.2.0",
            "_view_name": "StyleView",
            "description_width": ""
          }
        },
        "1b16a2ae6c604dddbd2811f5d65dcf74": {
          "model_module": "@jupyter-widgets/base",
          "model_name": "LayoutModel",
          "model_module_version": "1.2.0",
          "state": {
            "_model_module": "@jupyter-widgets/base",
            "_model_module_version": "1.2.0",
            "_model_name": "LayoutModel",
            "_view_count": null,
            "_view_module": "@jupyter-widgets/base",
            "_view_module_version": "1.2.0",
            "_view_name": "LayoutView",
            "align_content": null,
            "align_items": null,
            "align_self": null,
            "border": null,
            "bottom": null,
            "display": null,
            "flex": null,
            "flex_flow": null,
            "grid_area": null,
            "grid_auto_columns": null,
            "grid_auto_flow": null,
            "grid_auto_rows": null,
            "grid_column": null,
            "grid_gap": null,
            "grid_row": null,
            "grid_template_areas": null,
            "grid_template_columns": null,
            "grid_template_rows": null,
            "height": null,
            "justify_content": null,
            "justify_items": null,
            "left": null,
            "margin": null,
            "max_height": null,
            "max_width": null,
            "min_height": null,
            "min_width": null,
            "object_fit": null,
            "object_position": null,
            "order": null,
            "overflow": null,
            "overflow_x": null,
            "overflow_y": null,
            "padding": null,
            "right": null,
            "top": null,
            "visibility": null,
            "width": null
          }
        },
        "ca31bc28a55441da96ede86f06a02c1b": {
          "model_module": "@jupyter-widgets/controls",
          "model_name": "ProgressStyleModel",
          "model_module_version": "1.5.0",
          "state": {
            "_model_module": "@jupyter-widgets/controls",
            "_model_module_version": "1.5.0",
            "_model_name": "ProgressStyleModel",
            "_view_count": null,
            "_view_module": "@jupyter-widgets/base",
            "_view_module_version": "1.2.0",
            "_view_name": "StyleView",
            "bar_color": null,
            "description_width": ""
          }
        },
        "47b8beec718c45e38832f2dfdab1a28e": {
          "model_module": "@jupyter-widgets/base",
          "model_name": "LayoutModel",
          "model_module_version": "1.2.0",
          "state": {
            "_model_module": "@jupyter-widgets/base",
            "_model_module_version": "1.2.0",
            "_model_name": "LayoutModel",
            "_view_count": null,
            "_view_module": "@jupyter-widgets/base",
            "_view_module_version": "1.2.0",
            "_view_name": "LayoutView",
            "align_content": null,
            "align_items": null,
            "align_self": null,
            "border": null,
            "bottom": null,
            "display": null,
            "flex": null,
            "flex_flow": null,
            "grid_area": null,
            "grid_auto_columns": null,
            "grid_auto_flow": null,
            "grid_auto_rows": null,
            "grid_column": null,
            "grid_gap": null,
            "grid_row": null,
            "grid_template_areas": null,
            "grid_template_columns": null,
            "grid_template_rows": null,
            "height": null,
            "justify_content": null,
            "justify_items": null,
            "left": null,
            "margin": null,
            "max_height": null,
            "max_width": null,
            "min_height": null,
            "min_width": null,
            "object_fit": null,
            "object_position": null,
            "order": null,
            "overflow": null,
            "overflow_x": null,
            "overflow_y": null,
            "padding": null,
            "right": null,
            "top": null,
            "visibility": null,
            "width": null
          }
        },
        "c855e6db96354e1b9b53d8de090556b1": {
          "model_module": "@jupyter-widgets/controls",
          "model_name": "DescriptionStyleModel",
          "model_module_version": "1.5.0",
          "state": {
            "_model_module": "@jupyter-widgets/controls",
            "_model_module_version": "1.5.0",
            "_model_name": "DescriptionStyleModel",
            "_view_count": null,
            "_view_module": "@jupyter-widgets/base",
            "_view_module_version": "1.2.0",
            "_view_name": "StyleView",
            "description_width": ""
          }
        },
        "e9a25aae9c054060b8e3fe22412e0783": {
          "model_module": "@jupyter-widgets/controls",
          "model_name": "HBoxModel",
          "model_module_version": "1.5.0",
          "state": {
            "_dom_classes": [],
            "_model_module": "@jupyter-widgets/controls",
            "_model_module_version": "1.5.0",
            "_model_name": "HBoxModel",
            "_view_count": null,
            "_view_module": "@jupyter-widgets/controls",
            "_view_module_version": "1.5.0",
            "_view_name": "HBoxView",
            "box_style": "",
            "children": [
              "IPY_MODEL_185ecb849fb743e8b1b4c1cb9c13769a",
              "IPY_MODEL_d65bf2e16817421282e89adee84580d1",
              "IPY_MODEL_6d0e3d935e3e4592b37233667a2d5011"
            ],
            "layout": "IPY_MODEL_2d101a056880412bbedee94d31e39419"
          }
        },
        "185ecb849fb743e8b1b4c1cb9c13769a": {
          "model_module": "@jupyter-widgets/controls",
          "model_name": "HTMLModel",
          "model_module_version": "1.5.0",
          "state": {
            "_dom_classes": [],
            "_model_module": "@jupyter-widgets/controls",
            "_model_module_version": "1.5.0",
            "_model_name": "HTMLModel",
            "_view_count": null,
            "_view_module": "@jupyter-widgets/controls",
            "_view_module_version": "1.5.0",
            "_view_name": "HTMLView",
            "description": "",
            "description_tooltip": null,
            "layout": "IPY_MODEL_7e011ef8c8764bdbba36bb0af3de00dd",
            "placeholder": "​",
            "style": "IPY_MODEL_0ac7960856e345c2a4621c5a3768e73e",
            "value": "Downloading extra modules: "
          }
        },
        "d65bf2e16817421282e89adee84580d1": {
          "model_module": "@jupyter-widgets/controls",
          "model_name": "FloatProgressModel",
          "model_module_version": "1.5.0",
          "state": {
            "_dom_classes": [],
            "_model_module": "@jupyter-widgets/controls",
            "_model_module_version": "1.5.0",
            "_model_name": "FloatProgressModel",
            "_view_count": null,
            "_view_module": "@jupyter-widgets/controls",
            "_view_module_version": "1.5.0",
            "_view_name": "ProgressView",
            "bar_style": "success",
            "description": "",
            "description_tooltip": null,
            "layout": "IPY_MODEL_1bfe8f7f99ac434fba62078714b42a30",
            "max": 1107,
            "min": 0,
            "orientation": "horizontal",
            "style": "IPY_MODEL_9cd4f321c7374d0fb64033175f5378c5",
            "value": 1107
          }
        },
        "6d0e3d935e3e4592b37233667a2d5011": {
          "model_module": "@jupyter-widgets/controls",
          "model_name": "HTMLModel",
          "model_module_version": "1.5.0",
          "state": {
            "_dom_classes": [],
            "_model_module": "@jupyter-widgets/controls",
            "_model_module_version": "1.5.0",
            "_model_name": "HTMLModel",
            "_view_count": null,
            "_view_module": "@jupyter-widgets/controls",
            "_view_module_version": "1.5.0",
            "_view_name": "HTMLView",
            "description": "",
            "description_tooltip": null,
            "layout": "IPY_MODEL_a7124f3a30974460aed9bf5095956b92",
            "placeholder": "​",
            "style": "IPY_MODEL_ad86e39edcd74483b59aacd082861ef4",
            "value": " 3.29k/? [00:00&lt;00:00, 102kB/s]"
          }
        },
        "2d101a056880412bbedee94d31e39419": {
          "model_module": "@jupyter-widgets/base",
          "model_name": "LayoutModel",
          "model_module_version": "1.2.0",
          "state": {
            "_model_module": "@jupyter-widgets/base",
            "_model_module_version": "1.2.0",
            "_model_name": "LayoutModel",
            "_view_count": null,
            "_view_module": "@jupyter-widgets/base",
            "_view_module_version": "1.2.0",
            "_view_name": "LayoutView",
            "align_content": null,
            "align_items": null,
            "align_self": null,
            "border": null,
            "bottom": null,
            "display": null,
            "flex": null,
            "flex_flow": null,
            "grid_area": null,
            "grid_auto_columns": null,
            "grid_auto_flow": null,
            "grid_auto_rows": null,
            "grid_column": null,
            "grid_gap": null,
            "grid_row": null,
            "grid_template_areas": null,
            "grid_template_columns": null,
            "grid_template_rows": null,
            "height": null,
            "justify_content": null,
            "justify_items": null,
            "left": null,
            "margin": null,
            "max_height": null,
            "max_width": null,
            "min_height": null,
            "min_width": null,
            "object_fit": null,
            "object_position": null,
            "order": null,
            "overflow": null,
            "overflow_x": null,
            "overflow_y": null,
            "padding": null,
            "right": null,
            "top": null,
            "visibility": null,
            "width": null
          }
        },
        "7e011ef8c8764bdbba36bb0af3de00dd": {
          "model_module": "@jupyter-widgets/base",
          "model_name": "LayoutModel",
          "model_module_version": "1.2.0",
          "state": {
            "_model_module": "@jupyter-widgets/base",
            "_model_module_version": "1.2.0",
            "_model_name": "LayoutModel",
            "_view_count": null,
            "_view_module": "@jupyter-widgets/base",
            "_view_module_version": "1.2.0",
            "_view_name": "LayoutView",
            "align_content": null,
            "align_items": null,
            "align_self": null,
            "border": null,
            "bottom": null,
            "display": null,
            "flex": null,
            "flex_flow": null,
            "grid_area": null,
            "grid_auto_columns": null,
            "grid_auto_flow": null,
            "grid_auto_rows": null,
            "grid_column": null,
            "grid_gap": null,
            "grid_row": null,
            "grid_template_areas": null,
            "grid_template_columns": null,
            "grid_template_rows": null,
            "height": null,
            "justify_content": null,
            "justify_items": null,
            "left": null,
            "margin": null,
            "max_height": null,
            "max_width": null,
            "min_height": null,
            "min_width": null,
            "object_fit": null,
            "object_position": null,
            "order": null,
            "overflow": null,
            "overflow_x": null,
            "overflow_y": null,
            "padding": null,
            "right": null,
            "top": null,
            "visibility": null,
            "width": null
          }
        },
        "0ac7960856e345c2a4621c5a3768e73e": {
          "model_module": "@jupyter-widgets/controls",
          "model_name": "DescriptionStyleModel",
          "model_module_version": "1.5.0",
          "state": {
            "_model_module": "@jupyter-widgets/controls",
            "_model_module_version": "1.5.0",
            "_model_name": "DescriptionStyleModel",
            "_view_count": null,
            "_view_module": "@jupyter-widgets/base",
            "_view_module_version": "1.2.0",
            "_view_name": "StyleView",
            "description_width": ""
          }
        },
        "1bfe8f7f99ac434fba62078714b42a30": {
          "model_module": "@jupyter-widgets/base",
          "model_name": "LayoutModel",
          "model_module_version": "1.2.0",
          "state": {
            "_model_module": "@jupyter-widgets/base",
            "_model_module_version": "1.2.0",
            "_model_name": "LayoutModel",
            "_view_count": null,
            "_view_module": "@jupyter-widgets/base",
            "_view_module_version": "1.2.0",
            "_view_name": "LayoutView",
            "align_content": null,
            "align_items": null,
            "align_self": null,
            "border": null,
            "bottom": null,
            "display": null,
            "flex": null,
            "flex_flow": null,
            "grid_area": null,
            "grid_auto_columns": null,
            "grid_auto_flow": null,
            "grid_auto_rows": null,
            "grid_column": null,
            "grid_gap": null,
            "grid_row": null,
            "grid_template_areas": null,
            "grid_template_columns": null,
            "grid_template_rows": null,
            "height": null,
            "justify_content": null,
            "justify_items": null,
            "left": null,
            "margin": null,
            "max_height": null,
            "max_width": null,
            "min_height": null,
            "min_width": null,
            "object_fit": null,
            "object_position": null,
            "order": null,
            "overflow": null,
            "overflow_x": null,
            "overflow_y": null,
            "padding": null,
            "right": null,
            "top": null,
            "visibility": null,
            "width": null
          }
        },
        "9cd4f321c7374d0fb64033175f5378c5": {
          "model_module": "@jupyter-widgets/controls",
          "model_name": "ProgressStyleModel",
          "model_module_version": "1.5.0",
          "state": {
            "_model_module": "@jupyter-widgets/controls",
            "_model_module_version": "1.5.0",
            "_model_name": "ProgressStyleModel",
            "_view_count": null,
            "_view_module": "@jupyter-widgets/base",
            "_view_module_version": "1.2.0",
            "_view_name": "StyleView",
            "bar_color": null,
            "description_width": ""
          }
        },
        "a7124f3a30974460aed9bf5095956b92": {
          "model_module": "@jupyter-widgets/base",
          "model_name": "LayoutModel",
          "model_module_version": "1.2.0",
          "state": {
            "_model_module": "@jupyter-widgets/base",
            "_model_module_version": "1.2.0",
            "_model_name": "LayoutModel",
            "_view_count": null,
            "_view_module": "@jupyter-widgets/base",
            "_view_module_version": "1.2.0",
            "_view_name": "LayoutView",
            "align_content": null,
            "align_items": null,
            "align_self": null,
            "border": null,
            "bottom": null,
            "display": null,
            "flex": null,
            "flex_flow": null,
            "grid_area": null,
            "grid_auto_columns": null,
            "grid_auto_flow": null,
            "grid_auto_rows": null,
            "grid_column": null,
            "grid_gap": null,
            "grid_row": null,
            "grid_template_areas": null,
            "grid_template_columns": null,
            "grid_template_rows": null,
            "height": null,
            "justify_content": null,
            "justify_items": null,
            "left": null,
            "margin": null,
            "max_height": null,
            "max_width": null,
            "min_height": null,
            "min_width": null,
            "object_fit": null,
            "object_position": null,
            "order": null,
            "overflow": null,
            "overflow_x": null,
            "overflow_y": null,
            "padding": null,
            "right": null,
            "top": null,
            "visibility": null,
            "width": null
          }
        },
        "ad86e39edcd74483b59aacd082861ef4": {
          "model_module": "@jupyter-widgets/controls",
          "model_name": "DescriptionStyleModel",
          "model_module_version": "1.5.0",
          "state": {
            "_model_module": "@jupyter-widgets/controls",
            "_model_module_version": "1.5.0",
            "_model_name": "DescriptionStyleModel",
            "_view_count": null,
            "_view_module": "@jupyter-widgets/base",
            "_view_module_version": "1.2.0",
            "_view_name": "StyleView",
            "description_width": ""
          }
        },
        "d089b22276b74a769191688be212dc01": {
          "model_module": "@jupyter-widgets/controls",
          "model_name": "HBoxModel",
          "model_module_version": "1.5.0",
          "state": {
            "_dom_classes": [],
            "_model_module": "@jupyter-widgets/controls",
            "_model_module_version": "1.5.0",
            "_model_name": "HBoxModel",
            "_view_count": null,
            "_view_module": "@jupyter-widgets/controls",
            "_view_module_version": "1.5.0",
            "_view_name": "HBoxView",
            "box_style": "",
            "children": [
              "IPY_MODEL_5045fed9a8634bc7939336541ef26816",
              "IPY_MODEL_ee65f0eb383b4908b1211116bd7bc1a3",
              "IPY_MODEL_61355e7fc3b94f30b7f1c7f2c369ad91"
            ],
            "layout": "IPY_MODEL_20b9674c77d1480696f21e5610b63ca8"
          }
        },
        "5045fed9a8634bc7939336541ef26816": {
          "model_module": "@jupyter-widgets/controls",
          "model_name": "HTMLModel",
          "model_module_version": "1.5.0",
          "state": {
            "_dom_classes": [],
            "_model_module": "@jupyter-widgets/controls",
            "_model_module_version": "1.5.0",
            "_model_name": "HTMLModel",
            "_view_count": null,
            "_view_module": "@jupyter-widgets/controls",
            "_view_module_version": "1.5.0",
            "_view_name": "HTMLView",
            "description": "",
            "description_tooltip": null,
            "layout": "IPY_MODEL_19ab683e978449f88f0eb6e82083e096",
            "placeholder": "​",
            "style": "IPY_MODEL_941aa0b02cd84e07816761ff046a1ee8",
            "value": "config.json: 100%"
          }
        },
        "ee65f0eb383b4908b1211116bd7bc1a3": {
          "model_module": "@jupyter-widgets/controls",
          "model_name": "FloatProgressModel",
          "model_module_version": "1.5.0",
          "state": {
            "_dom_classes": [],
            "_model_module": "@jupyter-widgets/controls",
            "_model_module_version": "1.5.0",
            "_model_name": "FloatProgressModel",
            "_view_count": null,
            "_view_module": "@jupyter-widgets/controls",
            "_view_module_version": "1.5.0",
            "_view_name": "ProgressView",
            "bar_style": "success",
            "description": "",
            "description_tooltip": null,
            "layout": "IPY_MODEL_3a106b96491b4dc0a140655fc4814848",
            "max": 481,
            "min": 0,
            "orientation": "horizontal",
            "style": "IPY_MODEL_a101526352454503ab395f8260e1972f",
            "value": 481
          }
        },
        "61355e7fc3b94f30b7f1c7f2c369ad91": {
          "model_module": "@jupyter-widgets/controls",
          "model_name": "HTMLModel",
          "model_module_version": "1.5.0",
          "state": {
            "_dom_classes": [],
            "_model_module": "@jupyter-widgets/controls",
            "_model_module_version": "1.5.0",
            "_model_name": "HTMLModel",
            "_view_count": null,
            "_view_module": "@jupyter-widgets/controls",
            "_view_module_version": "1.5.0",
            "_view_name": "HTMLView",
            "description": "",
            "description_tooltip": null,
            "layout": "IPY_MODEL_38dff3c7dd864cefb42651ffead49927",
            "placeholder": "​",
            "style": "IPY_MODEL_0ed5b2c70d844ca9801b7dc8043116e1",
            "value": " 481/481 [00:00&lt;00:00, 19.9kB/s]"
          }
        },
        "20b9674c77d1480696f21e5610b63ca8": {
          "model_module": "@jupyter-widgets/base",
          "model_name": "LayoutModel",
          "model_module_version": "1.2.0",
          "state": {
            "_model_module": "@jupyter-widgets/base",
            "_model_module_version": "1.2.0",
            "_model_name": "LayoutModel",
            "_view_count": null,
            "_view_module": "@jupyter-widgets/base",
            "_view_module_version": "1.2.0",
            "_view_name": "LayoutView",
            "align_content": null,
            "align_items": null,
            "align_self": null,
            "border": null,
            "bottom": null,
            "display": null,
            "flex": null,
            "flex_flow": null,
            "grid_area": null,
            "grid_auto_columns": null,
            "grid_auto_flow": null,
            "grid_auto_rows": null,
            "grid_column": null,
            "grid_gap": null,
            "grid_row": null,
            "grid_template_areas": null,
            "grid_template_columns": null,
            "grid_template_rows": null,
            "height": null,
            "justify_content": null,
            "justify_items": null,
            "left": null,
            "margin": null,
            "max_height": null,
            "max_width": null,
            "min_height": null,
            "min_width": null,
            "object_fit": null,
            "object_position": null,
            "order": null,
            "overflow": null,
            "overflow_x": null,
            "overflow_y": null,
            "padding": null,
            "right": null,
            "top": null,
            "visibility": null,
            "width": null
          }
        },
        "19ab683e978449f88f0eb6e82083e096": {
          "model_module": "@jupyter-widgets/base",
          "model_name": "LayoutModel",
          "model_module_version": "1.2.0",
          "state": {
            "_model_module": "@jupyter-widgets/base",
            "_model_module_version": "1.2.0",
            "_model_name": "LayoutModel",
            "_view_count": null,
            "_view_module": "@jupyter-widgets/base",
            "_view_module_version": "1.2.0",
            "_view_name": "LayoutView",
            "align_content": null,
            "align_items": null,
            "align_self": null,
            "border": null,
            "bottom": null,
            "display": null,
            "flex": null,
            "flex_flow": null,
            "grid_area": null,
            "grid_auto_columns": null,
            "grid_auto_flow": null,
            "grid_auto_rows": null,
            "grid_column": null,
            "grid_gap": null,
            "grid_row": null,
            "grid_template_areas": null,
            "grid_template_columns": null,
            "grid_template_rows": null,
            "height": null,
            "justify_content": null,
            "justify_items": null,
            "left": null,
            "margin": null,
            "max_height": null,
            "max_width": null,
            "min_height": null,
            "min_width": null,
            "object_fit": null,
            "object_position": null,
            "order": null,
            "overflow": null,
            "overflow_x": null,
            "overflow_y": null,
            "padding": null,
            "right": null,
            "top": null,
            "visibility": null,
            "width": null
          }
        },
        "941aa0b02cd84e07816761ff046a1ee8": {
          "model_module": "@jupyter-widgets/controls",
          "model_name": "DescriptionStyleModel",
          "model_module_version": "1.5.0",
          "state": {
            "_model_module": "@jupyter-widgets/controls",
            "_model_module_version": "1.5.0",
            "_model_name": "DescriptionStyleModel",
            "_view_count": null,
            "_view_module": "@jupyter-widgets/base",
            "_view_module_version": "1.2.0",
            "_view_name": "StyleView",
            "description_width": ""
          }
        },
        "3a106b96491b4dc0a140655fc4814848": {
          "model_module": "@jupyter-widgets/base",
          "model_name": "LayoutModel",
          "model_module_version": "1.2.0",
          "state": {
            "_model_module": "@jupyter-widgets/base",
            "_model_module_version": "1.2.0",
            "_model_name": "LayoutModel",
            "_view_count": null,
            "_view_module": "@jupyter-widgets/base",
            "_view_module_version": "1.2.0",
            "_view_name": "LayoutView",
            "align_content": null,
            "align_items": null,
            "align_self": null,
            "border": null,
            "bottom": null,
            "display": null,
            "flex": null,
            "flex_flow": null,
            "grid_area": null,
            "grid_auto_columns": null,
            "grid_auto_flow": null,
            "grid_auto_rows": null,
            "grid_column": null,
            "grid_gap": null,
            "grid_row": null,
            "grid_template_areas": null,
            "grid_template_columns": null,
            "grid_template_rows": null,
            "height": null,
            "justify_content": null,
            "justify_items": null,
            "left": null,
            "margin": null,
            "max_height": null,
            "max_width": null,
            "min_height": null,
            "min_width": null,
            "object_fit": null,
            "object_position": null,
            "order": null,
            "overflow": null,
            "overflow_x": null,
            "overflow_y": null,
            "padding": null,
            "right": null,
            "top": null,
            "visibility": null,
            "width": null
          }
        },
        "a101526352454503ab395f8260e1972f": {
          "model_module": "@jupyter-widgets/controls",
          "model_name": "ProgressStyleModel",
          "model_module_version": "1.5.0",
          "state": {
            "_model_module": "@jupyter-widgets/controls",
            "_model_module_version": "1.5.0",
            "_model_name": "ProgressStyleModel",
            "_view_count": null,
            "_view_module": "@jupyter-widgets/base",
            "_view_module_version": "1.2.0",
            "_view_name": "StyleView",
            "bar_color": null,
            "description_width": ""
          }
        },
        "38dff3c7dd864cefb42651ffead49927": {
          "model_module": "@jupyter-widgets/base",
          "model_name": "LayoutModel",
          "model_module_version": "1.2.0",
          "state": {
            "_model_module": "@jupyter-widgets/base",
            "_model_module_version": "1.2.0",
            "_model_name": "LayoutModel",
            "_view_count": null,
            "_view_module": "@jupyter-widgets/base",
            "_view_module_version": "1.2.0",
            "_view_name": "LayoutView",
            "align_content": null,
            "align_items": null,
            "align_self": null,
            "border": null,
            "bottom": null,
            "display": null,
            "flex": null,
            "flex_flow": null,
            "grid_area": null,
            "grid_auto_columns": null,
            "grid_auto_flow": null,
            "grid_auto_rows": null,
            "grid_column": null,
            "grid_gap": null,
            "grid_row": null,
            "grid_template_areas": null,
            "grid_template_columns": null,
            "grid_template_rows": null,
            "height": null,
            "justify_content": null,
            "justify_items": null,
            "left": null,
            "margin": null,
            "max_height": null,
            "max_width": null,
            "min_height": null,
            "min_width": null,
            "object_fit": null,
            "object_position": null,
            "order": null,
            "overflow": null,
            "overflow_x": null,
            "overflow_y": null,
            "padding": null,
            "right": null,
            "top": null,
            "visibility": null,
            "width": null
          }
        },
        "0ed5b2c70d844ca9801b7dc8043116e1": {
          "model_module": "@jupyter-widgets/controls",
          "model_name": "DescriptionStyleModel",
          "model_module_version": "1.5.0",
          "state": {
            "_model_module": "@jupyter-widgets/controls",
            "_model_module_version": "1.5.0",
            "_model_name": "DescriptionStyleModel",
            "_view_count": null,
            "_view_module": "@jupyter-widgets/base",
            "_view_module_version": "1.2.0",
            "_view_name": "StyleView",
            "description_width": ""
          }
        },
        "92c1c4e3b9b94695b0bf276c0ec6e3a5": {
          "model_module": "@jupyter-widgets/controls",
          "model_name": "HBoxModel",
          "model_module_version": "1.5.0",
          "state": {
            "_dom_classes": [],
            "_model_module": "@jupyter-widgets/controls",
            "_model_module_version": "1.5.0",
            "_model_name": "HBoxModel",
            "_view_count": null,
            "_view_module": "@jupyter-widgets/controls",
            "_view_module_version": "1.5.0",
            "_view_name": "HBoxView",
            "box_style": "",
            "children": [
              "IPY_MODEL_017c565d8f444b7b92cdc5c2f00cbb8e",
              "IPY_MODEL_0a26a468753246a5b55af8c48fd29744",
              "IPY_MODEL_83bd0732d14f49c4978c5c9878033870"
            ],
            "layout": "IPY_MODEL_27038480224941e6a4be6fa144d0c49d"
          }
        },
        "017c565d8f444b7b92cdc5c2f00cbb8e": {
          "model_module": "@jupyter-widgets/controls",
          "model_name": "HTMLModel",
          "model_module_version": "1.5.0",
          "state": {
            "_dom_classes": [],
            "_model_module": "@jupyter-widgets/controls",
            "_model_module_version": "1.5.0",
            "_model_name": "HTMLModel",
            "_view_count": null,
            "_view_module": "@jupyter-widgets/controls",
            "_view_module_version": "1.5.0",
            "_view_name": "HTMLView",
            "description": "",
            "description_tooltip": null,
            "layout": "IPY_MODEL_48169325d0704043989e37c8183c3aa2",
            "placeholder": "​",
            "style": "IPY_MODEL_119e5484d375466688fb8717aa75eb95",
            "value": "tokenizer_config.json: 100%"
          }
        },
        "0a26a468753246a5b55af8c48fd29744": {
          "model_module": "@jupyter-widgets/controls",
          "model_name": "FloatProgressModel",
          "model_module_version": "1.5.0",
          "state": {
            "_dom_classes": [],
            "_model_module": "@jupyter-widgets/controls",
            "_model_module_version": "1.5.0",
            "_model_name": "FloatProgressModel",
            "_view_count": null,
            "_view_module": "@jupyter-widgets/controls",
            "_view_module_version": "1.5.0",
            "_view_name": "ProgressView",
            "bar_style": "success",
            "description": "",
            "description_tooltip": null,
            "layout": "IPY_MODEL_cc793c4b1c2c49dd956bb313581d818f",
            "max": 25,
            "min": 0,
            "orientation": "horizontal",
            "style": "IPY_MODEL_c8dd165fabff4703a34de3cf532d02bd",
            "value": 25
          }
        },
        "83bd0732d14f49c4978c5c9878033870": {
          "model_module": "@jupyter-widgets/controls",
          "model_name": "HTMLModel",
          "model_module_version": "1.5.0",
          "state": {
            "_dom_classes": [],
            "_model_module": "@jupyter-widgets/controls",
            "_model_module_version": "1.5.0",
            "_model_name": "HTMLModel",
            "_view_count": null,
            "_view_module": "@jupyter-widgets/controls",
            "_view_module_version": "1.5.0",
            "_view_name": "HTMLView",
            "description": "",
            "description_tooltip": null,
            "layout": "IPY_MODEL_878184cbd4314c3ca8e3a77bea691758",
            "placeholder": "​",
            "style": "IPY_MODEL_7ce45d93289a4be1abd2455ae00dc27c",
            "value": " 25.0/25.0 [00:00&lt;00:00, 1.63kB/s]"
          }
        },
        "27038480224941e6a4be6fa144d0c49d": {
          "model_module": "@jupyter-widgets/base",
          "model_name": "LayoutModel",
          "model_module_version": "1.2.0",
          "state": {
            "_model_module": "@jupyter-widgets/base",
            "_model_module_version": "1.2.0",
            "_model_name": "LayoutModel",
            "_view_count": null,
            "_view_module": "@jupyter-widgets/base",
            "_view_module_version": "1.2.0",
            "_view_name": "LayoutView",
            "align_content": null,
            "align_items": null,
            "align_self": null,
            "border": null,
            "bottom": null,
            "display": null,
            "flex": null,
            "flex_flow": null,
            "grid_area": null,
            "grid_auto_columns": null,
            "grid_auto_flow": null,
            "grid_auto_rows": null,
            "grid_column": null,
            "grid_gap": null,
            "grid_row": null,
            "grid_template_areas": null,
            "grid_template_columns": null,
            "grid_template_rows": null,
            "height": null,
            "justify_content": null,
            "justify_items": null,
            "left": null,
            "margin": null,
            "max_height": null,
            "max_width": null,
            "min_height": null,
            "min_width": null,
            "object_fit": null,
            "object_position": null,
            "order": null,
            "overflow": null,
            "overflow_x": null,
            "overflow_y": null,
            "padding": null,
            "right": null,
            "top": null,
            "visibility": null,
            "width": null
          }
        },
        "48169325d0704043989e37c8183c3aa2": {
          "model_module": "@jupyter-widgets/base",
          "model_name": "LayoutModel",
          "model_module_version": "1.2.0",
          "state": {
            "_model_module": "@jupyter-widgets/base",
            "_model_module_version": "1.2.0",
            "_model_name": "LayoutModel",
            "_view_count": null,
            "_view_module": "@jupyter-widgets/base",
            "_view_module_version": "1.2.0",
            "_view_name": "LayoutView",
            "align_content": null,
            "align_items": null,
            "align_self": null,
            "border": null,
            "bottom": null,
            "display": null,
            "flex": null,
            "flex_flow": null,
            "grid_area": null,
            "grid_auto_columns": null,
            "grid_auto_flow": null,
            "grid_auto_rows": null,
            "grid_column": null,
            "grid_gap": null,
            "grid_row": null,
            "grid_template_areas": null,
            "grid_template_columns": null,
            "grid_template_rows": null,
            "height": null,
            "justify_content": null,
            "justify_items": null,
            "left": null,
            "margin": null,
            "max_height": null,
            "max_width": null,
            "min_height": null,
            "min_width": null,
            "object_fit": null,
            "object_position": null,
            "order": null,
            "overflow": null,
            "overflow_x": null,
            "overflow_y": null,
            "padding": null,
            "right": null,
            "top": null,
            "visibility": null,
            "width": null
          }
        },
        "119e5484d375466688fb8717aa75eb95": {
          "model_module": "@jupyter-widgets/controls",
          "model_name": "DescriptionStyleModel",
          "model_module_version": "1.5.0",
          "state": {
            "_model_module": "@jupyter-widgets/controls",
            "_model_module_version": "1.5.0",
            "_model_name": "DescriptionStyleModel",
            "_view_count": null,
            "_view_module": "@jupyter-widgets/base",
            "_view_module_version": "1.2.0",
            "_view_name": "StyleView",
            "description_width": ""
          }
        },
        "cc793c4b1c2c49dd956bb313581d818f": {
          "model_module": "@jupyter-widgets/base",
          "model_name": "LayoutModel",
          "model_module_version": "1.2.0",
          "state": {
            "_model_module": "@jupyter-widgets/base",
            "_model_module_version": "1.2.0",
            "_model_name": "LayoutModel",
            "_view_count": null,
            "_view_module": "@jupyter-widgets/base",
            "_view_module_version": "1.2.0",
            "_view_name": "LayoutView",
            "align_content": null,
            "align_items": null,
            "align_self": null,
            "border": null,
            "bottom": null,
            "display": null,
            "flex": null,
            "flex_flow": null,
            "grid_area": null,
            "grid_auto_columns": null,
            "grid_auto_flow": null,
            "grid_auto_rows": null,
            "grid_column": null,
            "grid_gap": null,
            "grid_row": null,
            "grid_template_areas": null,
            "grid_template_columns": null,
            "grid_template_rows": null,
            "height": null,
            "justify_content": null,
            "justify_items": null,
            "left": null,
            "margin": null,
            "max_height": null,
            "max_width": null,
            "min_height": null,
            "min_width": null,
            "object_fit": null,
            "object_position": null,
            "order": null,
            "overflow": null,
            "overflow_x": null,
            "overflow_y": null,
            "padding": null,
            "right": null,
            "top": null,
            "visibility": null,
            "width": null
          }
        },
        "c8dd165fabff4703a34de3cf532d02bd": {
          "model_module": "@jupyter-widgets/controls",
          "model_name": "ProgressStyleModel",
          "model_module_version": "1.5.0",
          "state": {
            "_model_module": "@jupyter-widgets/controls",
            "_model_module_version": "1.5.0",
            "_model_name": "ProgressStyleModel",
            "_view_count": null,
            "_view_module": "@jupyter-widgets/base",
            "_view_module_version": "1.2.0",
            "_view_name": "StyleView",
            "bar_color": null,
            "description_width": ""
          }
        },
        "878184cbd4314c3ca8e3a77bea691758": {
          "model_module": "@jupyter-widgets/base",
          "model_name": "LayoutModel",
          "model_module_version": "1.2.0",
          "state": {
            "_model_module": "@jupyter-widgets/base",
            "_model_module_version": "1.2.0",
            "_model_name": "LayoutModel",
            "_view_count": null,
            "_view_module": "@jupyter-widgets/base",
            "_view_module_version": "1.2.0",
            "_view_name": "LayoutView",
            "align_content": null,
            "align_items": null,
            "align_self": null,
            "border": null,
            "bottom": null,
            "display": null,
            "flex": null,
            "flex_flow": null,
            "grid_area": null,
            "grid_auto_columns": null,
            "grid_auto_flow": null,
            "grid_auto_rows": null,
            "grid_column": null,
            "grid_gap": null,
            "grid_row": null,
            "grid_template_areas": null,
            "grid_template_columns": null,
            "grid_template_rows": null,
            "height": null,
            "justify_content": null,
            "justify_items": null,
            "left": null,
            "margin": null,
            "max_height": null,
            "max_width": null,
            "min_height": null,
            "min_width": null,
            "object_fit": null,
            "object_position": null,
            "order": null,
            "overflow": null,
            "overflow_x": null,
            "overflow_y": null,
            "padding": null,
            "right": null,
            "top": null,
            "visibility": null,
            "width": null
          }
        },
        "7ce45d93289a4be1abd2455ae00dc27c": {
          "model_module": "@jupyter-widgets/controls",
          "model_name": "DescriptionStyleModel",
          "model_module_version": "1.5.0",
          "state": {
            "_model_module": "@jupyter-widgets/controls",
            "_model_module_version": "1.5.0",
            "_model_name": "DescriptionStyleModel",
            "_view_count": null,
            "_view_module": "@jupyter-widgets/base",
            "_view_module_version": "1.2.0",
            "_view_name": "StyleView",
            "description_width": ""
          }
        },
        "7caecf354aeb4d848aabff75a5c2e4f8": {
          "model_module": "@jupyter-widgets/controls",
          "model_name": "HBoxModel",
          "model_module_version": "1.5.0",
          "state": {
            "_dom_classes": [],
            "_model_module": "@jupyter-widgets/controls",
            "_model_module_version": "1.5.0",
            "_model_name": "HBoxModel",
            "_view_count": null,
            "_view_module": "@jupyter-widgets/controls",
            "_view_module_version": "1.5.0",
            "_view_name": "HBoxView",
            "box_style": "",
            "children": [
              "IPY_MODEL_78e375d6dbf44e8eb2a742f9292a3f71",
              "IPY_MODEL_49bbb354f6054a34a89b8c37d4794c5b",
              "IPY_MODEL_a870afb7488a4f19b6dbe94688362c4e"
            ],
            "layout": "IPY_MODEL_a23509d064ee4ca9b47295b33e82cdd0"
          }
        },
        "78e375d6dbf44e8eb2a742f9292a3f71": {
          "model_module": "@jupyter-widgets/controls",
          "model_name": "HTMLModel",
          "model_module_version": "1.5.0",
          "state": {
            "_dom_classes": [],
            "_model_module": "@jupyter-widgets/controls",
            "_model_module_version": "1.5.0",
            "_model_name": "HTMLModel",
            "_view_count": null,
            "_view_module": "@jupyter-widgets/controls",
            "_view_module_version": "1.5.0",
            "_view_name": "HTMLView",
            "description": "",
            "description_tooltip": null,
            "layout": "IPY_MODEL_310b9f3a890b44659f98083e8db1e534",
            "placeholder": "​",
            "style": "IPY_MODEL_c82d2e26b0f24dd494979cc718157da4",
            "value": "vocab.json: 100%"
          }
        },
        "49bbb354f6054a34a89b8c37d4794c5b": {
          "model_module": "@jupyter-widgets/controls",
          "model_name": "FloatProgressModel",
          "model_module_version": "1.5.0",
          "state": {
            "_dom_classes": [],
            "_model_module": "@jupyter-widgets/controls",
            "_model_module_version": "1.5.0",
            "_model_name": "FloatProgressModel",
            "_view_count": null,
            "_view_module": "@jupyter-widgets/controls",
            "_view_module_version": "1.5.0",
            "_view_name": "ProgressView",
            "bar_style": "success",
            "description": "",
            "description_tooltip": null,
            "layout": "IPY_MODEL_b70b7c5f842d47b08b30551f23a4d10c",
            "max": 898823,
            "min": 0,
            "orientation": "horizontal",
            "style": "IPY_MODEL_acef4e37efcb4031afc081b4951e0f12",
            "value": 898823
          }
        },
        "a870afb7488a4f19b6dbe94688362c4e": {
          "model_module": "@jupyter-widgets/controls",
          "model_name": "HTMLModel",
          "model_module_version": "1.5.0",
          "state": {
            "_dom_classes": [],
            "_model_module": "@jupyter-widgets/controls",
            "_model_module_version": "1.5.0",
            "_model_name": "HTMLModel",
            "_view_count": null,
            "_view_module": "@jupyter-widgets/controls",
            "_view_module_version": "1.5.0",
            "_view_name": "HTMLView",
            "description": "",
            "description_tooltip": null,
            "layout": "IPY_MODEL_c661b790aaf44c27a57393cbd2b9a29c",
            "placeholder": "​",
            "style": "IPY_MODEL_821324f856514fe9b15f8db528b68e67",
            "value": " 899k/899k [00:00&lt;00:00, 2.03MB/s]"
          }
        },
        "a23509d064ee4ca9b47295b33e82cdd0": {
          "model_module": "@jupyter-widgets/base",
          "model_name": "LayoutModel",
          "model_module_version": "1.2.0",
          "state": {
            "_model_module": "@jupyter-widgets/base",
            "_model_module_version": "1.2.0",
            "_model_name": "LayoutModel",
            "_view_count": null,
            "_view_module": "@jupyter-widgets/base",
            "_view_module_version": "1.2.0",
            "_view_name": "LayoutView",
            "align_content": null,
            "align_items": null,
            "align_self": null,
            "border": null,
            "bottom": null,
            "display": null,
            "flex": null,
            "flex_flow": null,
            "grid_area": null,
            "grid_auto_columns": null,
            "grid_auto_flow": null,
            "grid_auto_rows": null,
            "grid_column": null,
            "grid_gap": null,
            "grid_row": null,
            "grid_template_areas": null,
            "grid_template_columns": null,
            "grid_template_rows": null,
            "height": null,
            "justify_content": null,
            "justify_items": null,
            "left": null,
            "margin": null,
            "max_height": null,
            "max_width": null,
            "min_height": null,
            "min_width": null,
            "object_fit": null,
            "object_position": null,
            "order": null,
            "overflow": null,
            "overflow_x": null,
            "overflow_y": null,
            "padding": null,
            "right": null,
            "top": null,
            "visibility": null,
            "width": null
          }
        },
        "310b9f3a890b44659f98083e8db1e534": {
          "model_module": "@jupyter-widgets/base",
          "model_name": "LayoutModel",
          "model_module_version": "1.2.0",
          "state": {
            "_model_module": "@jupyter-widgets/base",
            "_model_module_version": "1.2.0",
            "_model_name": "LayoutModel",
            "_view_count": null,
            "_view_module": "@jupyter-widgets/base",
            "_view_module_version": "1.2.0",
            "_view_name": "LayoutView",
            "align_content": null,
            "align_items": null,
            "align_self": null,
            "border": null,
            "bottom": null,
            "display": null,
            "flex": null,
            "flex_flow": null,
            "grid_area": null,
            "grid_auto_columns": null,
            "grid_auto_flow": null,
            "grid_auto_rows": null,
            "grid_column": null,
            "grid_gap": null,
            "grid_row": null,
            "grid_template_areas": null,
            "grid_template_columns": null,
            "grid_template_rows": null,
            "height": null,
            "justify_content": null,
            "justify_items": null,
            "left": null,
            "margin": null,
            "max_height": null,
            "max_width": null,
            "min_height": null,
            "min_width": null,
            "object_fit": null,
            "object_position": null,
            "order": null,
            "overflow": null,
            "overflow_x": null,
            "overflow_y": null,
            "padding": null,
            "right": null,
            "top": null,
            "visibility": null,
            "width": null
          }
        },
        "c82d2e26b0f24dd494979cc718157da4": {
          "model_module": "@jupyter-widgets/controls",
          "model_name": "DescriptionStyleModel",
          "model_module_version": "1.5.0",
          "state": {
            "_model_module": "@jupyter-widgets/controls",
            "_model_module_version": "1.5.0",
            "_model_name": "DescriptionStyleModel",
            "_view_count": null,
            "_view_module": "@jupyter-widgets/base",
            "_view_module_version": "1.2.0",
            "_view_name": "StyleView",
            "description_width": ""
          }
        },
        "b70b7c5f842d47b08b30551f23a4d10c": {
          "model_module": "@jupyter-widgets/base",
          "model_name": "LayoutModel",
          "model_module_version": "1.2.0",
          "state": {
            "_model_module": "@jupyter-widgets/base",
            "_model_module_version": "1.2.0",
            "_model_name": "LayoutModel",
            "_view_count": null,
            "_view_module": "@jupyter-widgets/base",
            "_view_module_version": "1.2.0",
            "_view_name": "LayoutView",
            "align_content": null,
            "align_items": null,
            "align_self": null,
            "border": null,
            "bottom": null,
            "display": null,
            "flex": null,
            "flex_flow": null,
            "grid_area": null,
            "grid_auto_columns": null,
            "grid_auto_flow": null,
            "grid_auto_rows": null,
            "grid_column": null,
            "grid_gap": null,
            "grid_row": null,
            "grid_template_areas": null,
            "grid_template_columns": null,
            "grid_template_rows": null,
            "height": null,
            "justify_content": null,
            "justify_items": null,
            "left": null,
            "margin": null,
            "max_height": null,
            "max_width": null,
            "min_height": null,
            "min_width": null,
            "object_fit": null,
            "object_position": null,
            "order": null,
            "overflow": null,
            "overflow_x": null,
            "overflow_y": null,
            "padding": null,
            "right": null,
            "top": null,
            "visibility": null,
            "width": null
          }
        },
        "acef4e37efcb4031afc081b4951e0f12": {
          "model_module": "@jupyter-widgets/controls",
          "model_name": "ProgressStyleModel",
          "model_module_version": "1.5.0",
          "state": {
            "_model_module": "@jupyter-widgets/controls",
            "_model_module_version": "1.5.0",
            "_model_name": "ProgressStyleModel",
            "_view_count": null,
            "_view_module": "@jupyter-widgets/base",
            "_view_module_version": "1.2.0",
            "_view_name": "StyleView",
            "bar_color": null,
            "description_width": ""
          }
        },
        "c661b790aaf44c27a57393cbd2b9a29c": {
          "model_module": "@jupyter-widgets/base",
          "model_name": "LayoutModel",
          "model_module_version": "1.2.0",
          "state": {
            "_model_module": "@jupyter-widgets/base",
            "_model_module_version": "1.2.0",
            "_model_name": "LayoutModel",
            "_view_count": null,
            "_view_module": "@jupyter-widgets/base",
            "_view_module_version": "1.2.0",
            "_view_name": "LayoutView",
            "align_content": null,
            "align_items": null,
            "align_self": null,
            "border": null,
            "bottom": null,
            "display": null,
            "flex": null,
            "flex_flow": null,
            "grid_area": null,
            "grid_auto_columns": null,
            "grid_auto_flow": null,
            "grid_auto_rows": null,
            "grid_column": null,
            "grid_gap": null,
            "grid_row": null,
            "grid_template_areas": null,
            "grid_template_columns": null,
            "grid_template_rows": null,
            "height": null,
            "justify_content": null,
            "justify_items": null,
            "left": null,
            "margin": null,
            "max_height": null,
            "max_width": null,
            "min_height": null,
            "min_width": null,
            "object_fit": null,
            "object_position": null,
            "order": null,
            "overflow": null,
            "overflow_x": null,
            "overflow_y": null,
            "padding": null,
            "right": null,
            "top": null,
            "visibility": null,
            "width": null
          }
        },
        "821324f856514fe9b15f8db528b68e67": {
          "model_module": "@jupyter-widgets/controls",
          "model_name": "DescriptionStyleModel",
          "model_module_version": "1.5.0",
          "state": {
            "_model_module": "@jupyter-widgets/controls",
            "_model_module_version": "1.5.0",
            "_model_name": "DescriptionStyleModel",
            "_view_count": null,
            "_view_module": "@jupyter-widgets/base",
            "_view_module_version": "1.2.0",
            "_view_name": "StyleView",
            "description_width": ""
          }
        },
        "4b0b08ce0587416687db411426b77c71": {
          "model_module": "@jupyter-widgets/controls",
          "model_name": "HBoxModel",
          "model_module_version": "1.5.0",
          "state": {
            "_dom_classes": [],
            "_model_module": "@jupyter-widgets/controls",
            "_model_module_version": "1.5.0",
            "_model_name": "HBoxModel",
            "_view_count": null,
            "_view_module": "@jupyter-widgets/controls",
            "_view_module_version": "1.5.0",
            "_view_name": "HBoxView",
            "box_style": "",
            "children": [
              "IPY_MODEL_16c2fbcffd224a158b3449e7b4622dc8",
              "IPY_MODEL_d0aedea84f2b450fb3b3d901cb87932c",
              "IPY_MODEL_3fc3d367e05d429ab8691c1ba903d1a2"
            ],
            "layout": "IPY_MODEL_10f8323913f94728a53c0b3a883089fa"
          }
        },
        "16c2fbcffd224a158b3449e7b4622dc8": {
          "model_module": "@jupyter-widgets/controls",
          "model_name": "HTMLModel",
          "model_module_version": "1.5.0",
          "state": {
            "_dom_classes": [],
            "_model_module": "@jupyter-widgets/controls",
            "_model_module_version": "1.5.0",
            "_model_name": "HTMLModel",
            "_view_count": null,
            "_view_module": "@jupyter-widgets/controls",
            "_view_module_version": "1.5.0",
            "_view_name": "HTMLView",
            "description": "",
            "description_tooltip": null,
            "layout": "IPY_MODEL_342dc2d787c547bb8de4ac46f736ee7a",
            "placeholder": "​",
            "style": "IPY_MODEL_30edf951cba24c08b718605cd2e01c3b",
            "value": "merges.txt: 100%"
          }
        },
        "d0aedea84f2b450fb3b3d901cb87932c": {
          "model_module": "@jupyter-widgets/controls",
          "model_name": "FloatProgressModel",
          "model_module_version": "1.5.0",
          "state": {
            "_dom_classes": [],
            "_model_module": "@jupyter-widgets/controls",
            "_model_module_version": "1.5.0",
            "_model_name": "FloatProgressModel",
            "_view_count": null,
            "_view_module": "@jupyter-widgets/controls",
            "_view_module_version": "1.5.0",
            "_view_name": "ProgressView",
            "bar_style": "success",
            "description": "",
            "description_tooltip": null,
            "layout": "IPY_MODEL_772cbd8ad6ef42c8ace43a8382101d6a",
            "max": 456318,
            "min": 0,
            "orientation": "horizontal",
            "style": "IPY_MODEL_fa11598880da49e49e73303821900274",
            "value": 456318
          }
        },
        "3fc3d367e05d429ab8691c1ba903d1a2": {
          "model_module": "@jupyter-widgets/controls",
          "model_name": "HTMLModel",
          "model_module_version": "1.5.0",
          "state": {
            "_dom_classes": [],
            "_model_module": "@jupyter-widgets/controls",
            "_model_module_version": "1.5.0",
            "_model_name": "HTMLModel",
            "_view_count": null,
            "_view_module": "@jupyter-widgets/controls",
            "_view_module_version": "1.5.0",
            "_view_name": "HTMLView",
            "description": "",
            "description_tooltip": null,
            "layout": "IPY_MODEL_5e7828c0211a4e6eacd072f763dc78a8",
            "placeholder": "​",
            "style": "IPY_MODEL_d74423418d0447bda15bbe7f20d2e98c",
            "value": " 456k/456k [00:00&lt;00:00, 2.15MB/s]"
          }
        },
        "10f8323913f94728a53c0b3a883089fa": {
          "model_module": "@jupyter-widgets/base",
          "model_name": "LayoutModel",
          "model_module_version": "1.2.0",
          "state": {
            "_model_module": "@jupyter-widgets/base",
            "_model_module_version": "1.2.0",
            "_model_name": "LayoutModel",
            "_view_count": null,
            "_view_module": "@jupyter-widgets/base",
            "_view_module_version": "1.2.0",
            "_view_name": "LayoutView",
            "align_content": null,
            "align_items": null,
            "align_self": null,
            "border": null,
            "bottom": null,
            "display": null,
            "flex": null,
            "flex_flow": null,
            "grid_area": null,
            "grid_auto_columns": null,
            "grid_auto_flow": null,
            "grid_auto_rows": null,
            "grid_column": null,
            "grid_gap": null,
            "grid_row": null,
            "grid_template_areas": null,
            "grid_template_columns": null,
            "grid_template_rows": null,
            "height": null,
            "justify_content": null,
            "justify_items": null,
            "left": null,
            "margin": null,
            "max_height": null,
            "max_width": null,
            "min_height": null,
            "min_width": null,
            "object_fit": null,
            "object_position": null,
            "order": null,
            "overflow": null,
            "overflow_x": null,
            "overflow_y": null,
            "padding": null,
            "right": null,
            "top": null,
            "visibility": null,
            "width": null
          }
        },
        "342dc2d787c547bb8de4ac46f736ee7a": {
          "model_module": "@jupyter-widgets/base",
          "model_name": "LayoutModel",
          "model_module_version": "1.2.0",
          "state": {
            "_model_module": "@jupyter-widgets/base",
            "_model_module_version": "1.2.0",
            "_model_name": "LayoutModel",
            "_view_count": null,
            "_view_module": "@jupyter-widgets/base",
            "_view_module_version": "1.2.0",
            "_view_name": "LayoutView",
            "align_content": null,
            "align_items": null,
            "align_self": null,
            "border": null,
            "bottom": null,
            "display": null,
            "flex": null,
            "flex_flow": null,
            "grid_area": null,
            "grid_auto_columns": null,
            "grid_auto_flow": null,
            "grid_auto_rows": null,
            "grid_column": null,
            "grid_gap": null,
            "grid_row": null,
            "grid_template_areas": null,
            "grid_template_columns": null,
            "grid_template_rows": null,
            "height": null,
            "justify_content": null,
            "justify_items": null,
            "left": null,
            "margin": null,
            "max_height": null,
            "max_width": null,
            "min_height": null,
            "min_width": null,
            "object_fit": null,
            "object_position": null,
            "order": null,
            "overflow": null,
            "overflow_x": null,
            "overflow_y": null,
            "padding": null,
            "right": null,
            "top": null,
            "visibility": null,
            "width": null
          }
        },
        "30edf951cba24c08b718605cd2e01c3b": {
          "model_module": "@jupyter-widgets/controls",
          "model_name": "DescriptionStyleModel",
          "model_module_version": "1.5.0",
          "state": {
            "_model_module": "@jupyter-widgets/controls",
            "_model_module_version": "1.5.0",
            "_model_name": "DescriptionStyleModel",
            "_view_count": null,
            "_view_module": "@jupyter-widgets/base",
            "_view_module_version": "1.2.0",
            "_view_name": "StyleView",
            "description_width": ""
          }
        },
        "772cbd8ad6ef42c8ace43a8382101d6a": {
          "model_module": "@jupyter-widgets/base",
          "model_name": "LayoutModel",
          "model_module_version": "1.2.0",
          "state": {
            "_model_module": "@jupyter-widgets/base",
            "_model_module_version": "1.2.0",
            "_model_name": "LayoutModel",
            "_view_count": null,
            "_view_module": "@jupyter-widgets/base",
            "_view_module_version": "1.2.0",
            "_view_name": "LayoutView",
            "align_content": null,
            "align_items": null,
            "align_self": null,
            "border": null,
            "bottom": null,
            "display": null,
            "flex": null,
            "flex_flow": null,
            "grid_area": null,
            "grid_auto_columns": null,
            "grid_auto_flow": null,
            "grid_auto_rows": null,
            "grid_column": null,
            "grid_gap": null,
            "grid_row": null,
            "grid_template_areas": null,
            "grid_template_columns": null,
            "grid_template_rows": null,
            "height": null,
            "justify_content": null,
            "justify_items": null,
            "left": null,
            "margin": null,
            "max_height": null,
            "max_width": null,
            "min_height": null,
            "min_width": null,
            "object_fit": null,
            "object_position": null,
            "order": null,
            "overflow": null,
            "overflow_x": null,
            "overflow_y": null,
            "padding": null,
            "right": null,
            "top": null,
            "visibility": null,
            "width": null
          }
        },
        "fa11598880da49e49e73303821900274": {
          "model_module": "@jupyter-widgets/controls",
          "model_name": "ProgressStyleModel",
          "model_module_version": "1.5.0",
          "state": {
            "_model_module": "@jupyter-widgets/controls",
            "_model_module_version": "1.5.0",
            "_model_name": "ProgressStyleModel",
            "_view_count": null,
            "_view_module": "@jupyter-widgets/base",
            "_view_module_version": "1.2.0",
            "_view_name": "StyleView",
            "bar_color": null,
            "description_width": ""
          }
        },
        "5e7828c0211a4e6eacd072f763dc78a8": {
          "model_module": "@jupyter-widgets/base",
          "model_name": "LayoutModel",
          "model_module_version": "1.2.0",
          "state": {
            "_model_module": "@jupyter-widgets/base",
            "_model_module_version": "1.2.0",
            "_model_name": "LayoutModel",
            "_view_count": null,
            "_view_module": "@jupyter-widgets/base",
            "_view_module_version": "1.2.0",
            "_view_name": "LayoutView",
            "align_content": null,
            "align_items": null,
            "align_self": null,
            "border": null,
            "bottom": null,
            "display": null,
            "flex": null,
            "flex_flow": null,
            "grid_area": null,
            "grid_auto_columns": null,
            "grid_auto_flow": null,
            "grid_auto_rows": null,
            "grid_column": null,
            "grid_gap": null,
            "grid_row": null,
            "grid_template_areas": null,
            "grid_template_columns": null,
            "grid_template_rows": null,
            "height": null,
            "justify_content": null,
            "justify_items": null,
            "left": null,
            "margin": null,
            "max_height": null,
            "max_width": null,
            "min_height": null,
            "min_width": null,
            "object_fit": null,
            "object_position": null,
            "order": null,
            "overflow": null,
            "overflow_x": null,
            "overflow_y": null,
            "padding": null,
            "right": null,
            "top": null,
            "visibility": null,
            "width": null
          }
        },
        "d74423418d0447bda15bbe7f20d2e98c": {
          "model_module": "@jupyter-widgets/controls",
          "model_name": "DescriptionStyleModel",
          "model_module_version": "1.5.0",
          "state": {
            "_model_module": "@jupyter-widgets/controls",
            "_model_module_version": "1.5.0",
            "_model_name": "DescriptionStyleModel",
            "_view_count": null,
            "_view_module": "@jupyter-widgets/base",
            "_view_module_version": "1.2.0",
            "_view_name": "StyleView",
            "description_width": ""
          }
        },
        "09aa8a04e830499e9b3493a0ecb253e6": {
          "model_module": "@jupyter-widgets/controls",
          "model_name": "HBoxModel",
          "model_module_version": "1.5.0",
          "state": {
            "_dom_classes": [],
            "_model_module": "@jupyter-widgets/controls",
            "_model_module_version": "1.5.0",
            "_model_name": "HBoxModel",
            "_view_count": null,
            "_view_module": "@jupyter-widgets/controls",
            "_view_module_version": "1.5.0",
            "_view_name": "HBoxView",
            "box_style": "",
            "children": [
              "IPY_MODEL_cf1696bf49854f74bcbd55a1a0bd10ef",
              "IPY_MODEL_da296ba9c26c40d6bfb2fd7e1a0d2d3f",
              "IPY_MODEL_a52d8e80598b40a5a5401dd663950c32"
            ],
            "layout": "IPY_MODEL_a7c4ae9cd6fc431fb87c64641ce29900"
          }
        },
        "cf1696bf49854f74bcbd55a1a0bd10ef": {
          "model_module": "@jupyter-widgets/controls",
          "model_name": "HTMLModel",
          "model_module_version": "1.5.0",
          "state": {
            "_dom_classes": [],
            "_model_module": "@jupyter-widgets/controls",
            "_model_module_version": "1.5.0",
            "_model_name": "HTMLModel",
            "_view_count": null,
            "_view_module": "@jupyter-widgets/controls",
            "_view_module_version": "1.5.0",
            "_view_name": "HTMLView",
            "description": "",
            "description_tooltip": null,
            "layout": "IPY_MODEL_3fd218dac4364eaa9fd0ba42aabf6ddf",
            "placeholder": "​",
            "style": "IPY_MODEL_1b1fda8146ed4979aa8880a56e62f5a0",
            "value": "tokenizer.json: 100%"
          }
        },
        "da296ba9c26c40d6bfb2fd7e1a0d2d3f": {
          "model_module": "@jupyter-widgets/controls",
          "model_name": "FloatProgressModel",
          "model_module_version": "1.5.0",
          "state": {
            "_dom_classes": [],
            "_model_module": "@jupyter-widgets/controls",
            "_model_module_version": "1.5.0",
            "_model_name": "FloatProgressModel",
            "_view_count": null,
            "_view_module": "@jupyter-widgets/controls",
            "_view_module_version": "1.5.0",
            "_view_name": "ProgressView",
            "bar_style": "success",
            "description": "",
            "description_tooltip": null,
            "layout": "IPY_MODEL_8ab24c976d304d3a9a52f9528337b721",
            "max": 1355863,
            "min": 0,
            "orientation": "horizontal",
            "style": "IPY_MODEL_5884755c23d34feb85fc0476beaf4733",
            "value": 1355863
          }
        },
        "a52d8e80598b40a5a5401dd663950c32": {
          "model_module": "@jupyter-widgets/controls",
          "model_name": "HTMLModel",
          "model_module_version": "1.5.0",
          "state": {
            "_dom_classes": [],
            "_model_module": "@jupyter-widgets/controls",
            "_model_module_version": "1.5.0",
            "_model_name": "HTMLModel",
            "_view_count": null,
            "_view_module": "@jupyter-widgets/controls",
            "_view_module_version": "1.5.0",
            "_view_name": "HTMLView",
            "description": "",
            "description_tooltip": null,
            "layout": "IPY_MODEL_fbe028105b144a7793058e06d6602bfb",
            "placeholder": "​",
            "style": "IPY_MODEL_e805e4dcde1540f085285e898396f0ab",
            "value": " 1.36M/1.36M [00:00&lt;00:00, 36.9MB/s]"
          }
        },
        "a7c4ae9cd6fc431fb87c64641ce29900": {
          "model_module": "@jupyter-widgets/base",
          "model_name": "LayoutModel",
          "model_module_version": "1.2.0",
          "state": {
            "_model_module": "@jupyter-widgets/base",
            "_model_module_version": "1.2.0",
            "_model_name": "LayoutModel",
            "_view_count": null,
            "_view_module": "@jupyter-widgets/base",
            "_view_module_version": "1.2.0",
            "_view_name": "LayoutView",
            "align_content": null,
            "align_items": null,
            "align_self": null,
            "border": null,
            "bottom": null,
            "display": null,
            "flex": null,
            "flex_flow": null,
            "grid_area": null,
            "grid_auto_columns": null,
            "grid_auto_flow": null,
            "grid_auto_rows": null,
            "grid_column": null,
            "grid_gap": null,
            "grid_row": null,
            "grid_template_areas": null,
            "grid_template_columns": null,
            "grid_template_rows": null,
            "height": null,
            "justify_content": null,
            "justify_items": null,
            "left": null,
            "margin": null,
            "max_height": null,
            "max_width": null,
            "min_height": null,
            "min_width": null,
            "object_fit": null,
            "object_position": null,
            "order": null,
            "overflow": null,
            "overflow_x": null,
            "overflow_y": null,
            "padding": null,
            "right": null,
            "top": null,
            "visibility": null,
            "width": null
          }
        },
        "3fd218dac4364eaa9fd0ba42aabf6ddf": {
          "model_module": "@jupyter-widgets/base",
          "model_name": "LayoutModel",
          "model_module_version": "1.2.0",
          "state": {
            "_model_module": "@jupyter-widgets/base",
            "_model_module_version": "1.2.0",
            "_model_name": "LayoutModel",
            "_view_count": null,
            "_view_module": "@jupyter-widgets/base",
            "_view_module_version": "1.2.0",
            "_view_name": "LayoutView",
            "align_content": null,
            "align_items": null,
            "align_self": null,
            "border": null,
            "bottom": null,
            "display": null,
            "flex": null,
            "flex_flow": null,
            "grid_area": null,
            "grid_auto_columns": null,
            "grid_auto_flow": null,
            "grid_auto_rows": null,
            "grid_column": null,
            "grid_gap": null,
            "grid_row": null,
            "grid_template_areas": null,
            "grid_template_columns": null,
            "grid_template_rows": null,
            "height": null,
            "justify_content": null,
            "justify_items": null,
            "left": null,
            "margin": null,
            "max_height": null,
            "max_width": null,
            "min_height": null,
            "min_width": null,
            "object_fit": null,
            "object_position": null,
            "order": null,
            "overflow": null,
            "overflow_x": null,
            "overflow_y": null,
            "padding": null,
            "right": null,
            "top": null,
            "visibility": null,
            "width": null
          }
        },
        "1b1fda8146ed4979aa8880a56e62f5a0": {
          "model_module": "@jupyter-widgets/controls",
          "model_name": "DescriptionStyleModel",
          "model_module_version": "1.5.0",
          "state": {
            "_model_module": "@jupyter-widgets/controls",
            "_model_module_version": "1.5.0",
            "_model_name": "DescriptionStyleModel",
            "_view_count": null,
            "_view_module": "@jupyter-widgets/base",
            "_view_module_version": "1.2.0",
            "_view_name": "StyleView",
            "description_width": ""
          }
        },
        "8ab24c976d304d3a9a52f9528337b721": {
          "model_module": "@jupyter-widgets/base",
          "model_name": "LayoutModel",
          "model_module_version": "1.2.0",
          "state": {
            "_model_module": "@jupyter-widgets/base",
            "_model_module_version": "1.2.0",
            "_model_name": "LayoutModel",
            "_view_count": null,
            "_view_module": "@jupyter-widgets/base",
            "_view_module_version": "1.2.0",
            "_view_name": "LayoutView",
            "align_content": null,
            "align_items": null,
            "align_self": null,
            "border": null,
            "bottom": null,
            "display": null,
            "flex": null,
            "flex_flow": null,
            "grid_area": null,
            "grid_auto_columns": null,
            "grid_auto_flow": null,
            "grid_auto_rows": null,
            "grid_column": null,
            "grid_gap": null,
            "grid_row": null,
            "grid_template_areas": null,
            "grid_template_columns": null,
            "grid_template_rows": null,
            "height": null,
            "justify_content": null,
            "justify_items": null,
            "left": null,
            "margin": null,
            "max_height": null,
            "max_width": null,
            "min_height": null,
            "min_width": null,
            "object_fit": null,
            "object_position": null,
            "order": null,
            "overflow": null,
            "overflow_x": null,
            "overflow_y": null,
            "padding": null,
            "right": null,
            "top": null,
            "visibility": null,
            "width": null
          }
        },
        "5884755c23d34feb85fc0476beaf4733": {
          "model_module": "@jupyter-widgets/controls",
          "model_name": "ProgressStyleModel",
          "model_module_version": "1.5.0",
          "state": {
            "_model_module": "@jupyter-widgets/controls",
            "_model_module_version": "1.5.0",
            "_model_name": "ProgressStyleModel",
            "_view_count": null,
            "_view_module": "@jupyter-widgets/base",
            "_view_module_version": "1.2.0",
            "_view_name": "StyleView",
            "bar_color": null,
            "description_width": ""
          }
        },
        "fbe028105b144a7793058e06d6602bfb": {
          "model_module": "@jupyter-widgets/base",
          "model_name": "LayoutModel",
          "model_module_version": "1.2.0",
          "state": {
            "_model_module": "@jupyter-widgets/base",
            "_model_module_version": "1.2.0",
            "_model_name": "LayoutModel",
            "_view_count": null,
            "_view_module": "@jupyter-widgets/base",
            "_view_module_version": "1.2.0",
            "_view_name": "LayoutView",
            "align_content": null,
            "align_items": null,
            "align_self": null,
            "border": null,
            "bottom": null,
            "display": null,
            "flex": null,
            "flex_flow": null,
            "grid_area": null,
            "grid_auto_columns": null,
            "grid_auto_flow": null,
            "grid_auto_rows": null,
            "grid_column": null,
            "grid_gap": null,
            "grid_row": null,
            "grid_template_areas": null,
            "grid_template_columns": null,
            "grid_template_rows": null,
            "height": null,
            "justify_content": null,
            "justify_items": null,
            "left": null,
            "margin": null,
            "max_height": null,
            "max_width": null,
            "min_height": null,
            "min_width": null,
            "object_fit": null,
            "object_position": null,
            "order": null,
            "overflow": null,
            "overflow_x": null,
            "overflow_y": null,
            "padding": null,
            "right": null,
            "top": null,
            "visibility": null,
            "width": null
          }
        },
        "e805e4dcde1540f085285e898396f0ab": {
          "model_module": "@jupyter-widgets/controls",
          "model_name": "DescriptionStyleModel",
          "model_module_version": "1.5.0",
          "state": {
            "_model_module": "@jupyter-widgets/controls",
            "_model_module_version": "1.5.0",
            "_model_name": "DescriptionStyleModel",
            "_view_count": null,
            "_view_module": "@jupyter-widgets/base",
            "_view_module_version": "1.2.0",
            "_view_name": "StyleView",
            "description_width": ""
          }
        },
        "93fff4650782462f89ec0e981dc2ff98": {
          "model_module": "@jupyter-widgets/controls",
          "model_name": "HBoxModel",
          "model_module_version": "1.5.0",
          "state": {
            "_dom_classes": [],
            "_model_module": "@jupyter-widgets/controls",
            "_model_module_version": "1.5.0",
            "_model_name": "HBoxModel",
            "_view_count": null,
            "_view_module": "@jupyter-widgets/controls",
            "_view_module_version": "1.5.0",
            "_view_name": "HBoxView",
            "box_style": "",
            "children": [
              "IPY_MODEL_008796e33f9c4046810c670c7863baa1",
              "IPY_MODEL_24199871f36849da892a946fc7b9a1b0",
              "IPY_MODEL_bf3491ec13de4cffbf7b076072ea66e9"
            ],
            "layout": "IPY_MODEL_581567ef435445d8a261ffd57134f1a9"
          }
        },
        "008796e33f9c4046810c670c7863baa1": {
          "model_module": "@jupyter-widgets/controls",
          "model_name": "HTMLModel",
          "model_module_version": "1.5.0",
          "state": {
            "_dom_classes": [],
            "_model_module": "@jupyter-widgets/controls",
            "_model_module_version": "1.5.0",
            "_model_name": "HTMLModel",
            "_view_count": null,
            "_view_module": "@jupyter-widgets/controls",
            "_view_module_version": "1.5.0",
            "_view_name": "HTMLView",
            "description": "",
            "description_tooltip": null,
            "layout": "IPY_MODEL_6a0f919126464bc89ec981863b3f9714",
            "placeholder": "​",
            "style": "IPY_MODEL_4322af41e1bf4ae7821c62bbe72d3401",
            "value": "model.safetensors: 100%"
          }
        },
        "24199871f36849da892a946fc7b9a1b0": {
          "model_module": "@jupyter-widgets/controls",
          "model_name": "FloatProgressModel",
          "model_module_version": "1.5.0",
          "state": {
            "_dom_classes": [],
            "_model_module": "@jupyter-widgets/controls",
            "_model_module_version": "1.5.0",
            "_model_name": "FloatProgressModel",
            "_view_count": null,
            "_view_module": "@jupyter-widgets/controls",
            "_view_module_version": "1.5.0",
            "_view_name": "ProgressView",
            "bar_style": "success",
            "description": "",
            "description_tooltip": null,
            "layout": "IPY_MODEL_21a161b5f12c44b6b59e840058bf5784",
            "max": 498818054,
            "min": 0,
            "orientation": "horizontal",
            "style": "IPY_MODEL_b9a8cc4b7b17440e99af282f5635fc3b",
            "value": 498818054
          }
        },
        "bf3491ec13de4cffbf7b076072ea66e9": {
          "model_module": "@jupyter-widgets/controls",
          "model_name": "HTMLModel",
          "model_module_version": "1.5.0",
          "state": {
            "_dom_classes": [],
            "_model_module": "@jupyter-widgets/controls",
            "_model_module_version": "1.5.0",
            "_model_name": "HTMLModel",
            "_view_count": null,
            "_view_module": "@jupyter-widgets/controls",
            "_view_module_version": "1.5.0",
            "_view_name": "HTMLView",
            "description": "",
            "description_tooltip": null,
            "layout": "IPY_MODEL_5cce624d7cdc4e0aa3ebf7155c843b78",
            "placeholder": "​",
            "style": "IPY_MODEL_54706965a23c4834909bd513da7aaf8c",
            "value": " 499M/499M [00:01&lt;00:00, 317MB/s]"
          }
        },
        "581567ef435445d8a261ffd57134f1a9": {
          "model_module": "@jupyter-widgets/base",
          "model_name": "LayoutModel",
          "model_module_version": "1.2.0",
          "state": {
            "_model_module": "@jupyter-widgets/base",
            "_model_module_version": "1.2.0",
            "_model_name": "LayoutModel",
            "_view_count": null,
            "_view_module": "@jupyter-widgets/base",
            "_view_module_version": "1.2.0",
            "_view_name": "LayoutView",
            "align_content": null,
            "align_items": null,
            "align_self": null,
            "border": null,
            "bottom": null,
            "display": null,
            "flex": null,
            "flex_flow": null,
            "grid_area": null,
            "grid_auto_columns": null,
            "grid_auto_flow": null,
            "grid_auto_rows": null,
            "grid_column": null,
            "grid_gap": null,
            "grid_row": null,
            "grid_template_areas": null,
            "grid_template_columns": null,
            "grid_template_rows": null,
            "height": null,
            "justify_content": null,
            "justify_items": null,
            "left": null,
            "margin": null,
            "max_height": null,
            "max_width": null,
            "min_height": null,
            "min_width": null,
            "object_fit": null,
            "object_position": null,
            "order": null,
            "overflow": null,
            "overflow_x": null,
            "overflow_y": null,
            "padding": null,
            "right": null,
            "top": null,
            "visibility": null,
            "width": null
          }
        },
        "6a0f919126464bc89ec981863b3f9714": {
          "model_module": "@jupyter-widgets/base",
          "model_name": "LayoutModel",
          "model_module_version": "1.2.0",
          "state": {
            "_model_module": "@jupyter-widgets/base",
            "_model_module_version": "1.2.0",
            "_model_name": "LayoutModel",
            "_view_count": null,
            "_view_module": "@jupyter-widgets/base",
            "_view_module_version": "1.2.0",
            "_view_name": "LayoutView",
            "align_content": null,
            "align_items": null,
            "align_self": null,
            "border": null,
            "bottom": null,
            "display": null,
            "flex": null,
            "flex_flow": null,
            "grid_area": null,
            "grid_auto_columns": null,
            "grid_auto_flow": null,
            "grid_auto_rows": null,
            "grid_column": null,
            "grid_gap": null,
            "grid_row": null,
            "grid_template_areas": null,
            "grid_template_columns": null,
            "grid_template_rows": null,
            "height": null,
            "justify_content": null,
            "justify_items": null,
            "left": null,
            "margin": null,
            "max_height": null,
            "max_width": null,
            "min_height": null,
            "min_width": null,
            "object_fit": null,
            "object_position": null,
            "order": null,
            "overflow": null,
            "overflow_x": null,
            "overflow_y": null,
            "padding": null,
            "right": null,
            "top": null,
            "visibility": null,
            "width": null
          }
        },
        "4322af41e1bf4ae7821c62bbe72d3401": {
          "model_module": "@jupyter-widgets/controls",
          "model_name": "DescriptionStyleModel",
          "model_module_version": "1.5.0",
          "state": {
            "_model_module": "@jupyter-widgets/controls",
            "_model_module_version": "1.5.0",
            "_model_name": "DescriptionStyleModel",
            "_view_count": null,
            "_view_module": "@jupyter-widgets/base",
            "_view_module_version": "1.2.0",
            "_view_name": "StyleView",
            "description_width": ""
          }
        },
        "21a161b5f12c44b6b59e840058bf5784": {
          "model_module": "@jupyter-widgets/base",
          "model_name": "LayoutModel",
          "model_module_version": "1.2.0",
          "state": {
            "_model_module": "@jupyter-widgets/base",
            "_model_module_version": "1.2.0",
            "_model_name": "LayoutModel",
            "_view_count": null,
            "_view_module": "@jupyter-widgets/base",
            "_view_module_version": "1.2.0",
            "_view_name": "LayoutView",
            "align_content": null,
            "align_items": null,
            "align_self": null,
            "border": null,
            "bottom": null,
            "display": null,
            "flex": null,
            "flex_flow": null,
            "grid_area": null,
            "grid_auto_columns": null,
            "grid_auto_flow": null,
            "grid_auto_rows": null,
            "grid_column": null,
            "grid_gap": null,
            "grid_row": null,
            "grid_template_areas": null,
            "grid_template_columns": null,
            "grid_template_rows": null,
            "height": null,
            "justify_content": null,
            "justify_items": null,
            "left": null,
            "margin": null,
            "max_height": null,
            "max_width": null,
            "min_height": null,
            "min_width": null,
            "object_fit": null,
            "object_position": null,
            "order": null,
            "overflow": null,
            "overflow_x": null,
            "overflow_y": null,
            "padding": null,
            "right": null,
            "top": null,
            "visibility": null,
            "width": null
          }
        },
        "b9a8cc4b7b17440e99af282f5635fc3b": {
          "model_module": "@jupyter-widgets/controls",
          "model_name": "ProgressStyleModel",
          "model_module_version": "1.5.0",
          "state": {
            "_model_module": "@jupyter-widgets/controls",
            "_model_module_version": "1.5.0",
            "_model_name": "ProgressStyleModel",
            "_view_count": null,
            "_view_module": "@jupyter-widgets/base",
            "_view_module_version": "1.2.0",
            "_view_name": "StyleView",
            "bar_color": null,
            "description_width": ""
          }
        },
        "5cce624d7cdc4e0aa3ebf7155c843b78": {
          "model_module": "@jupyter-widgets/base",
          "model_name": "LayoutModel",
          "model_module_version": "1.2.0",
          "state": {
            "_model_module": "@jupyter-widgets/base",
            "_model_module_version": "1.2.0",
            "_model_name": "LayoutModel",
            "_view_count": null,
            "_view_module": "@jupyter-widgets/base",
            "_view_module_version": "1.2.0",
            "_view_name": "LayoutView",
            "align_content": null,
            "align_items": null,
            "align_self": null,
            "border": null,
            "bottom": null,
            "display": null,
            "flex": null,
            "flex_flow": null,
            "grid_area": null,
            "grid_auto_columns": null,
            "grid_auto_flow": null,
            "grid_auto_rows": null,
            "grid_column": null,
            "grid_gap": null,
            "grid_row": null,
            "grid_template_areas": null,
            "grid_template_columns": null,
            "grid_template_rows": null,
            "height": null,
            "justify_content": null,
            "justify_items": null,
            "left": null,
            "margin": null,
            "max_height": null,
            "max_width": null,
            "min_height": null,
            "min_width": null,
            "object_fit": null,
            "object_position": null,
            "order": null,
            "overflow": null,
            "overflow_x": null,
            "overflow_y": null,
            "padding": null,
            "right": null,
            "top": null,
            "visibility": null,
            "width": null
          }
        },
        "54706965a23c4834909bd513da7aaf8c": {
          "model_module": "@jupyter-widgets/controls",
          "model_name": "DescriptionStyleModel",
          "model_module_version": "1.5.0",
          "state": {
            "_model_module": "@jupyter-widgets/controls",
            "_model_module_version": "1.5.0",
            "_model_name": "DescriptionStyleModel",
            "_view_count": null,
            "_view_module": "@jupyter-widgets/base",
            "_view_module_version": "1.2.0",
            "_view_name": "StyleView",
            "description_width": ""
          }
        }
      }
    }
  },
  "nbformat": 4,
  "nbformat_minor": 0
}